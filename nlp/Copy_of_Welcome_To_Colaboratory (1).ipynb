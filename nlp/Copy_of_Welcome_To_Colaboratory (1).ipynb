{
  "cells": [
    {
      "cell_type": "code",
      "source": [
        "from google.colab import drive\n",
        "drive.mount('/content/drive')"
      ],
      "metadata": {
        "id": "mV_NXmGZFv7R",
        "outputId": "e16f05e0-1bf6-4c06-fedb-b6c446a5aa2d",
        "colab": {
          "base_uri": "https://localhost:8080/"
        }
      },
      "execution_count": null,
      "outputs": [
        {
          "output_type": "stream",
          "name": "stdout",
          "text": [
            "Mounted at /content/drive\n"
          ]
        }
      ]
    },
    {
      "cell_type": "code",
      "source": [
        "import zipfile\n",
        "import os\n",
        "\n",
        "zip_path = '/content/drive/MyDrive/archive (1).zip'\n",
        "\n",
        "# Directory to extract the dataset\n",
        "extracted_path = '/content/dataset'"
      ],
      "metadata": {
        "id": "rhGzLY0SF2_v"
      },
      "execution_count": null,
      "outputs": []
    },
    {
      "cell_type": "code",
      "source": [
        "os.makedirs(extracted_path, exist_ok=True)\n",
        "\n",
        "with zipfile.ZipFile(zip_path, 'r') as zip_ref:\n",
        "    zip_ref.extractall(extracted_path)\n",
        "\n",
        "print(\"Dataset extracted.\")"
      ],
      "metadata": {
        "id": "7DcS_-EfF3GR",
        "outputId": "f19934f5-389e-465c-80cb-432e39c4d098",
        "colab": {
          "base_uri": "https://localhost:8080/"
        }
      },
      "execution_count": null,
      "outputs": [
        {
          "output_type": "stream",
          "name": "stdout",
          "text": [
            "Dataset extracted.\n"
          ]
        }
      ]
    },
    {
      "cell_type": "code",
      "source": [
        "extracted_files = os.listdir(extracted_path)\n",
        "print(\"Extracted files:\", extracted_files)"
      ],
      "metadata": {
        "id": "UeJy_gg8GRHu",
        "outputId": "bb784adb-c3c0-4691-eb8b-84a8cbbd7d16",
        "colab": {
          "base_uri": "https://localhost:8080/"
        }
      },
      "execution_count": null,
      "outputs": [
        {
          "output_type": "stream",
          "name": "stdout",
          "text": [
            "Extracted files: ['Alzheimer_s Dataset']\n"
          ]
        }
      ]
    },
    {
      "cell_type": "code",
      "source": [
        "train_folder = '/content/dataset/Alzheimer_s Dataset/train'\n",
        "test_folder = '/content/dataset/Alzheimer_s Dataset/test'\n"
      ],
      "metadata": {
        "id": "5dZ3OYWGGeJ5"
      },
      "execution_count": null,
      "outputs": []
    },
    {
      "cell_type": "code",
      "source": [
        "import os\n",
        "import shutil\n",
        "from sklearn.model_selection import train_test_split\n",
        "\n",
        "def copy_files(file_list, src_folder, dest_folder):\n",
        "    os.makedirs(dest_folder, exist_ok=True)\n",
        "    for file_name in file_list:\n",
        "        src_path = os.path.join(src_folder, file_name)\n",
        "        dest_path = os.path.join(dest_folder, file_name)\n",
        "        shutil.copy(src_path, dest_path)\n",
        "\n",
        "train_dataset = '/content/train_dataset'\n",
        "test_dataset = '/content/test_dataset'\n",
        "os.makedirs(train_dataset, exist_ok=True)\n",
        "os.makedirs(test_dataset, exist_ok=True)\n",
        "\n",
        "\n",
        "for class_folder in os.listdir(train_folder):\n",
        "    class_path = os.path.join(train_folder, class_folder)\n",
        "    if os.path.isdir(class_path):\n",
        "        images = os.listdir(class_path)\n",
        "        train_images, test_images = train_test_split(images, test_size=0.2, random_state=42)  # Adjust test_size as needed\n",
        "\n",
        "        copy_files(train_images, class_path, os.path.join(train_dataset, class_folder))\n",
        "        copy_files(test_images, class_path, os.path.join(test_dataset, class_folder))\n",
        "\n",
        "print(\"Dataset separation completed.\")\n"
      ],
      "metadata": {
        "id": "sjgT_a72G-4z",
        "outputId": "cfe84cf4-6d42-403f-e40c-748cafb7c582",
        "colab": {
          "base_uri": "https://localhost:8080/"
        }
      },
      "execution_count": null,
      "outputs": [
        {
          "output_type": "stream",
          "name": "stdout",
          "text": [
            "Dataset separation completed.\n"
          ]
        }
      ]
    },
    {
      "cell_type": "code",
      "source": [
        "len(train_images)"
      ],
      "metadata": {
        "id": "svshMBVtHfwN",
        "outputId": "5c035d15-3b1f-44a5-fe9e-f12d01281964",
        "colab": {
          "base_uri": "https://localhost:8080/"
        }
      },
      "execution_count": null,
      "outputs": [
        {
          "output_type": "execute_result",
          "data": {
            "text/plain": [
              "41"
            ]
          },
          "metadata": {},
          "execution_count": 16
        }
      ]
    },
    {
      "cell_type": "code",
      "source": [
        "len(test_images)"
      ],
      "metadata": {
        "id": "uXWqXjUzIk7Y",
        "outputId": "64cd9368-e38b-4ffa-998c-9a08a0da7e8c",
        "colab": {
          "base_uri": "https://localhost:8080/"
        }
      },
      "execution_count": null,
      "outputs": [
        {
          "output_type": "execute_result",
          "data": {
            "text/plain": [
              "11"
            ]
          },
          "metadata": {},
          "execution_count": 17
        }
      ]
    },
    {
      "cell_type": "code",
      "source": [],
      "metadata": {
        "id": "E1qHbvgOIu1l"
      },
      "execution_count": null,
      "outputs": []
    },
    {
      "cell_type": "code",
      "source": [
        "\n",
        "train_dataset = '/content/train_dataset'\n",
        "test_dataset = '/content/test_dataset'\n",
        "\n",
        "batch_size = 32\n",
        "input_shape = (224, 224)\n",
        "num_classes = 4\n",
        "epochs = 10\n"
      ],
      "metadata": {
        "id": "NZxrLxyAIu-Z"
      },
      "execution_count": null,
      "outputs": []
    },
    {
      "cell_type": "code",
      "source": [
        "import os\n",
        "import numpy as np\n",
        "import tensorflow as tf\n",
        "from tensorflow.keras.preprocessing.image import ImageDataGenerator\n",
        "from tensorflow.keras.applications import EfficientNetB0\n",
        "from tensorflow.keras.layers import GlobalAveragePooling2D, Dense\n",
        "from tensorflow.keras.models import Model\n"
      ],
      "metadata": {
        "id": "Ix_NQtZqJPL5"
      },
      "execution_count": null,
      "outputs": []
    },
    {
      "cell_type": "code",
      "source": [
        "train_datagen = ImageDataGenerator(\n",
        "    rescale=1.0/255.0,\n",
        "    rotation_range=20,\n",
        "    width_shift_range=0.2,\n",
        "    height_shift_range=0.2,\n",
        "    shear_range=0.2,\n",
        "    zoom_range=0.2,\n",
        "    horizontal_flip=True,\n",
        "    fill_mode='nearest'\n",
        ")\n",
        "\n",
        "test_datagen = ImageDataGenerator(rescale=1.0/255.0)\n",
        "\n",
        "train_generator = train_datagen.flow_from_directory(\n",
        "    train_dataset,\n",
        "    target_size=input_shape,\n",
        "    batch_size=batch_size,\n",
        "    class_mode='categorical'\n",
        ")\n",
        "\n",
        "test_generator = test_datagen.flow_from_directory(\n",
        "    test_dataset,\n",
        "    target_size=input_shape,\n",
        "    batch_size=batch_size,\n",
        "    class_mode='categorical'\n",
        ")\n"
      ],
      "metadata": {
        "id": "gj9mOcH7JBvt",
        "outputId": "38b5a3e9-e61c-434e-b1c7-763cded2304e",
        "colab": {
          "base_uri": "https://localhost:8080/"
        }
      },
      "execution_count": null,
      "outputs": [
        {
          "output_type": "stream",
          "name": "stdout",
          "text": [
            "Found 5117 images belonging to 4 classes.\n",
            "Found 1283 images belonging to 4 classes.\n"
          ]
        }
      ]
    },
    {
      "cell_type": "code",
      "source": [],
      "metadata": {
        "id": "0uOYswapJVP7"
      },
      "execution_count": null,
      "outputs": []
    },
    {
      "cell_type": "code",
      "source": [
        "base_model = EfficientNetB0(weights='imagenet', include_top=False, input_shape=(224, 224, 3))\n",
        "\n",
        "x = base_model.output\n",
        "x = GlobalAveragePooling2D()(x)\n",
        "x = Dense(1024, activation='relu')(x)\n",
        "predictions = Dense(num_classes, activation='softmax')(x)\n",
        "\n",
        "model = Model(inputs=base_model.input, outputs=predictions)\n",
        "\n",
        "for layer in base_model.layers:\n",
        "    layer.trainable = False\n",
        "\n",
        "model.compile(optimizer='adam', loss='categorical_crossentropy', metrics=['accuracy'])\n",
        "\n",
        "model.fit(train_generator, epochs=epochs, validation_data=test_generator)\n"
      ],
      "metadata": {
        "id": "WkJ8dE8_JVat",
        "outputId": "b5f04109-ed8e-4f07-f138-37f942fc3578",
        "colab": {
          "base_uri": "https://localhost:8080/"
        }
      },
      "execution_count": null,
      "outputs": [
        {
          "output_type": "stream",
          "name": "stdout",
          "text": [
            "Downloading data from https://storage.googleapis.com/keras-applications/efficientnetb0_notop.h5\n",
            "16705208/16705208 [==============================] - 0s 0us/step\n",
            "Epoch 1/10\n",
            "160/160 [==============================] - 668s 4s/step - loss: 1.0751 - accuracy: 0.4800 - val_loss: 1.1201 - val_accuracy: 0.3500\n",
            "Epoch 2/10\n",
            "160/160 [==============================] - 662s 4s/step - loss: 1.0562 - accuracy: 0.4847 - val_loss: 1.0514 - val_accuracy: 0.4988\n",
            "Epoch 3/10\n",
            "160/160 [==============================] - 622s 4s/step - loss: 1.0520 - accuracy: 0.4892 - val_loss: 1.0443 - val_accuracy: 0.4988\n",
            "Epoch 4/10\n",
            "160/160 [==============================] - 648s 4s/step - loss: 1.0441 - accuracy: 0.4901 - val_loss: 1.0578 - val_accuracy: 0.4988\n",
            "Epoch 5/10\n",
            "160/160 [==============================] - 609s 4s/step - loss: 1.0390 - accuracy: 0.5003 - val_loss: 1.0449 - val_accuracy: 0.4988\n",
            "Epoch 6/10\n",
            "160/160 [==============================] - 653s 4s/step - loss: 1.0389 - accuracy: 0.5003 - val_loss: 1.0403 - val_accuracy: 0.4988\n",
            "Epoch 7/10\n",
            "160/160 [==============================] - 665s 4s/step - loss: 1.0394 - accuracy: 0.5003 - val_loss: 1.0405 - val_accuracy: 0.4988\n",
            "Epoch 8/10\n",
            "160/160 [==============================] - 658s 4s/step - loss: 1.0382 - accuracy: 0.5003 - val_loss: 1.0453 - val_accuracy: 0.4988\n",
            "Epoch 9/10\n",
            "160/160 [==============================] - 664s 4s/step - loss: 1.0398 - accuracy: 0.5003 - val_loss: 1.0433 - val_accuracy: 0.4988\n",
            "Epoch 10/10\n",
            "160/160 [==============================] - 624s 4s/step - loss: 1.0372 - accuracy: 0.5003 - val_loss: 1.0582 - val_accuracy: 0.4988\n"
          ]
        },
        {
          "output_type": "execute_result",
          "data": {
            "text/plain": [
              "<keras.callbacks.History at 0x7e45f9ded9c0>"
            ]
          },
          "metadata": {},
          "execution_count": 22
        }
      ]
    },
    {
      "cell_type": "code",
      "source": [
        "test_loss, test_acc = model.evaluate(test_generator, verbose=2)\n",
        "print(\"\\nTest accuracy:\", test_acc)"
      ],
      "metadata": {
        "id": "vX1cdQ0nJhzF",
        "outputId": "98284345-5f85-4f4c-a390-1bb094169c51",
        "colab": {
          "base_uri": "https://localhost:8080/"
        }
      },
      "execution_count": null,
      "outputs": [
        {
          "output_type": "stream",
          "name": "stdout",
          "text": [
            "41/41 - 121s - loss: 1.0582 - accuracy: 0.4988 - 121s/epoch - 3s/step\n",
            "\n",
            "Test accuracy: 0.4988308548927307\n"
          ]
        }
      ]
    },
    {
      "cell_type": "code",
      "source": [
        "from PIL import Image"
      ],
      "metadata": {
        "id": "cIJffbR1kDjz"
      },
      "execution_count": null,
      "outputs": []
    },
    {
      "cell_type": "code",
      "source": [
        "from keras.preprocessing import image\n",
        "img_path = '/content/kk.jpg'\n",
        "img = tf.keras.preprocessing.image.load_img(img_path, target_size=(224, 224))\n",
        "img_array = tf.keras.preprocessing.image.img_to_array(img)\n",
        "img_array = np.expand_dims(img_array, axis=0)\n",
        "img_array /= 255.0\n",
        "\n",
        "predictions = model.predict(img_array)\n"
      ],
      "metadata": {
        "id": "uSK1UbzLJj2W",
        "outputId": "2f61fd80-aeaf-43f6-83a2-bcf0261700d0",
        "colab": {
          "base_uri": "https://localhost:8080/"
        }
      },
      "execution_count": null,
      "outputs": [
        {
          "output_type": "stream",
          "name": "stdout",
          "text": [
            "1/1 [==============================] - 2s 2s/step\n"
          ]
        }
      ]
    },
    {
      "cell_type": "code",
      "source": [
        "class_labels = train_generator.class_indices\n",
        "\n",
        "predicted_class = np.argmax(predictions)\n",
        "\n",
        "predicted_label = [k for k, v in class_labels.items() if v == predicted_class][0]\n",
        "\n",
        "print(\"Predicted class:\", predicted_label)\n"
      ],
      "metadata": {
        "id": "c4ZvSPnQJuoV",
        "outputId": "03e39176-e545-45d2-b5d0-985add46f13b",
        "colab": {
          "base_uri": "https://localhost:8080/"
        }
      },
      "execution_count": null,
      "outputs": [
        {
          "output_type": "stream",
          "name": "stdout",
          "text": [
            "Predicted class: NonDemented\n"
          ]
        }
      ]
    },
    {
      "cell_type": "code",
      "source": [],
      "metadata": {
        "id": "Y-IjK5j5lT45"
      },
      "execution_count": null,
      "outputs": []
    }
  ],
  "metadata": {
    "colab": {
      "provenance": []
    },
    "kernelspec": {
      "display_name": "Python 3",
      "name": "python3"
    }
  },
  "nbformat": 4,
  "nbformat_minor": 0
}