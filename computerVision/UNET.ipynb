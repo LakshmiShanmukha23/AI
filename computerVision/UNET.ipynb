{
 "cells": [
  {
   "cell_type": "code",
   "execution_count": 1,
   "id": "4d9cd29c",
   "metadata": {},
   "outputs": [],
   "source": [
    "import numpy as np"
   ]
  },
  {
   "cell_type": "code",
   "execution_count": 2,
   "id": "d82722af",
   "metadata": {},
   "outputs": [],
   "source": [
    "import tensorflow as tf"
   ]
  },
  {
   "cell_type": "code",
   "execution_count": 52,
   "id": "8036454d",
   "metadata": {},
   "outputs": [],
   "source": [
    "from tensorflow.keras.layers import Conv2D,MaxPool2D,Concatenate,Conv2DTranspose,Input"
   ]
  },
  {
   "cell_type": "code",
   "execution_count": 53,
   "id": "6da65d30",
   "metadata": {},
   "outputs": [],
   "source": [
    "from tensorflow.keras.layers import Activation"
   ]
  },
  {
   "cell_type": "code",
   "execution_count": 54,
   "id": "e0a0e27c",
   "metadata": {},
   "outputs": [],
   "source": [
    "def encoder_block(inputs,num_filters):\n",
    "    p=Conv2D(num_filters,3,padding=\"valid\")(inputs)\n",
    "    p=Activation(\"relu\")(p)\n",
    "    q=Conv2D(num_filters,3,padding=\"valid\")(p)\n",
    "    q=Activation(\"relu\")(q)\n",
    "    r=MaxPool2D(pool_size=(2,2),strides=2)(q)\n",
    "    return r"
   ]
  },
  {
   "cell_type": "code",
   "execution_count": 55,
   "id": "21f938fc",
   "metadata": {},
   "outputs": [],
   "source": [
    "def bottle_neck_block(inputs,num_filters):\n",
    "    p=Conv2D(num_filters,3,padding=\"valid\")(inputs)\n",
    "    p=Activation(\"relu\")(p)\n",
    "    q=Conv2D(num_filters,3,padding=\"valid\")(p)\n",
    "    q=Activation(\"relu\")(q)\n",
    "    return q"
   ]
  },
  {
   "cell_type": "code",
   "execution_count": 56,
   "id": "c469e86c",
   "metadata": {},
   "outputs": [],
   "source": [
    "def decoder_block(inputs,skip_connections,num_filters):\n",
    "    p=Conv2DTranspose(num_filters,(2,2),strides=2,padding=\"valid\")(inputs)\n",
    "    skip_connections=tf.image.resize(skip_connections,size=(p.shape[1],p.shape[2]))\n",
    "    combined=Concatenate()([skip_connections+p])\n",
    "    q=Conv2D(num_filters,3,padding=\"valid\")(combined)\n",
    "    q=Activation(\"relu\")(q)\n",
    "    r=Conv2D(num_filters,3,padding=\"valid\")(q)\n",
    "    r=Activation(\"relu\")(r)\n",
    "    return r"
   ]
  },
  {
   "cell_type": "code",
   "execution_count": 57,
   "id": "559fb9e6",
   "metadata": {},
   "outputs": [],
   "source": [
    "def output_block(inputs,outputs):\n",
    "    p=Conv2D(outputs,1,padding=\"valid\",activation=\"sigmoid\")(inputs)\n",
    "    return p"
   ]
  },
  {
   "cell_type": "code",
   "execution_count": 58,
   "id": "5f3e4a40",
   "metadata": {},
   "outputs": [],
   "source": [
    "inputs=Input(shape=(572,572,3))\n",
    "\n",
    "p=encoder_block(inputs,64)\n",
    "q=encoder_block(p,128)\n",
    "r=encoder_block(q,256)\n",
    "s=encoder_block(r,512)\n",
    "\n",
    "a=bottle_neck_block(s,1024)\n",
    "\n",
    "c=decoder_block(a,s,512)\n",
    "d=decoder_block(c,r,256)\n",
    "e=decoder_block(d,q,128)\n",
    "f=decoder_block(e,p,64)\n",
    "\n",
    "g=output_block(f,2)"
   ]
  },
  {
   "cell_type": "code",
   "execution_count": 59,
   "id": "4f7c6f4a",
   "metadata": {},
   "outputs": [],
   "source": [
    "from tensorflow.keras import Model"
   ]
  },
  {
   "cell_type": "code",
   "execution_count": 60,
   "id": "d6a6eed3",
   "metadata": {},
   "outputs": [],
   "source": [
    "model=Model(inputs,g,name=\"U-NET\")"
   ]
  },
  {
   "cell_type": "code",
   "execution_count": 61,
   "id": "d879b056",
   "metadata": {},
   "outputs": [
    {
     "name": "stdout",
     "output_type": "stream",
     "text": [
      "Model: \"U-NET\"\n",
      "__________________________________________________________________________________________________\n",
      " Layer (type)                Output Shape                 Param #   Connected to                  \n",
      "==================================================================================================\n",
      " input_7 (InputLayer)        [(None, 572, 572, 3)]        0         []                            \n",
      "                                                                                                  \n",
      " conv2d_109 (Conv2D)         (None, 570, 570, 64)         1792      ['input_7[0][0]']             \n",
      "                                                                                                  \n",
      " activation_86 (Activation)  (None, 570, 570, 64)         0         ['conv2d_109[0][0]']          \n",
      "                                                                                                  \n",
      " conv2d_110 (Conv2D)         (None, 568, 568, 64)         36928     ['activation_86[0][0]']       \n",
      "                                                                                                  \n",
      " activation_87 (Activation)  (None, 568, 568, 64)         0         ['conv2d_110[0][0]']          \n",
      "                                                                                                  \n",
      " max_pooling2d_24 (MaxPooli  (None, 284, 284, 64)         0         ['activation_87[0][0]']       \n",
      " ng2D)                                                                                            \n",
      "                                                                                                  \n",
      " conv2d_111 (Conv2D)         (None, 282, 282, 128)        73856     ['max_pooling2d_24[0][0]']    \n",
      "                                                                                                  \n",
      " activation_88 (Activation)  (None, 282, 282, 128)        0         ['conv2d_111[0][0]']          \n",
      "                                                                                                  \n",
      " conv2d_112 (Conv2D)         (None, 280, 280, 128)        147584    ['activation_88[0][0]']       \n",
      "                                                                                                  \n",
      " activation_89 (Activation)  (None, 280, 280, 128)        0         ['conv2d_112[0][0]']          \n",
      "                                                                                                  \n",
      " max_pooling2d_25 (MaxPooli  (None, 140, 140, 128)        0         ['activation_89[0][0]']       \n",
      " ng2D)                                                                                            \n",
      "                                                                                                  \n",
      " conv2d_113 (Conv2D)         (None, 138, 138, 256)        295168    ['max_pooling2d_25[0][0]']    \n",
      "                                                                                                  \n",
      " activation_90 (Activation)  (None, 138, 138, 256)        0         ['conv2d_113[0][0]']          \n",
      "                                                                                                  \n",
      " conv2d_114 (Conv2D)         (None, 136, 136, 256)        590080    ['activation_90[0][0]']       \n",
      "                                                                                                  \n",
      " activation_91 (Activation)  (None, 136, 136, 256)        0         ['conv2d_114[0][0]']          \n",
      "                                                                                                  \n",
      " max_pooling2d_26 (MaxPooli  (None, 68, 68, 256)          0         ['activation_91[0][0]']       \n",
      " ng2D)                                                                                            \n",
      "                                                                                                  \n",
      " conv2d_115 (Conv2D)         (None, 66, 66, 512)          1180160   ['max_pooling2d_26[0][0]']    \n",
      "                                                                                                  \n",
      " activation_92 (Activation)  (None, 66, 66, 512)          0         ['conv2d_115[0][0]']          \n",
      "                                                                                                  \n",
      " conv2d_116 (Conv2D)         (None, 64, 64, 512)          2359808   ['activation_92[0][0]']       \n",
      "                                                                                                  \n",
      " activation_93 (Activation)  (None, 64, 64, 512)          0         ['conv2d_116[0][0]']          \n",
      "                                                                                                  \n",
      " max_pooling2d_27 (MaxPooli  (None, 32, 32, 512)          0         ['activation_93[0][0]']       \n",
      " ng2D)                                                                                            \n",
      "                                                                                                  \n",
      " conv2d_117 (Conv2D)         (None, 30, 30, 1024)         4719616   ['max_pooling2d_27[0][0]']    \n",
      "                                                                                                  \n",
      " activation_94 (Activation)  (None, 30, 30, 1024)         0         ['conv2d_117[0][0]']          \n",
      "                                                                                                  \n",
      " conv2d_118 (Conv2D)         (None, 28, 28, 1024)         9438208   ['activation_94[0][0]']       \n",
      "                                                                                                  \n",
      " activation_95 (Activation)  (None, 28, 28, 1024)         0         ['conv2d_118[0][0]']          \n",
      "                                                                                                  \n",
      " tf.image.resize_21 (TFOpLa  (None, 56, 56, 512)          0         ['max_pooling2d_27[0][0]']    \n",
      " mbda)                                                                                            \n",
      "                                                                                                  \n",
      " conv2d_transpose_21 (Conv2  (None, 56, 56, 512)          2097664   ['activation_95[0][0]']       \n",
      " DTranspose)                                                                                      \n",
      "                                                                                                  \n",
      " tf.__operators__.add_21 (T  (None, 56, 56, 512)          0         ['tf.image.resize_21[0][0]',  \n",
      " FOpLambda)                                                          'conv2d_transpose_21[0][0]'] \n",
      "                                                                                                  \n",
      " concatenate_21 (Concatenat  (None, 56, 56, 512)          0         ['tf.__operators__.add_21[0][0\n",
      " e)                                                                 ]']                           \n",
      "                                                                                                  \n",
      " conv2d_119 (Conv2D)         (None, 54, 54, 512)          2359808   ['concatenate_21[0][0]']      \n",
      "                                                                                                  \n",
      " activation_96 (Activation)  (None, 54, 54, 512)          0         ['conv2d_119[0][0]']          \n",
      "                                                                                                  \n",
      " conv2d_120 (Conv2D)         (None, 52, 52, 512)          2359808   ['activation_96[0][0]']       \n",
      "                                                                                                  \n",
      " activation_97 (Activation)  (None, 52, 52, 512)          0         ['conv2d_120[0][0]']          \n",
      "                                                                                                  \n",
      " tf.image.resize_22 (TFOpLa  (None, 104, 104, 256)        0         ['max_pooling2d_26[0][0]']    \n",
      " mbda)                                                                                            \n",
      "                                                                                                  \n",
      " conv2d_transpose_22 (Conv2  (None, 104, 104, 256)        524544    ['activation_97[0][0]']       \n",
      " DTranspose)                                                                                      \n",
      "                                                                                                  \n"
     ]
    },
    {
     "name": "stdout",
     "output_type": "stream",
     "text": [
      " tf.__operators__.add_22 (T  (None, 104, 104, 256)        0         ['tf.image.resize_22[0][0]',  \n",
      " FOpLambda)                                                          'conv2d_transpose_22[0][0]'] \n",
      "                                                                                                  \n",
      " concatenate_22 (Concatenat  (None, 104, 104, 256)        0         ['tf.__operators__.add_22[0][0\n",
      " e)                                                                 ]']                           \n",
      "                                                                                                  \n",
      " conv2d_121 (Conv2D)         (None, 102, 102, 256)        590080    ['concatenate_22[0][0]']      \n",
      "                                                                                                  \n",
      " activation_98 (Activation)  (None, 102, 102, 256)        0         ['conv2d_121[0][0]']          \n",
      "                                                                                                  \n",
      " conv2d_122 (Conv2D)         (None, 100, 100, 256)        590080    ['activation_98[0][0]']       \n",
      "                                                                                                  \n",
      " activation_99 (Activation)  (None, 100, 100, 256)        0         ['conv2d_122[0][0]']          \n",
      "                                                                                                  \n",
      " tf.image.resize_23 (TFOpLa  (None, 200, 200, 128)        0         ['max_pooling2d_25[0][0]']    \n",
      " mbda)                                                                                            \n",
      "                                                                                                  \n",
      " conv2d_transpose_23 (Conv2  (None, 200, 200, 128)        131200    ['activation_99[0][0]']       \n",
      " DTranspose)                                                                                      \n",
      "                                                                                                  \n",
      " tf.__operators__.add_23 (T  (None, 200, 200, 128)        0         ['tf.image.resize_23[0][0]',  \n",
      " FOpLambda)                                                          'conv2d_transpose_23[0][0]'] \n",
      "                                                                                                  \n",
      " concatenate_23 (Concatenat  (None, 200, 200, 128)        0         ['tf.__operators__.add_23[0][0\n",
      " e)                                                                 ]']                           \n",
      "                                                                                                  \n",
      " conv2d_123 (Conv2D)         (None, 198, 198, 128)        147584    ['concatenate_23[0][0]']      \n",
      "                                                                                                  \n",
      " activation_100 (Activation  (None, 198, 198, 128)        0         ['conv2d_123[0][0]']          \n",
      " )                                                                                                \n",
      "                                                                                                  \n",
      " conv2d_124 (Conv2D)         (None, 196, 196, 128)        147584    ['activation_100[0][0]']      \n",
      "                                                                                                  \n",
      " activation_101 (Activation  (None, 196, 196, 128)        0         ['conv2d_124[0][0]']          \n",
      " )                                                                                                \n",
      "                                                                                                  \n",
      " tf.image.resize_24 (TFOpLa  (None, 392, 392, 64)         0         ['max_pooling2d_24[0][0]']    \n",
      " mbda)                                                                                            \n",
      "                                                                                                  \n",
      " conv2d_transpose_24 (Conv2  (None, 392, 392, 64)         32832     ['activation_101[0][0]']      \n",
      " DTranspose)                                                                                      \n",
      "                                                                                                  \n",
      " tf.__operators__.add_24 (T  (None, 392, 392, 64)         0         ['tf.image.resize_24[0][0]',  \n",
      " FOpLambda)                                                          'conv2d_transpose_24[0][0]'] \n",
      "                                                                                                  \n",
      " concatenate_24 (Concatenat  (None, 392, 392, 64)         0         ['tf.__operators__.add_24[0][0\n",
      " e)                                                                 ]']                           \n",
      "                                                                                                  \n",
      " conv2d_125 (Conv2D)         (None, 390, 390, 64)         36928     ['concatenate_24[0][0]']      \n",
      "                                                                                                  \n",
      " activation_102 (Activation  (None, 390, 390, 64)         0         ['conv2d_125[0][0]']          \n",
      " )                                                                                                \n",
      "                                                                                                  \n",
      " conv2d_126 (Conv2D)         (None, 388, 388, 64)         36928     ['activation_102[0][0]']      \n",
      "                                                                                                  \n",
      " activation_103 (Activation  (None, 388, 388, 64)         0         ['conv2d_126[0][0]']          \n",
      " )                                                                                                \n",
      "                                                                                                  \n",
      " conv2d_127 (Conv2D)         (None, 388, 388, 2)          130       ['activation_103[0][0]']      \n",
      "                                                                                                  \n",
      "==================================================================================================\n",
      "Total params: 27898370 (106.42 MB)\n",
      "Trainable params: 27898370 (106.42 MB)\n",
      "Non-trainable params: 0 (0.00 Byte)\n",
      "__________________________________________________________________________________________________\n"
     ]
    }
   ],
   "source": [
    "model.summary()"
   ]
  },
  {
   "cell_type": "code",
   "execution_count": 62,
   "id": "31d66b53",
   "metadata": {},
   "outputs": [],
   "source": [
    "x=np.random.random((572,572,3))"
   ]
  },
  {
   "cell_type": "code",
   "execution_count": null,
   "id": "6b50acd0",
   "metadata": {},
   "outputs": [],
   "source": []
  }
 ],
 "metadata": {
  "kernelspec": {
   "display_name": "Python 3 (ipykernel)",
   "language": "python",
   "name": "python3"
  },
  "language_info": {
   "codemirror_mode": {
    "name": "ipython",
    "version": 3
   },
   "file_extension": ".py",
   "mimetype": "text/x-python",
   "name": "python",
   "nbconvert_exporter": "python",
   "pygments_lexer": "ipython3",
   "version": "3.10.2"
  }
 },
 "nbformat": 4,
 "nbformat_minor": 5
}
