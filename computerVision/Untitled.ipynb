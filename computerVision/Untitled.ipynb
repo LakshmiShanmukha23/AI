{
 "cells": [
  {
   "cell_type": "code",
   "execution_count": 1,
   "id": "e8607fc2",
   "metadata": {},
   "outputs": [],
   "source": [
    "import numpy as np\n",
    "import keras"
   ]
  },
  {
   "cell_type": "code",
   "execution_count": 4,
   "id": "9e8ecca6",
   "metadata": {},
   "outputs": [],
   "source": [
    "import tensorflow as tf\n",
    "from tensorflow.keras.layers import Input,Embedding,Dense,Conv2D,MaxPool2D"
   ]
  },
  {
   "cell_type": "code",
   "execution_count": 5,
   "id": "ed6e9869",
   "metadata": {},
   "outputs": [],
   "source": [
    "from tensorflow.keras.applications import VGG16"
   ]
  },
  {
   "cell_type": "code",
   "execution_count": 7,
   "id": "2272f417",
   "metadata": {},
   "outputs": [
    {
     "name": "stdout",
     "output_type": "stream",
     "text": [
      "Number of anchor boxes: 45\n"
     ]
    }
   ],
   "source": [
    "import numpy as np\n",
    "\n",
    "base_sizes = [32, 64, 128, 256, 512]\n",
    "ratios = [0.5, 1, 2]\n",
    "scales = [2 ** 0, 2 ** (1/3), 2 ** (2/3)]  \n",
    "\n",
    "anchor_boxes = []\n",
    "\n",
    "for base_size in base_sizes:\n",
    "    for ratio in ratios:\n",
    "        for scale in scales:\n",
    "            width = base_size * scale * np.sqrt(ratio)\n",
    "            height = base_size * scale / np.sqrt(ratio)\n",
    "            anchor_boxes.append([width, height])\n",
    "\n",
    "anchor_boxes = np.array(anchor_boxes)\n",
    "\n",
    "print(\"Number of anchor boxes:\", len(anchor_boxes))\n",
    "#print(\"Anchor box shapes:\\n\", anchor_boxes)\n"
   ]
  },
  {
   "cell_type": "code",
   "execution_count": 8,
   "id": "22a6df1b",
   "metadata": {},
   "outputs": [
    {
     "name": "stdout",
     "output_type": "stream",
     "text": [
      "Downloading data from https://storage.googleapis.com/tensorflow/keras-applications/vgg16/vgg16_weights_tf_dim_ordering_tf_kernels_notop.h5\n",
      "58889256/58889256 [==============================] - 27s 0us/step\n"
     ]
    }
   ],
   "source": [
    "input_image = Input(shape=(None, None, 3))\n",
    "backbone = VGG16(include_top=False, input_tensor=input_image)\n",
    "feature_map = backbone.output"
   ]
  },
  {
   "cell_type": "code",
   "execution_count": 9,
   "id": "3a937f08",
   "metadata": {},
   "outputs": [],
   "source": [
    "num_anchors=len(anchor_boxes)"
   ]
  },
  {
   "cell_type": "code",
   "execution_count": 10,
   "id": "b43558b5",
   "metadata": {},
   "outputs": [],
   "source": [
    "rpn_conv = Conv2D(filters=num_anchors * 2, kernel_size=(1, 1), activation='sigmoid')(feature_map)\n",
    "rpn_bbox = Conv2D(filters=num_anchors * 4, kernel_size=(1, 1))(feature_map)"
   ]
  },
  {
   "cell_type": "code",
   "execution_count": null,
   "id": "65ee74fb",
   "metadata": {},
   "outputs": [],
   "source": [
    "def apply_nms_on_rpn(rpn_bbox_offsets, rpn_objectness, num_pre_nms_proposals, num_post_nms_proposals, iou_threshold):\n",
    "    selected_indices = tf.image.non_max_suppression(\n",
    "        boxes=rpn_bbox_offsets,\n",
    "        scores=rpn_objectness[:, 1],\n",
    "        max_output_size=num_pre_nms_proposals,\n",
    "        iou_threshold=iou_threshold\n",
    "    )\n",
    "    \n",
    "    selected_indices = selected_indices[:num_post_nms_proposals]\n",
    "    selected_proposals = tf.gather(rpn_bbox_offsets, selected_indices)\n",
    "    \n",
    "    return selected_proposals\n",
    "\n",
    "num_pre_nms_proposals = 2000\n",
    "num_post_nms_proposals = 1000\n",
    "iou_threshold = 0.7\n",
    "\n",
    "selected_proposals = apply_nms_on_rpn(rpn_bbox_offsets, rpn_objectness, num_pre_nms_proposals, num_post_nms_proposals, iou_threshold)\n",
    "print(\"Selected proposals after NMS:\", selected_proposals)\n"
   ]
  }
 ],
 "metadata": {
  "kernelspec": {
   "display_name": "Python 3 (ipykernel)",
   "language": "python",
   "name": "python3"
  },
  "language_info": {
   "codemirror_mode": {
    "name": "ipython",
    "version": 3
   },
   "file_extension": ".py",
   "mimetype": "text/x-python",
   "name": "python",
   "nbconvert_exporter": "python",
   "pygments_lexer": "ipython3",
   "version": "3.10.2"
  }
 },
 "nbformat": 4,
 "nbformat_minor": 5
}
