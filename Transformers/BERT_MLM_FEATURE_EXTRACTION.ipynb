{
 "cells": [
  {
   "cell_type": "code",
   "execution_count": 1,
   "id": "0b0a6520",
   "metadata": {},
   "outputs": [],
   "source": [
    "import torch"
   ]
  },
  {
   "cell_type": "code",
   "execution_count": 2,
   "id": "9863587b",
   "metadata": {},
   "outputs": [],
   "source": [
    "from transformers import BertTokenizer,BertForMaskedLM"
   ]
  },
  {
   "cell_type": "code",
   "execution_count": 4,
   "id": "39bf22c5",
   "metadata": {},
   "outputs": [
    {
     "name": "stderr",
     "output_type": "stream",
     "text": [
      "Some weights of the model checkpoint at bert-base-uncased were not used when initializing BertForMaskedLM: ['cls.seq_relationship.bias', 'cls.seq_relationship.weight', 'bert.pooler.dense.weight', 'bert.pooler.dense.bias']\n",
      "- This IS expected if you are initializing BertForMaskedLM from the checkpoint of a model trained on another task or with another architecture (e.g. initializing a BertForSequenceClassification model from a BertForPreTraining model).\n",
      "- This IS NOT expected if you are initializing BertForMaskedLM from the checkpoint of a model that you expect to be exactly identical (initializing a BertForSequenceClassification model from a BertForSequenceClassification model).\n"
     ]
    }
   ],
   "source": [
    "tokenizer=BertTokenizer.from_pretrained(\"bert-base-uncased\")\n",
    "model=BertForMaskedLM.from_pretrained(\"bert-base-uncased\")"
   ]
  },
  {
   "cell_type": "code",
   "execution_count": 96,
   "id": "ca6f4b44",
   "metadata": {},
   "outputs": [],
   "source": [
    "text=(\"In the heart of a bustling metropolis, amidst the symphony of honking  horns and hurried footsteps\"\n",
    "      \" a quaint café beckons with the aroma of freshly brewed coffee. Sunlight filters through the tall windows \"\n",
    "      \"casting intricate patterns on the rustic wooden tables. Patrons sit huddled \"\n",
    "      \"engrossed in conversations or lost in the pages of well-worn books. Baristas dance behind the counter \"\n",
    "      \"their skilled hands crafting intricate latte art.\"\n",
    "      \"Outside the city's rhythm continues, but within these walls, time seems to slow \"\n",
    "      \"offering a sanctuary of serenity amid the urban chaos.\")"
   ]
  },
  {
   "cell_type": "code",
   "execution_count": 97,
   "id": "a85ae9b4",
   "metadata": {},
   "outputs": [
    {
     "data": {
      "text/plain": [
       "\"In the heart of a bustling metropolis, amidst the symphony of honking  horns and hurried footsteps a quaint café beckons with the aroma of freshly brewed coffee. Sunlight filters through the tall windows casting intricate patterns on the rustic wooden tables. Patrons sit huddled engrossed in conversations or lost in the pages of well-worn books. Baristas dance behind the counter their skilled hands crafting intricate latte art.Outside the city's rhythm continues, but within these walls, time seems to slow offering a sanctuary of serenity amid the urban chaos.\""
      ]
     },
     "execution_count": 97,
     "metadata": {},
     "output_type": "execute_result"
    }
   ],
   "source": [
    "text"
   ]
  },
  {
   "cell_type": "code",
   "execution_count": 98,
   "id": "2f07181a",
   "metadata": {},
   "outputs": [],
   "source": [
    "inputs=tokenizer(text,return_tensors='pt')"
   ]
  },
  {
   "cell_type": "code",
   "execution_count": 99,
   "id": "88d1e0a1",
   "metadata": {},
   "outputs": [
    {
     "data": {
      "text/plain": [
       "dict_keys(['input_ids', 'token_type_ids', 'attention_mask'])"
      ]
     },
     "execution_count": 99,
     "metadata": {},
     "output_type": "execute_result"
    }
   ],
   "source": [
    "inputs.keys()"
   ]
  },
  {
   "cell_type": "code",
   "execution_count": 100,
   "id": "ebfd4ab6",
   "metadata": {},
   "outputs": [
    {
     "data": {
      "text/plain": [
       "{'input_ids': tensor([[  101,  1999,  1996,  2540,  1997,  1037, 13950,  2989, 18236,  1010,\n",
       "         17171,  1996,  6189,  1997, 10189,  6834, 11569,  1998,  9520,  9717,\n",
       "          1037, 24209, 22325,  7668, 10272,  5644,  2007,  1996, 23958,  1997,\n",
       "         20229, 24702,  2098,  4157,  1012,  9325, 17736,  2083,  1996,  4206,\n",
       "          3645,  9179, 17796,  7060,  2006,  1996, 27471,  4799,  7251,  1012,\n",
       "         13497,  4133, 20258, 25540, 25725,  2098,  1999, 11450,  2030,  2439,\n",
       "          1999,  1996,  5530,  1997,  2092,  1011,  6247,  2808,  1012, 22466,\n",
       "          9153,  2015,  3153,  2369,  1996,  4675,  2037, 10571,  2398,  7477,\n",
       "          2075, 17796,  2474,  4674,  2396,  1012,  2648,  1996,  2103,  1005,\n",
       "          1055,  6348,  4247,  1010,  2021,  2306,  2122,  3681,  1010,  2051,\n",
       "          3849,  2000,  4030,  5378,  1037,  8493,  1997, 14262, 20693, 13463,\n",
       "          1996,  3923,  8488,  1012,   102]]), 'token_type_ids': tensor([[0, 0, 0, 0, 0, 0, 0, 0, 0, 0, 0, 0, 0, 0, 0, 0, 0, 0, 0, 0, 0, 0, 0, 0,\n",
       "         0, 0, 0, 0, 0, 0, 0, 0, 0, 0, 0, 0, 0, 0, 0, 0, 0, 0, 0, 0, 0, 0, 0, 0,\n",
       "         0, 0, 0, 0, 0, 0, 0, 0, 0, 0, 0, 0, 0, 0, 0, 0, 0, 0, 0, 0, 0, 0, 0, 0,\n",
       "         0, 0, 0, 0, 0, 0, 0, 0, 0, 0, 0, 0, 0, 0, 0, 0, 0, 0, 0, 0, 0, 0, 0, 0,\n",
       "         0, 0, 0, 0, 0, 0, 0, 0, 0, 0, 0, 0, 0, 0, 0, 0, 0, 0, 0]]), 'attention_mask': tensor([[1, 1, 1, 1, 1, 1, 1, 1, 1, 1, 1, 1, 1, 1, 1, 1, 1, 1, 1, 1, 1, 1, 1, 1,\n",
       "         1, 1, 1, 1, 1, 1, 1, 1, 1, 1, 1, 1, 1, 1, 1, 1, 1, 1, 1, 1, 1, 1, 1, 1,\n",
       "         1, 1, 1, 1, 1, 1, 1, 1, 1, 1, 1, 1, 1, 1, 1, 1, 1, 1, 1, 1, 1, 1, 1, 1,\n",
       "         1, 1, 1, 1, 1, 1, 1, 1, 1, 1, 1, 1, 1, 1, 1, 1, 1, 1, 1, 1, 1, 1, 1, 1,\n",
       "         1, 1, 1, 1, 1, 1, 1, 1, 1, 1, 1, 1, 1, 1, 1, 1, 1, 1, 1]])}"
      ]
     },
     "execution_count": 100,
     "metadata": {},
     "output_type": "execute_result"
    }
   ],
   "source": [
    "inputs"
   ]
  },
  {
   "cell_type": "code",
   "execution_count": 101,
   "id": "4ce75395",
   "metadata": {},
   "outputs": [],
   "source": [
    "inputs['labels']=inputs.input_ids.detach().clone()"
   ]
  },
  {
   "cell_type": "code",
   "execution_count": 102,
   "id": "2e8e2a45",
   "metadata": {},
   "outputs": [
    {
     "data": {
      "text/plain": [
       "{'input_ids': tensor([[  101,  1999,  1996,  2540,  1997,  1037, 13950,  2989, 18236,  1010,\n",
       "         17171,  1996,  6189,  1997, 10189,  6834, 11569,  1998,  9520,  9717,\n",
       "          1037, 24209, 22325,  7668, 10272,  5644,  2007,  1996, 23958,  1997,\n",
       "         20229, 24702,  2098,  4157,  1012,  9325, 17736,  2083,  1996,  4206,\n",
       "          3645,  9179, 17796,  7060,  2006,  1996, 27471,  4799,  7251,  1012,\n",
       "         13497,  4133, 20258, 25540, 25725,  2098,  1999, 11450,  2030,  2439,\n",
       "          1999,  1996,  5530,  1997,  2092,  1011,  6247,  2808,  1012, 22466,\n",
       "          9153,  2015,  3153,  2369,  1996,  4675,  2037, 10571,  2398,  7477,\n",
       "          2075, 17796,  2474,  4674,  2396,  1012,  2648,  1996,  2103,  1005,\n",
       "          1055,  6348,  4247,  1010,  2021,  2306,  2122,  3681,  1010,  2051,\n",
       "          3849,  2000,  4030,  5378,  1037,  8493,  1997, 14262, 20693, 13463,\n",
       "          1996,  3923,  8488,  1012,   102]]), 'token_type_ids': tensor([[0, 0, 0, 0, 0, 0, 0, 0, 0, 0, 0, 0, 0, 0, 0, 0, 0, 0, 0, 0, 0, 0, 0, 0,\n",
       "         0, 0, 0, 0, 0, 0, 0, 0, 0, 0, 0, 0, 0, 0, 0, 0, 0, 0, 0, 0, 0, 0, 0, 0,\n",
       "         0, 0, 0, 0, 0, 0, 0, 0, 0, 0, 0, 0, 0, 0, 0, 0, 0, 0, 0, 0, 0, 0, 0, 0,\n",
       "         0, 0, 0, 0, 0, 0, 0, 0, 0, 0, 0, 0, 0, 0, 0, 0, 0, 0, 0, 0, 0, 0, 0, 0,\n",
       "         0, 0, 0, 0, 0, 0, 0, 0, 0, 0, 0, 0, 0, 0, 0, 0, 0, 0, 0]]), 'attention_mask': tensor([[1, 1, 1, 1, 1, 1, 1, 1, 1, 1, 1, 1, 1, 1, 1, 1, 1, 1, 1, 1, 1, 1, 1, 1,\n",
       "         1, 1, 1, 1, 1, 1, 1, 1, 1, 1, 1, 1, 1, 1, 1, 1, 1, 1, 1, 1, 1, 1, 1, 1,\n",
       "         1, 1, 1, 1, 1, 1, 1, 1, 1, 1, 1, 1, 1, 1, 1, 1, 1, 1, 1, 1, 1, 1, 1, 1,\n",
       "         1, 1, 1, 1, 1, 1, 1, 1, 1, 1, 1, 1, 1, 1, 1, 1, 1, 1, 1, 1, 1, 1, 1, 1,\n",
       "         1, 1, 1, 1, 1, 1, 1, 1, 1, 1, 1, 1, 1, 1, 1, 1, 1, 1, 1]]), 'labels': tensor([[  101,  1999,  1996,  2540,  1997,  1037, 13950,  2989, 18236,  1010,\n",
       "         17171,  1996,  6189,  1997, 10189,  6834, 11569,  1998,  9520,  9717,\n",
       "          1037, 24209, 22325,  7668, 10272,  5644,  2007,  1996, 23958,  1997,\n",
       "         20229, 24702,  2098,  4157,  1012,  9325, 17736,  2083,  1996,  4206,\n",
       "          3645,  9179, 17796,  7060,  2006,  1996, 27471,  4799,  7251,  1012,\n",
       "         13497,  4133, 20258, 25540, 25725,  2098,  1999, 11450,  2030,  2439,\n",
       "          1999,  1996,  5530,  1997,  2092,  1011,  6247,  2808,  1012, 22466,\n",
       "          9153,  2015,  3153,  2369,  1996,  4675,  2037, 10571,  2398,  7477,\n",
       "          2075, 17796,  2474,  4674,  2396,  1012,  2648,  1996,  2103,  1005,\n",
       "          1055,  6348,  4247,  1010,  2021,  2306,  2122,  3681,  1010,  2051,\n",
       "          3849,  2000,  4030,  5378,  1037,  8493,  1997, 14262, 20693, 13463,\n",
       "          1996,  3923,  8488,  1012,   102]])}"
      ]
     },
     "execution_count": 102,
     "metadata": {},
     "output_type": "execute_result"
    }
   ],
   "source": [
    "inputs"
   ]
  },
  {
   "cell_type": "code",
   "execution_count": 103,
   "id": "4cfb6fdd",
   "metadata": {},
   "outputs": [],
   "source": [
    "rand=torch.rand(inputs.input_ids.shape)"
   ]
  },
  {
   "cell_type": "code",
   "execution_count": 104,
   "id": "78156770",
   "metadata": {},
   "outputs": [
    {
     "data": {
      "text/plain": [
       "torch.Size([1, 115])"
      ]
     },
     "execution_count": 104,
     "metadata": {},
     "output_type": "execute_result"
    }
   ],
   "source": [
    "rand.shape"
   ]
  },
  {
   "cell_type": "code",
   "execution_count": 105,
   "id": "7b916a59",
   "metadata": {},
   "outputs": [
    {
     "data": {
      "text/plain": [
       "tensor([[False,  True, False, False, False, False, False, False, False, False,\n",
       "         False, False, False, False, False, False, False, False, False, False,\n",
       "         False, False, False, False, False, False, False, False, False, False,\n",
       "         False,  True,  True, False, False, False, False, False, False, False,\n",
       "         False, False, False,  True, False, False, False, False, False, False,\n",
       "         False, False, False, False, False,  True, False,  True, False,  True,\n",
       "          True, False, False, False, False, False, False, False, False,  True,\n",
       "         False, False, False, False, False, False, False, False,  True, False,\n",
       "         False,  True, False, False, False,  True, False, False, False,  True,\n",
       "         False, False, False, False, False, False, False, False, False, False,\n",
       "         False, False,  True, False, False,  True, False,  True, False,  True,\n",
       "         False, False, False, False, False]])"
      ]
     },
     "execution_count": 105,
     "metadata": {},
     "output_type": "execute_result"
    }
   ],
   "source": [
    "mask_arr=(rand<0.15)*(inputs.input_ids!=101)*(inputs.input_ids!=102)\n",
    "mask_arr"
   ]
  },
  {
   "cell_type": "code",
   "execution_count": 126,
   "id": "e8a3c594",
   "metadata": {},
   "outputs": [
    {
     "data": {
      "text/plain": [
       "torch.Size([1, 115])"
      ]
     },
     "execution_count": 126,
     "metadata": {},
     "output_type": "execute_result"
    }
   ],
   "source": [
    "mask_arr.shape"
   ]
  },
  {
   "cell_type": "code",
   "execution_count": 106,
   "id": "4d25c50d",
   "metadata": {},
   "outputs": [
    {
     "data": {
      "text/plain": [
       "[1, 31, 32, 43, 55, 57, 59, 60, 69, 78, 81, 85, 89, 102, 105, 107, 109]"
      ]
     },
     "execution_count": 106,
     "metadata": {},
     "output_type": "execute_result"
    }
   ],
   "source": [
    "ans=torch.flatten(mask_arr[0].nonzero()).tolist()\n",
    "ans"
   ]
  },
  {
   "cell_type": "code",
   "execution_count": 132,
   "id": "b799b2cc",
   "metadata": {},
   "outputs": [
    {
     "data": {
      "text/plain": [
       "(tensor(103), torch.Size([115]))"
      ]
     },
     "execution_count": 132,
     "metadata": {},
     "output_type": "execute_result"
    }
   ],
   "source": [
    "inputs.input_ids[0,1],inputs.input_ids[0].shape"
   ]
  },
  {
   "cell_type": "code",
   "execution_count": 107,
   "id": "dfd2b4c8",
   "metadata": {},
   "outputs": [
    {
     "data": {
      "text/plain": [
       "tensor([[  101,   103,  1996,  2540,  1997,  1037, 13950,  2989, 18236,  1010,\n",
       "         17171,  1996,  6189,  1997, 10189,  6834, 11569,  1998,  9520,  9717,\n",
       "          1037, 24209, 22325,  7668, 10272,  5644,  2007,  1996, 23958,  1997,\n",
       "         20229,   103,   103,  4157,  1012,  9325, 17736,  2083,  1996,  4206,\n",
       "          3645,  9179, 17796,   103,  2006,  1996, 27471,  4799,  7251,  1012,\n",
       "         13497,  4133, 20258, 25540, 25725,   103,  1999,   103,  2030,   103,\n",
       "           103,  1996,  5530,  1997,  2092,  1011,  6247,  2808,  1012,   103,\n",
       "          9153,  2015,  3153,  2369,  1996,  4675,  2037, 10571,   103,  7477,\n",
       "          2075,   103,  2474,  4674,  2396,   103,  2648,  1996,  2103,   103,\n",
       "          1055,  6348,  4247,  1010,  2021,  2306,  2122,  3681,  1010,  2051,\n",
       "          3849,  2000,   103,  5378,  1037,   103,  1997,   103, 20693,   103,\n",
       "          1996,  3923,  8488,  1012,   102]])"
      ]
     },
     "execution_count": 107,
     "metadata": {},
     "output_type": "execute_result"
    }
   ],
   "source": [
    "inputs.input_ids[0,ans]=103\n",
    "inputs.input_ids"
   ]
  },
  {
   "cell_type": "code",
   "execution_count": 108,
   "id": "2171e557",
   "metadata": {},
   "outputs": [],
   "source": [
    "outputs=model(**inputs)"
   ]
  },
  {
   "cell_type": "code",
   "execution_count": 109,
   "id": "0b0d0edc",
   "metadata": {},
   "outputs": [
    {
     "data": {
      "text/plain": [
       "odict_keys(['loss', 'logits'])"
      ]
     },
     "execution_count": 109,
     "metadata": {},
     "output_type": "execute_result"
    }
   ],
   "source": [
    "outputs.keys()"
   ]
  },
  {
   "cell_type": "code",
   "execution_count": 110,
   "id": "85594a6c",
   "metadata": {},
   "outputs": [
    {
     "data": {
      "text/plain": [
       "tensor(0.7792, grad_fn=<NllLossBackward0>)"
      ]
     },
     "execution_count": 110,
     "metadata": {},
     "output_type": "execute_result"
    }
   ],
   "source": [
    "outputs.loss"
   ]
  },
  {
   "cell_type": "code",
   "execution_count": 111,
   "id": "2ae7228a",
   "metadata": {},
   "outputs": [
    {
     "data": {
      "text/plain": [
       "torch.Size([1, 115, 30522])"
      ]
     },
     "execution_count": 111,
     "metadata": {},
     "output_type": "execute_result"
    }
   ],
   "source": [
    "outputs.logits.shape"
   ]
  },
  {
   "cell_type": "code",
   "execution_count": 112,
   "id": "16fbf2d0",
   "metadata": {},
   "outputs": [
    {
     "data": {
      "text/plain": [
       "torch.Size([30522])"
      ]
     },
     "execution_count": 112,
     "metadata": {},
     "output_type": "execute_result"
    }
   ],
   "source": [
    "outputs.logits[0,1].shape"
   ]
  },
  {
   "cell_type": "code",
   "execution_count": 113,
   "id": "6f4f4ac9",
   "metadata": {},
   "outputs": [],
   "source": [
    "score=torch.nn.functional.softmax(outputs.logits,dim=-1)"
   ]
  },
  {
   "cell_type": "code",
   "execution_count": 114,
   "id": "305ba0d7",
   "metadata": {},
   "outputs": [
    {
     "data": {
      "text/plain": [
       "torch.Size([1, 115, 30522])"
      ]
     },
     "execution_count": 114,
     "metadata": {},
     "output_type": "execute_result"
    }
   ],
   "source": [
    "score.shape"
   ]
  },
  {
   "cell_type": "code",
   "execution_count": 115,
   "id": "3bcab0f9",
   "metadata": {},
   "outputs": [
    {
     "data": {
      "text/plain": [
       "tensor([4.6142e-07, 4.5027e-07, 4.4688e-07,  ..., 8.8549e-07, 9.7787e-07,\n",
       "        6.5901e-06], grad_fn=<SelectBackward0>)"
      ]
     },
     "execution_count": 115,
     "metadata": {},
     "output_type": "execute_result"
    }
   ],
   "source": [
    "score[0,0]"
   ]
  },
  {
   "cell_type": "code",
   "execution_count": 116,
   "id": "db45ec7b",
   "metadata": {},
   "outputs": [],
   "source": [
    "tokenenss=torch.argmax(score,dim=-1)"
   ]
  },
  {
   "cell_type": "code",
   "execution_count": 117,
   "id": "404b623d",
   "metadata": {},
   "outputs": [
    {
     "data": {
      "text/plain": [
       "tensor([ 1012,  1999,  1996,  2540,  1997,  1037, 13950,  2989, 18236,  1010,\n",
       "        17171,  1996,  6189,  1997, 10189,  6834, 11569,  1998,  9520,  9717,\n",
       "         1037, 24209, 22325,  7668, 10272,  5644,  2007,  1996, 23958,  1997,\n",
       "        20229,  2081,  2081,  4157,  1012,  9325, 17736,  2083,  1996,  4206,\n",
       "         3645,  9179, 17796,  6281,  2006,  1996, 27471,  4799,  7251,  1012,\n",
       "        13497,  4133, 20258,  9063,  2784,  2098,  1999,  2808,  2030,  3752,\n",
       "         2006,  1996,  5530,  1997,  2092,  1011,  6247,  2808,  1012, 22466,\n",
       "         9153,  2015,  3153,  2369,  1996,  4675,  2037, 10571,  2398,  7477,\n",
       "         2075,  2037,  2474,  4674,  2396,  1012,  2648,  1996,  2103,  1005,\n",
       "         1055,  6348,  4247,  1010,  2021,  2306,  2122,  3681,  1010,  2051,\n",
       "         3849,  2000,  2022,  5378,  1037,  3168,  1997, 14262, 20693,  2000,\n",
       "         1996, 18236,  8488,  1012,  1012])"
      ]
     },
     "execution_count": 117,
     "metadata": {},
     "output_type": "execute_result"
    }
   ],
   "source": [
    "tokenenss[0]"
   ]
  },
  {
   "cell_type": "code",
   "execution_count": 118,
   "id": "52025dc0",
   "metadata": {},
   "outputs": [
    {
     "data": {
      "text/plain": [
       "tensor([  101,  1999,  1996,  2540,  1997,  1037, 13950,  2989, 18236,  1010,\n",
       "        17171,  1996,  6189,  1997, 10189,  6834, 11569,  1998,  9520,  9717,\n",
       "         1037, 24209, 22325,  7668, 10272,  5644,  2007,  1996, 23958,  1997,\n",
       "        20229, 24702,  2098,  4157,  1012,  9325, 17736,  2083,  1996,  4206,\n",
       "         3645,  9179, 17796,  7060,  2006,  1996, 27471,  4799,  7251,  1012,\n",
       "        13497,  4133, 20258, 25540, 25725,  2098,  1999, 11450,  2030,  2439,\n",
       "         1999,  1996,  5530,  1997,  2092,  1011,  6247,  2808,  1012, 22466,\n",
       "         9153,  2015,  3153,  2369,  1996,  4675,  2037, 10571,  2398,  7477,\n",
       "         2075, 17796,  2474,  4674,  2396,  1012,  2648,  1996,  2103,  1005,\n",
       "         1055,  6348,  4247,  1010,  2021,  2306,  2122,  3681,  1010,  2051,\n",
       "         3849,  2000,  4030,  5378,  1037,  8493,  1997, 14262, 20693, 13463,\n",
       "         1996,  3923,  8488,  1012,   102])"
      ]
     },
     "execution_count": 118,
     "metadata": {},
     "output_type": "execute_result"
    }
   ],
   "source": [
    "inputs.labels[0]"
   ]
  },
  {
   "cell_type": "code",
   "execution_count": 119,
   "id": "5c45b6f0",
   "metadata": {},
   "outputs": [
    {
     "data": {
      "text/plain": [
       "torch.Size([1, 115])"
      ]
     },
     "execution_count": 119,
     "metadata": {},
     "output_type": "execute_result"
    }
   ],
   "source": [
    "inputs.labels.shape"
   ]
  },
  {
   "cell_type": "code",
   "execution_count": 120,
   "id": "8e8db808",
   "metadata": {},
   "outputs": [],
   "source": [
    "ann=(inputs.labels==tokenenss)"
   ]
  },
  {
   "cell_type": "code",
   "execution_count": 121,
   "id": "dc4c8e50",
   "metadata": {},
   "outputs": [
    {
     "data": {
      "text/plain": [
       "tensor([[False,  True,  True,  True,  True,  True,  True,  True,  True,  True,\n",
       "          True,  True,  True,  True,  True,  True,  True,  True,  True,  True,\n",
       "          True,  True,  True,  True,  True,  True,  True,  True,  True,  True,\n",
       "          True, False, False,  True,  True,  True,  True,  True,  True,  True,\n",
       "          True,  True,  True, False,  True,  True,  True,  True,  True,  True,\n",
       "          True,  True,  True, False, False,  True,  True, False,  True, False,\n",
       "         False,  True,  True,  True,  True,  True,  True,  True,  True,  True,\n",
       "          True,  True,  True,  True,  True,  True,  True,  True,  True,  True,\n",
       "          True, False,  True,  True,  True,  True,  True,  True,  True,  True,\n",
       "          True,  True,  True,  True,  True,  True,  True,  True,  True,  True,\n",
       "          True,  True, False,  True,  True, False,  True,  True,  True, False,\n",
       "          True, False,  True,  True, False]])"
      ]
     },
     "execution_count": 121,
     "metadata": {},
     "output_type": "execute_result"
    }
   ],
   "source": [
    "ann"
   ]
  },
  {
   "cell_type": "code",
   "execution_count": 122,
   "id": "f1c864a5",
   "metadata": {},
   "outputs": [],
   "source": [
    "ans=tokenizer.decode(inputs.labels[0])"
   ]
  },
  {
   "cell_type": "code",
   "execution_count": 123,
   "id": "d0301d43",
   "metadata": {},
   "outputs": [
    {
     "data": {
      "text/plain": [
       "\"[CLS] in the heart of a bustling metropolis, amidst the symphony of honking horns and hurried footsteps a quaint cafe beckons with the aroma of freshly brewed coffee. sunlight filters through the tall windows casting intricate patterns on the rustic wooden tables. patrons sit huddled engrossed in conversations or lost in the pages of well - worn books. baristas dance behind the counter their skilled hands crafting intricate latte art. outside the city's rhythm continues, but within these walls, time seems to slow offering a sanctuary of serenity amid the urban chaos. [SEP]\""
      ]
     },
     "execution_count": 123,
     "metadata": {},
     "output_type": "execute_result"
    }
   ],
   "source": [
    "ans"
   ]
  },
  {
   "cell_type": "code",
   "execution_count": 124,
   "id": "fb36a8a5",
   "metadata": {},
   "outputs": [],
   "source": [
    "pred=tokenizer.decode(tokenenss[0])"
   ]
  },
  {
   "cell_type": "code",
   "execution_count": 125,
   "id": "3dcfbc2c",
   "metadata": {},
   "outputs": [
    {
     "data": {
      "text/plain": [
       "\". in the heart of a bustling metropolis, amidst the symphony of honking horns and hurried footsteps a quaint cafe beckons with the aroma of freshly made made coffee. sunlight filters through the tall windows casting intricate shadows on the rustic wooden tables. patrons sit huddled absorbed deeped in books or reading on the pages of well - worn books. baristas dance behind the counter their skilled hands crafting their latte art. outside the city's rhythm continues, but within these walls, time seems to be offering a sense of serenity to the metropolis chaos..\""
      ]
     },
     "execution_count": 125,
     "metadata": {},
     "output_type": "execute_result"
    }
   ],
   "source": [
    "pred"
   ]
  },
  {
   "cell_type": "code",
   "execution_count": null,
   "id": "63cbe115",
   "metadata": {},
   "outputs": [],
   "source": []
  }
 ],
 "metadata": {
  "kernelspec": {
   "display_name": "Python 3 (ipykernel)",
   "language": "python",
   "name": "python3"
  },
  "language_info": {
   "codemirror_mode": {
    "name": "ipython",
    "version": 3
   },
   "file_extension": ".py",
   "mimetype": "text/x-python",
   "name": "python",
   "nbconvert_exporter": "python",
   "pygments_lexer": "ipython3",
   "version": "3.10.2"
  }
 },
 "nbformat": 4,
 "nbformat_minor": 5
}
