{
 "cells": [
  {
   "cell_type": "code",
   "execution_count": 1,
   "id": "14bea1ab",
   "metadata": {},
   "outputs": [],
   "source": [
    "import torch"
   ]
  },
  {
   "cell_type": "code",
   "execution_count": 2,
   "id": "57f89a76",
   "metadata": {},
   "outputs": [],
   "source": [
    "import transformers"
   ]
  },
  {
   "cell_type": "code",
   "execution_count": 3,
   "id": "8b45b396",
   "metadata": {},
   "outputs": [],
   "source": [
    "from transformers import BertTokenizer,BertForNextSentencePrediction"
   ]
  },
  {
   "cell_type": "code",
   "execution_count": 4,
   "id": "f38fee10",
   "metadata": {},
   "outputs": [],
   "source": [
    "tokenizer=BertTokenizer.from_pretrained(\"bert-base-uncased\")\n",
    "model=BertForNextSentencePrediction.from_pretrained(\"bert-base-uncased\")"
   ]
  },
  {
   "cell_type": "code",
   "execution_count": 58,
   "id": "49e4e627",
   "metadata": {},
   "outputs": [],
   "source": [
    "text1=\"He is father of my brother\""
   ]
  },
  {
   "cell_type": "code",
   "execution_count": 59,
   "id": "ab65e046",
   "metadata": {},
   "outputs": [],
   "source": [
    "text2=\"i am father of my son\""
   ]
  },
  {
   "cell_type": "code",
   "execution_count": 60,
   "id": "1bb59944",
   "metadata": {},
   "outputs": [],
   "source": [
    "inputs=tokenizer(text1,text2,return_tensors='pt')"
   ]
  },
  {
   "cell_type": "code",
   "execution_count": 61,
   "id": "7c64652c",
   "metadata": {},
   "outputs": [
    {
     "data": {
      "text/plain": [
       "{'input_ids': tensor([[ 101, 2002, 2003, 2269, 1997, 2026, 2567,  102, 1045, 2572, 2269, 1997,\n",
       "         2026, 2365,  102]]), 'token_type_ids': tensor([[0, 0, 0, 0, 0, 0, 0, 0, 1, 1, 1, 1, 1, 1, 1]]), 'attention_mask': tensor([[1, 1, 1, 1, 1, 1, 1, 1, 1, 1, 1, 1, 1, 1, 1]])}"
      ]
     },
     "execution_count": 61,
     "metadata": {},
     "output_type": "execute_result"
    }
   ],
   "source": [
    "inputs"
   ]
  },
  {
   "cell_type": "code",
   "execution_count": 62,
   "id": "f2e0a800",
   "metadata": {},
   "outputs": [
    {
     "data": {
      "text/plain": [
       "'[CLS] he is father of my brother [SEP] i am father of my son [SEP]'"
      ]
     },
     "execution_count": 62,
     "metadata": {},
     "output_type": "execute_result"
    }
   ],
   "source": [
    "tokenizer.decode(inputs.input_ids[0])"
   ]
  },
  {
   "cell_type": "code",
   "execution_count": 63,
   "id": "5fb74c75",
   "metadata": {},
   "outputs": [],
   "source": [
    "labels=torch.LongTensor([0])"
   ]
  },
  {
   "cell_type": "code",
   "execution_count": 64,
   "id": "608e95b0",
   "metadata": {},
   "outputs": [
    {
     "data": {
      "text/plain": [
       "tensor([0])"
      ]
     },
     "execution_count": 64,
     "metadata": {},
     "output_type": "execute_result"
    }
   ],
   "source": [
    "labels"
   ]
  },
  {
   "cell_type": "code",
   "execution_count": 65,
   "id": "85b8403b",
   "metadata": {},
   "outputs": [],
   "source": [
    "inputs[\"labels\"]=labels"
   ]
  },
  {
   "cell_type": "code",
   "execution_count": 66,
   "id": "ec5ec98e",
   "metadata": {},
   "outputs": [
    {
     "data": {
      "text/plain": [
       "{'input_ids': tensor([[ 101, 2002, 2003, 2269, 1997, 2026, 2567,  102, 1045, 2572, 2269, 1997,\n",
       "         2026, 2365,  102]]), 'token_type_ids': tensor([[0, 0, 0, 0, 0, 0, 0, 0, 1, 1, 1, 1, 1, 1, 1]]), 'attention_mask': tensor([[1, 1, 1, 1, 1, 1, 1, 1, 1, 1, 1, 1, 1, 1, 1]]), 'labels': tensor([0])}"
      ]
     },
     "execution_count": 66,
     "metadata": {},
     "output_type": "execute_result"
    }
   ],
   "source": [
    "inputs"
   ]
  },
  {
   "cell_type": "code",
   "execution_count": 67,
   "id": "04e1f8f2",
   "metadata": {},
   "outputs": [],
   "source": [
    "opp=model(**inputs)"
   ]
  },
  {
   "cell_type": "code",
   "execution_count": 68,
   "id": "19745c41",
   "metadata": {},
   "outputs": [
    {
     "data": {
      "text/plain": [
       "tensor(4.1723e-06, grad_fn=<NllLossBackward0>)"
      ]
     },
     "execution_count": 68,
     "metadata": {},
     "output_type": "execute_result"
    }
   ],
   "source": [
    "opp.loss"
   ]
  },
  {
   "cell_type": "code",
   "execution_count": 70,
   "id": "bd0d10c6",
   "metadata": {},
   "outputs": [
    {
     "data": {
      "text/plain": [
       "tensor([[ 6.2908, -6.0857]], grad_fn=<AddmmBackward0>)"
      ]
     },
     "execution_count": 70,
     "metadata": {},
     "output_type": "execute_result"
    }
   ],
   "source": [
    "opp.logits"
   ]
  },
  {
   "cell_type": "code",
   "execution_count": 69,
   "id": "224fdf02",
   "metadata": {},
   "outputs": [
    {
     "data": {
      "text/plain": [
       "tensor(0)"
      ]
     },
     "execution_count": 69,
     "metadata": {},
     "output_type": "execute_result"
    }
   ],
   "source": [
    "torch.argmax(opp.logits)"
   ]
  },
  {
   "cell_type": "code",
   "execution_count": 40,
   "id": "33799528",
   "metadata": {},
   "outputs": [],
   "source": [
    "op=model(**inputs,labels=labels)"
   ]
  },
  {
   "cell_type": "code",
   "execution_count": 41,
   "id": "8cb0b55c",
   "metadata": {},
   "outputs": [
    {
     "data": {
      "text/plain": [
       "tensor(7.3909e-06, grad_fn=<NllLossBackward0>)"
      ]
     },
     "execution_count": 41,
     "metadata": {},
     "output_type": "execute_result"
    }
   ],
   "source": [
    "op.loss"
   ]
  },
  {
   "cell_type": "code",
   "execution_count": 42,
   "id": "e59208c1",
   "metadata": {},
   "outputs": [
    {
     "data": {
      "text/plain": [
       "tensor([[ 6.1240, -5.6856]], grad_fn=<AddmmBackward0>)"
      ]
     },
     "execution_count": 42,
     "metadata": {},
     "output_type": "execute_result"
    }
   ],
   "source": [
    "op.logits"
   ]
  },
  {
   "cell_type": "code",
   "execution_count": 43,
   "id": "6cc51a50",
   "metadata": {},
   "outputs": [
    {
     "data": {
      "text/plain": [
       "tensor(0)"
      ]
     },
     "execution_count": 43,
     "metadata": {},
     "output_type": "execute_result"
    }
   ],
   "source": [
    "torch.argmax(op.logits)"
   ]
  },
  {
   "cell_type": "code",
   "execution_count": null,
   "id": "3c1f231e",
   "metadata": {},
   "outputs": [],
   "source": []
  }
 ],
 "metadata": {
  "kernelspec": {
   "display_name": "Python 3 (ipykernel)",
   "language": "python",
   "name": "python3"
  },
  "language_info": {
   "codemirror_mode": {
    "name": "ipython",
    "version": 3
   },
   "file_extension": ".py",
   "mimetype": "text/x-python",
   "name": "python",
   "nbconvert_exporter": "python",
   "pygments_lexer": "ipython3",
   "version": "3.10.2"
  }
 },
 "nbformat": 4,
 "nbformat_minor": 5
}
