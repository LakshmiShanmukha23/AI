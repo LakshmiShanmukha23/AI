{
 "cells": [
  {
   "cell_type": "code",
   "execution_count": 1,
   "id": "6d71208b",
   "metadata": {},
   "outputs": [
    {
     "ename": "TypeError",
     "evalue": "Exception encountered when calling layer 'sequential' (type Sequential).\n\nMultiHeadAttention.call() missing 1 required positional argument: 'value'\n\nCall arguments received by layer 'sequential' (type Sequential):\n  • inputs=tf.Tensor(shape=(2, 5, 768), dtype=float32)\n  • training=False\n  • mask=None",
     "output_type": "error",
     "traceback": [
      "\u001b[1;31m---------------------------------------------------------------------------\u001b[0m",
      "\u001b[1;31mTypeError\u001b[0m                                 Traceback (most recent call last)",
      "Input \u001b[1;32mIn [1]\u001b[0m, in \u001b[0;36m<module>\u001b[1;34m\u001b[0m\n\u001b[0;32m     59\u001b[0m token_type_ids \u001b[38;5;241m=\u001b[39m tf\u001b[38;5;241m.\u001b[39mconstant([[\u001b[38;5;241m0\u001b[39m, \u001b[38;5;241m0\u001b[39m, \u001b[38;5;241m0\u001b[39m, \u001b[38;5;241m0\u001b[39m, \u001b[38;5;241m0\u001b[39m], [\u001b[38;5;241m0\u001b[39m, \u001b[38;5;241m1\u001b[39m, \u001b[38;5;241m1\u001b[39m, \u001b[38;5;241m1\u001b[39m, \u001b[38;5;241m1\u001b[39m]], dtype\u001b[38;5;241m=\u001b[39mtf\u001b[38;5;241m.\u001b[39mint32)  \u001b[38;5;66;03m# Example token type IDs\u001b[39;00m\n\u001b[0;32m     61\u001b[0m \u001b[38;5;66;03m# Obtain model outputs\u001b[39;00m\n\u001b[1;32m---> 62\u001b[0m outputs \u001b[38;5;241m=\u001b[39m \u001b[43mbert_model\u001b[49m\u001b[43m(\u001b[49m\u001b[43minput_ids\u001b[49m\u001b[43m,\u001b[49m\u001b[43m \u001b[49m\u001b[43mtoken_type_ids\u001b[49m\u001b[43m)\u001b[49m\n\u001b[0;32m     64\u001b[0m \u001b[38;5;28mprint\u001b[39m(\u001b[38;5;124m\"\u001b[39m\u001b[38;5;124mModel Output Shape:\u001b[39m\u001b[38;5;124m\"\u001b[39m, outputs\u001b[38;5;241m.\u001b[39mshape)\n",
      "File \u001b[1;32m~\\AppData\\Roaming\\Python\\Python310\\site-packages\\keras\\src\\utils\\traceback_utils.py:70\u001b[0m, in \u001b[0;36mfilter_traceback.<locals>.error_handler\u001b[1;34m(*args, **kwargs)\u001b[0m\n\u001b[0;32m     67\u001b[0m     filtered_tb \u001b[38;5;241m=\u001b[39m _process_traceback_frames(e\u001b[38;5;241m.\u001b[39m__traceback__)\n\u001b[0;32m     68\u001b[0m     \u001b[38;5;66;03m# To get the full stack trace, call:\u001b[39;00m\n\u001b[0;32m     69\u001b[0m     \u001b[38;5;66;03m# `tf.debugging.disable_traceback_filtering()`\u001b[39;00m\n\u001b[1;32m---> 70\u001b[0m     \u001b[38;5;28;01mraise\u001b[39;00m e\u001b[38;5;241m.\u001b[39mwith_traceback(filtered_tb) \u001b[38;5;28;01mfrom\u001b[39;00m \u001b[38;5;28mNone\u001b[39m\n\u001b[0;32m     71\u001b[0m \u001b[38;5;28;01mfinally\u001b[39;00m:\n\u001b[0;32m     72\u001b[0m     \u001b[38;5;28;01mdel\u001b[39;00m filtered_tb\n",
      "Input \u001b[1;32mIn [1]\u001b[0m, in \u001b[0;36mBertLikeModel.call\u001b[1;34m(self, inputs, token_type_ids, training)\u001b[0m\n\u001b[0;32m     44\u001b[0m embeddings \u001b[38;5;241m=\u001b[39m embeddings \u001b[38;5;241m+\u001b[39m position_embeddings \u001b[38;5;241m+\u001b[39m token_type_embeddings\n\u001b[0;32m     46\u001b[0m \u001b[38;5;28;01mfor\u001b[39;00m encoder_layer \u001b[38;5;129;01min\u001b[39;00m \u001b[38;5;28mself\u001b[39m\u001b[38;5;241m.\u001b[39mencoder_layers:\n\u001b[1;32m---> 47\u001b[0m     embeddings \u001b[38;5;241m=\u001b[39m \u001b[43mencoder_layer\u001b[49m\u001b[43m(\u001b[49m\u001b[43membeddings\u001b[49m\u001b[43m,\u001b[49m\u001b[43m \u001b[49m\u001b[43mtraining\u001b[49m\u001b[38;5;241;43m=\u001b[39;49m\u001b[43mtraining\u001b[49m\u001b[43m)\u001b[49m\n\u001b[0;32m     49\u001b[0m pooled_output \u001b[38;5;241m=\u001b[39m \u001b[38;5;28mself\u001b[39m\u001b[38;5;241m.\u001b[39mpooler(embeddings[:, \u001b[38;5;241m0\u001b[39m, :])  \u001b[38;5;66;03m# Taking [CLS] token's representation for pooling\u001b[39;00m\n\u001b[0;32m     51\u001b[0m \u001b[38;5;28;01mreturn\u001b[39;00m pooled_output\n",
      "\u001b[1;31mTypeError\u001b[0m: Exception encountered when calling layer 'sequential' (type Sequential).\n\nMultiHeadAttention.call() missing 1 required positional argument: 'value'\n\nCall arguments received by layer 'sequential' (type Sequential):\n  • inputs=tf.Tensor(shape=(2, 5, 768), dtype=float32)\n  • training=False\n  • mask=None"
     ]
    }
   ],
   "source": [
    "import tensorflow as tf\n",
    "\n",
    "class BertLikeModel(tf.keras.Model):\n",
    "    def __init__(self, vocab_size, hidden_size=768, num_layers=12, num_heads=12, intermediate_size=3072, max_position_embeddings=512, num_token_types=2, dropout_rate=0.1):\n",
    "        super(BertLikeModel, self).__init__()\n",
    "\n",
    "        self.embedding_layer = tf.keras.layers.Embedding(input_dim=vocab_size, output_dim=hidden_size, mask_zero=True)\n",
    "        self.position_embedding_layer = tf.keras.layers.Embedding(input_dim=max_position_embeddings, output_dim=hidden_size)\n",
    "        self.token_type_embedding_layer = tf.keras.layers.Embedding(input_dim=num_token_types, output_dim=hidden_size)\n",
    "\n",
    "        self.encoder_layers = []\n",
    "        for _ in range(num_layers):\n",
    "            self_attention = tf.keras.layers.MultiHeadAttention(num_heads=num_heads, key_dim=hidden_size // num_heads, dropout=dropout_rate)\n",
    "            intermediate_dense = tf.keras.layers.Dense(units=intermediate_size, activation='gelu')\n",
    "            output_dense = tf.keras.layers.Dense(units=hidden_size)\n",
    "            layer_norm1 = tf.keras.layers.LayerNormalization(epsilon=1e-12)\n",
    "            layer_norm2 = tf.keras.layers.LayerNormalization(epsilon=1e-12)\n",
    "            dropout1 = tf.keras.layers.Dropout(rate=dropout_rate)\n",
    "            dropout2 = tf.keras.layers.Dropout(rate=dropout_rate)\n",
    "\n",
    "            encoder_layer = tf.keras.Sequential([\n",
    "                self_attention,\n",
    "                dropout1,\n",
    "                layer_norm1,\n",
    "                tf.keras.layers.Add(),\n",
    "                intermediate_dense,\n",
    "                output_dense,\n",
    "                dropout2,\n",
    "                layer_norm2,\n",
    "                tf.keras.layers.Add()\n",
    "            ])\n",
    "            self.encoder_layers.append(encoder_layer)\n",
    "\n",
    "        self.pooler = tf.keras.layers.Dense(units=hidden_size, activation='tanh')\n",
    "\n",
    "    def call(self, inputs, token_type_ids=None, training=False):\n",
    "        mask = tf.math.not_equal(inputs, 0)\n",
    "        embeddings = self.embedding_layer(inputs)\n",
    "        position_embeddings = self.position_embedding_layer(tf.range(tf.shape(inputs)[-1]))\n",
    "        if token_type_ids is not None:\n",
    "            token_type_embeddings = self.token_type_embedding_layer(token_type_ids)\n",
    "        else:\n",
    "            token_type_embeddings = 0\n",
    "        embeddings = embeddings + position_embeddings + token_type_embeddings\n",
    "\n",
    "        for encoder_layer in self.encoder_layers:\n",
    "            embeddings = encoder_layer(embeddings, training=training)\n",
    "\n",
    "        pooled_output = self.pooler(embeddings[:, 0, :])  # Taking [CLS] token's representation for pooling\n",
    "\n",
    "        return pooled_output\n",
    "\n",
    "# Create an instance of the BertLikeModel\n",
    "vocab_size = 30522  # Example vocabulary size\n",
    "bert_model = BertLikeModel(vocab_size)\n",
    "\n",
    "# Example input\n",
    "input_ids = tf.constant([[101, 123, 456, 789, 102], [101, 234, 567, 890, 102]], dtype=tf.int32)\n",
    "token_type_ids = tf.constant([[0, 0, 0, 0, 0], [0, 1, 1, 1, 1]], dtype=tf.int32)  # Example token type IDs\n",
    "\n",
    "# Obtain model outputs\n",
    "outputs = bert_model(input_ids, token_type_ids)\n",
    "\n",
    "print(\"Model Output Shape:\", outputs.shape)\n"
   ]
  },
  {
   "cell_type": "code",
   "execution_count": null,
   "id": "55971ad8",
   "metadata": {},
   "outputs": [],
   "source": []
  }
 ],
 "metadata": {
  "kernelspec": {
   "display_name": "Python 3 (ipykernel)",
   "language": "python",
   "name": "python3"
  },
  "language_info": {
   "codemirror_mode": {
    "name": "ipython",
    "version": 3
   },
   "file_extension": ".py",
   "mimetype": "text/x-python",
   "name": "python",
   "nbconvert_exporter": "python",
   "pygments_lexer": "ipython3",
   "version": "3.10.2"
  }
 },
 "nbformat": 4,
 "nbformat_minor": 5
}
