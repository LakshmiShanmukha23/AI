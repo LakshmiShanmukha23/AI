{
 "cells": [
  {
   "cell_type": "code",
   "execution_count": 92,
   "id": "a42a5f09",
   "metadata": {},
   "outputs": [],
   "source": [
    "import tensorflow as tf"
   ]
  },
  {
   "cell_type": "code",
   "execution_count": 86,
   "id": "a827d264",
   "metadata": {},
   "outputs": [],
   "source": [
    "import transformers"
   ]
  },
  {
   "cell_type": "code",
   "execution_count": 87,
   "id": "16544958",
   "metadata": {},
   "outputs": [],
   "source": [
    "from transformers import BertTokenizer,TFBertForPreTraining"
   ]
  },
  {
   "cell_type": "code",
   "execution_count": 88,
   "id": "c5d3211f",
   "metadata": {},
   "outputs": [
    {
     "name": "stderr",
     "output_type": "stream",
     "text": [
      "All PyTorch model weights were used when initializing TFBertForPreTraining.\n",
      "\n",
      "All the weights of TFBertForPreTraining were initialized from the PyTorch model.\n",
      "If your task is similar to the task the model of the checkpoint was trained on, you can already use TFBertForPreTraining for predictions without further training.\n"
     ]
    }
   ],
   "source": [
    "tokenizer=BertTokenizer.from_pretrained(\"bert-base-uncased\")\n",
    "model=TFBertForPreTraining.from_pretrained(\"bert-base-uncased\")"
   ]
  },
  {
   "cell_type": "code",
   "execution_count": 89,
   "id": "9097b0a2",
   "metadata": {},
   "outputs": [
    {
     "name": "stdout",
     "output_type": "stream",
     "text": [
      "Model: \"tf_bert_for_pre_training_1\"\n",
      "_________________________________________________________________\n",
      " Layer (type)                Output Shape              Param #   \n",
      "=================================================================\n",
      " bert (TFBertMainLayer)      multiple                  109482240 \n",
      "                                                                 \n",
      " nsp___cls (TFBertNSPHead)   multiple                  1538      \n",
      "                                                                 \n",
      " mlm___cls (TFBertMLMHead)   multiple                  24459834  \n",
      "                                                                 \n",
      "=================================================================\n",
      "Total params: 110106428 (420.02 MB)\n",
      "Trainable params: 110106428 (420.02 MB)\n",
      "Non-trainable params: 0 (0.00 Byte)\n",
      "_________________________________________________________________\n"
     ]
    }
   ],
   "source": [
    "model.summary() "
   ]
  },
  {
   "cell_type": "code",
   "execution_count": 6,
   "id": "3be11312",
   "metadata": {},
   "outputs": [],
   "source": [
    "with open(\"clean.txt\",'r') as fp:\n",
    "    text=fp.read().split(\"\\n\")"
   ]
  },
  {
   "cell_type": "code",
   "execution_count": 7,
   "id": "81e8e733",
   "metadata": {},
   "outputs": [
    {
     "data": {
      "text/plain": [
       "507"
      ]
     },
     "execution_count": 7,
     "metadata": {},
     "output_type": "execute_result"
    }
   ],
   "source": [
    "len(text)"
   ]
  },
  {
   "cell_type": "code",
   "execution_count": 8,
   "id": "c212968a",
   "metadata": {},
   "outputs": [
    {
     "data": {
      "text/plain": [
       "['From my grandfather Verus I learned good morals and the government of my temper.',\n",
       " 'From the reputation and remembrance of my father, modesty and a manly character.',\n",
       " 'From my mother, piety and beneficence, and abstinence, not only from evil deeds, but even from evil thoughts; and further, simplicity in my way of living, far removed from the habits of the rich.',\n",
       " 'From my great-grandfather, not to have frequented public schools, and to have had good teachers at home, and to know that on such things a man should spend liberally.',\n",
       " \"From my governor, to be neither of the green nor of the blue party at the games in the Circus, nor a partizan either of the Parmularius or the Scutarius at the gladiators' fights; from him too I learned endurance of labour, and to want little, and to work with my own hands, and not to meddle with other people's affairs, and not to be ready to listen to slander.\"]"
      ]
     },
     "execution_count": 8,
     "metadata": {},
     "output_type": "execute_result"
    }
   ],
   "source": [
    "text[:5]"
   ]
  },
  {
   "cell_type": "markdown",
   "id": "a24435ec",
   "metadata": {},
   "source": [
    "# NSP"
   ]
  },
  {
   "cell_type": "code",
   "execution_count": 9,
   "id": "1828fcff",
   "metadata": {},
   "outputs": [],
   "source": [
    "bag=[sentence for paragraph in text for sentence in paragraph.split('.') if sentence!='']"
   ]
  },
  {
   "cell_type": "code",
   "execution_count": 10,
   "id": "694dbc17",
   "metadata": {},
   "outputs": [
    {
     "data": {
      "text/plain": [
       "1372"
      ]
     },
     "execution_count": 10,
     "metadata": {},
     "output_type": "execute_result"
    }
   ],
   "source": [
    "len(bag)"
   ]
  },
  {
   "cell_type": "code",
   "execution_count": 11,
   "id": "6f884c09",
   "metadata": {},
   "outputs": [],
   "source": [
    "import random\n",
    "\n",
    "sentence_a=[]\n",
    "sentence_b=[]\n",
    "label=[]\n",
    "\n",
    "for paragraph in text:\n",
    "    sentences=[\n",
    "        sentence for sentence in paragraph.split('.') if sentence!=''\n",
    "    ]\n",
    "    num_sentences=len(sentences)\n",
    "    if num_sentences>1:\n",
    "        start=random.randint(0,num_sentences-2)\n",
    "        sentence_a.append(sentences[start])\n",
    "        if random.random()>0.5:\n",
    "            sentence_b.append(sentences[start+1])\n",
    "            label.append(0)\n",
    "            \n",
    "        else:\n",
    "            sentence_b.append(bag[random.randint(0,len(bag)-1)])\n",
    "            label.append(1)"
   ]
  },
  {
   "cell_type": "code",
   "execution_count": 12,
   "id": "fc6043f2",
   "metadata": {},
   "outputs": [
    {
     "data": {
      "text/plain": [
       "(317, 317, 317)"
      ]
     },
     "execution_count": 12,
     "metadata": {},
     "output_type": "execute_result"
    }
   ],
   "source": [
    "len(sentence_a),len(sentence_b),len(label)"
   ]
  },
  {
   "cell_type": "code",
   "execution_count": 13,
   "id": "6fa20194",
   "metadata": {},
   "outputs": [],
   "source": [
    "sentence__a=sentence_a[:15]\n",
    "sentence__b=sentence_b[:15]\n",
    "label_=label[:15]"
   ]
  },
  {
   "cell_type": "code",
   "execution_count": 14,
   "id": "950d0a8d",
   "metadata": {},
   "outputs": [
    {
     "data": {
      "text/plain": [
       "(15, 15, 15)"
      ]
     },
     "execution_count": 14,
     "metadata": {},
     "output_type": "execute_result"
    }
   ],
   "source": [
    "len(sentence__a),len(sentence__b),len(label_)"
   ]
  },
  {
   "cell_type": "code",
   "execution_count": 15,
   "id": "a7e329f3",
   "metadata": {},
   "outputs": [],
   "source": [
    "inputs=tokenizer(sentence__a,sentence__b,padding=True,truncation=True,return_tensors='tf')"
   ]
  },
  {
   "cell_type": "code",
   "execution_count": 16,
   "id": "c010e32d",
   "metadata": {},
   "outputs": [
    {
     "data": {
      "text/plain": [
       "TensorShape([15, 181])"
      ]
     },
     "execution_count": 16,
     "metadata": {},
     "output_type": "execute_result"
    }
   ],
   "source": [
    "inputs.input_ids.shape"
   ]
  },
  {
   "cell_type": "code",
   "execution_count": 17,
   "id": "a7822e0e",
   "metadata": {},
   "outputs": [],
   "source": [
    "inputs[\"next_sentence_label\"]=tf.transpose(tf.convert_to_tensor([label_]),(1,0))"
   ]
  },
  {
   "cell_type": "code",
   "execution_count": 18,
   "id": "e43ac6bf",
   "metadata": {},
   "outputs": [
    {
     "data": {
      "text/plain": [
       "TensorShape([15, 1])"
      ]
     },
     "execution_count": 18,
     "metadata": {},
     "output_type": "execute_result"
    }
   ],
   "source": [
    "inputs.next_sentence_label.shape"
   ]
  },
  {
   "cell_type": "markdown",
   "id": "75caa4a5",
   "metadata": {},
   "source": [
    "# MLM"
   ]
  },
  {
   "cell_type": "code",
   "execution_count": 27,
   "id": "73fd2cde",
   "metadata": {},
   "outputs": [],
   "source": [
    "inputs[\"labels\"]=tf.identity(inputs.input_ids)"
   ]
  },
  {
   "cell_type": "code",
   "execution_count": 28,
   "id": "3d25b00b",
   "metadata": {},
   "outputs": [
    {
     "data": {
      "text/plain": [
       "TensorShape([15, 181])"
      ]
     },
     "execution_count": 28,
     "metadata": {},
     "output_type": "execute_result"
    }
   ],
   "source": [
    "inputs.labels.shape"
   ]
  },
  {
   "cell_type": "code",
   "execution_count": 29,
   "id": "b7275614",
   "metadata": {},
   "outputs": [],
   "source": [
    "random=tf.random.uniform(inputs.input_ids.shape)"
   ]
  },
  {
   "cell_type": "code",
   "execution_count": 30,
   "id": "7d656abe",
   "metadata": {},
   "outputs": [
    {
     "data": {
      "text/plain": [
       "TensorShape([15, 181])"
      ]
     },
     "execution_count": 30,
     "metadata": {},
     "output_type": "execute_result"
    }
   ],
   "source": [
    "random.shape"
   ]
  },
  {
   "cell_type": "code",
   "execution_count": 31,
   "id": "2454ad3e",
   "metadata": {},
   "outputs": [],
   "source": [
    "array=(inputs.input_ids!=101)"
   ]
  },
  {
   "cell_type": "code",
   "execution_count": 32,
   "id": "d6f0e3f3",
   "metadata": {},
   "outputs": [
    {
     "data": {
      "text/plain": [
       "<tf.Tensor: shape=(15, 181), dtype=bool, numpy=\n",
       "array([[False,  True,  True, ...,  True,  True,  True],\n",
       "       [False,  True,  True, ...,  True,  True,  True],\n",
       "       [False,  True,  True, ...,  True,  True,  True],\n",
       "       ...,\n",
       "       [False,  True,  True, ...,  True,  True,  True],\n",
       "       [False,  True,  True, ...,  True,  True,  True],\n",
       "       [False,  True,  True, ...,  True,  True,  True]])>"
      ]
     },
     "execution_count": 32,
     "metadata": {},
     "output_type": "execute_result"
    }
   ],
   "source": [
    "array"
   ]
  },
  {
   "cell_type": "code",
   "execution_count": 33,
   "id": "59c1c4ed",
   "metadata": {},
   "outputs": [
    {
     "data": {
      "text/plain": [
       "<tf.Tensor: shape=(15, 181), dtype=int32, numpy=\n",
       "array([[0, 1, 1, ..., 1, 1, 1],\n",
       "       [0, 1, 1, ..., 1, 1, 1],\n",
       "       [0, 1, 1, ..., 1, 1, 1],\n",
       "       ...,\n",
       "       [0, 1, 1, ..., 1, 1, 1],\n",
       "       [0, 1, 1, ..., 1, 1, 1],\n",
       "       [0, 1, 1, ..., 1, 1, 1]])>"
      ]
     },
     "execution_count": 33,
     "metadata": {},
     "output_type": "execute_result"
    }
   ],
   "source": [
    "tf.cast(array,dtype=tf.int32)"
   ]
  },
  {
   "cell_type": "code",
   "execution_count": 34,
   "id": "ebdb1a4b",
   "metadata": {},
   "outputs": [
    {
     "data": {
      "text/plain": [
       "<tf.Tensor: shape=(15, 181), dtype=int32, numpy=\n",
       "array([[0, 1, 1, ..., 1, 1, 1],\n",
       "       [0, 1, 1, ..., 1, 1, 1],\n",
       "       [0, 1, 1, ..., 1, 1, 1],\n",
       "       ...,\n",
       "       [0, 1, 1, ..., 1, 1, 1],\n",
       "       [0, 1, 1, ..., 1, 1, 1],\n",
       "       [0, 1, 1, ..., 1, 1, 1]])>"
      ]
     },
     "execution_count": 34,
     "metadata": {},
     "output_type": "execute_result"
    }
   ],
   "source": [
    "tf.where(array,1,0)"
   ]
  },
  {
   "cell_type": "code",
   "execution_count": 35,
   "id": "cbd4653f",
   "metadata": {},
   "outputs": [
    {
     "data": {
      "text/plain": [
       "<tf.Tensor: shape=(15, 181), dtype=int32, numpy=\n",
       "array([[0, 1, 1, ..., 0, 0, 0],\n",
       "       [0, 1, 1, ..., 0, 0, 0],\n",
       "       [0, 1, 1, ..., 0, 0, 0],\n",
       "       ...,\n",
       "       [0, 1, 1, ..., 1, 1, 0],\n",
       "       [0, 1, 1, ..., 0, 0, 0],\n",
       "       [0, 1, 1, ..., 0, 0, 0]])>"
      ]
     },
     "execution_count": 35,
     "metadata": {},
     "output_type": "execute_result"
    }
   ],
   "source": [
    "ann=tf.cast((inputs.input_ids!=101),tf.int32)*tf.cast((inputs.input_ids!=102),tf.int32)*tf.cast((inputs.input_ids!=0),tf.int32)\n",
    "ann"
   ]
  },
  {
   "cell_type": "code",
   "execution_count": 36,
   "id": "adaff809",
   "metadata": {},
   "outputs": [],
   "source": [
    "mask_arr=tf.cast((random<0.15),tf.int32)*ann"
   ]
  },
  {
   "cell_type": "code",
   "execution_count": 37,
   "id": "1f06bb87",
   "metadata": {},
   "outputs": [
    {
     "data": {
      "text/plain": [
       "<tf.Tensor: shape=(15, 181), dtype=int32, numpy=\n",
       "array([[0, 0, 0, ..., 0, 0, 0],\n",
       "       [0, 0, 0, ..., 0, 0, 0],\n",
       "       [0, 0, 0, ..., 0, 0, 0],\n",
       "       ...,\n",
       "       [0, 0, 0, ..., 0, 0, 0],\n",
       "       [0, 0, 0, ..., 0, 0, 0],\n",
       "       [0, 0, 0, ..., 0, 0, 0]])>"
      ]
     },
     "execution_count": 37,
     "metadata": {},
     "output_type": "execute_result"
    }
   ],
   "source": [
    "mask_arr"
   ]
  },
  {
   "cell_type": "code",
   "execution_count": 38,
   "id": "f948bc93",
   "metadata": {},
   "outputs": [],
   "source": [
    "mask_arr=tf.cast(mask_arr,tf.bool)"
   ]
  },
  {
   "cell_type": "code",
   "execution_count": 39,
   "id": "030e3fee",
   "metadata": {},
   "outputs": [
    {
     "data": {
      "text/plain": [
       "<tf.Tensor: shape=(15, 181), dtype=bool, numpy=\n",
       "array([[False, False, False, ..., False, False, False],\n",
       "       [False, False, False, ..., False, False, False],\n",
       "       [False, False, False, ..., False, False, False],\n",
       "       ...,\n",
       "       [False, False, False, ..., False, False, False],\n",
       "       [False, False, False, ..., False, False, False],\n",
       "       [False, False, False, ..., False, False, False]])>"
      ]
     },
     "execution_count": 39,
     "metadata": {},
     "output_type": "execute_result"
    }
   ],
   "source": [
    "mask_arr"
   ]
  },
  {
   "cell_type": "markdown",
   "id": "8a5bea12",
   "metadata": {},
   "source": [
    "# Numpy"
   ]
  },
  {
   "cell_type": "code",
   "execution_count": 40,
   "id": "a4a15361",
   "metadata": {},
   "outputs": [],
   "source": [
    "import numpy as np"
   ]
  },
  {
   "cell_type": "code",
   "execution_count": 41,
   "id": "615500c2",
   "metadata": {},
   "outputs": [],
   "source": [
    "inputs_ids=np.array(inputs.input_ids)"
   ]
  },
  {
   "cell_type": "code",
   "execution_count": 42,
   "id": "304979b4",
   "metadata": {},
   "outputs": [
    {
     "data": {
      "text/plain": [
       "(15, 181)"
      ]
     },
     "execution_count": 42,
     "metadata": {},
     "output_type": "execute_result"
    }
   ],
   "source": [
    "inputs_ids.shape"
   ]
  },
  {
   "cell_type": "code",
   "execution_count": 101,
   "id": "e2f283fc",
   "metadata": {},
   "outputs": [],
   "source": [
    "select=[]\n",
    "for i in range(len(mask_arr)):\n",
    "    selected=np.where(mask_arr[i]!=False)\n",
    "    select.append(selected)\n",
    "    value=103\n",
    "    for j in selected:\n",
    "        inputs_ids[i,j]=value"
   ]
  },
  {
   "cell_type": "code",
   "execution_count": 44,
   "id": "9c2f23c2",
   "metadata": {},
   "outputs": [
    {
     "data": {
      "text/plain": [
       "array([[  101,  2002,  2001, ...,     0,     0,     0],\n",
       "       [  101,  2057,  2113, ...,     0,     0,     0],\n",
       "       [  101,  2582,  1010, ...,     0,     0,     0],\n",
       "       ...,\n",
       "       [  101,  2129,  2855, ...,  1037,  2775,   102],\n",
       "       [  101,  1998,  7065, ...,     0,     0,     0],\n",
       "       [  101,  2295, 15223, ...,     0,     0,     0]])"
      ]
     },
     "execution_count": 44,
     "metadata": {},
     "output_type": "execute_result"
    }
   ],
   "source": [
    "inputs_ids"
   ]
  },
  {
   "cell_type": "markdown",
   "id": "218ebaff",
   "metadata": {},
   "source": [
    "# Tensorflow"
   ]
  },
  {
   "cell_type": "code",
   "execution_count": 45,
   "id": "1ecd7ca7",
   "metadata": {},
   "outputs": [],
   "source": [
    "inputs_ids=np.random.random(inputs.input_ids.shape)"
   ]
  },
  {
   "cell_type": "code",
   "execution_count": 46,
   "id": "4729353c",
   "metadata": {},
   "outputs": [],
   "source": [
    "for i in range(len(mask_arr)):\n",
    "    selected=tf.cast(tf.where(mask_arr[i]!=False),dtype=tf.int32)\n",
    "    value=tf.constant([103],dtype=tf.int32)\n",
    "    value=tf.broadcast_to(value, [len(selected)])\n",
    "    inputs_ids[i]=tf.tensor_scatter_nd_update(inputs.input_ids[i], selected,value)"
   ]
  },
  {
   "cell_type": "code",
   "execution_count": 47,
   "id": "57a822eb",
   "metadata": {},
   "outputs": [],
   "source": [
    "input_ids=tf.cast(tf.convert_to_tensor(inputs_ids),tf.int32)"
   ]
  },
  {
   "cell_type": "code",
   "execution_count": 48,
   "id": "94ffe9f1",
   "metadata": {},
   "outputs": [],
   "source": [
    "inputs[\"input_ids\"]=input_ids"
   ]
  },
  {
   "cell_type": "markdown",
   "id": "9a2a2bae",
   "metadata": {},
   "source": [
    "# Checking wheather numpy and tensorflow give same output or not"
   ]
  },
  {
   "cell_type": "code",
   "execution_count": 49,
   "id": "5a64472f",
   "metadata": {},
   "outputs": [
    {
     "data": {
      "text/plain": [
       "<tf.Tensor: shape=(15, 181), dtype=bool, numpy=\n",
       "array([[ True,  True,  True, ...,  True,  True,  True],\n",
       "       [ True,  True,  True, ...,  True,  True,  True],\n",
       "       [ True,  True,  True, ...,  True,  True,  True],\n",
       "       ...,\n",
       "       [ True,  True,  True, ...,  True,  True,  True],\n",
       "       [ True,  True,  True, ...,  True,  True,  True],\n",
       "       [ True,  True,  True, ...,  True,  True,  True]])>"
      ]
     },
     "execution_count": 49,
     "metadata": {},
     "output_type": "execute_result"
    }
   ],
   "source": [
    "inputs.input_ids==inputs_ids"
   ]
  },
  {
   "cell_type": "code",
   "execution_count": 50,
   "id": "8464dc14",
   "metadata": {},
   "outputs": [],
   "source": [
    "are_equal = np.array_equal(inputs_ids, inputs.input_ids)"
   ]
  },
  {
   "cell_type": "code",
   "execution_count": 51,
   "id": "7ea68e60",
   "metadata": {},
   "outputs": [
    {
     "data": {
      "text/plain": [
       "True"
      ]
     },
     "execution_count": 51,
     "metadata": {},
     "output_type": "execute_result"
    }
   ],
   "source": [
    "are_equal"
   ]
  },
  {
   "cell_type": "markdown",
   "id": "a55635da",
   "metadata": {},
   "source": [
    "# Inbuilt Training"
   ]
  },
  {
   "cell_type": "code",
   "execution_count": 52,
   "id": "5eddc585",
   "metadata": {},
   "outputs": [],
   "source": [
    "output=model(**inputs)"
   ]
  },
  {
   "cell_type": "code",
   "execution_count": 83,
   "id": "771bc983",
   "metadata": {},
   "outputs": [
    {
     "data": {
      "text/plain": [
       "odict_keys(['loss', 'prediction_logits', 'seq_relationship_logits'])"
      ]
     },
     "execution_count": 83,
     "metadata": {},
     "output_type": "execute_result"
    }
   ],
   "source": [
    "output.keys()"
   ]
  },
  {
   "cell_type": "code",
   "execution_count": 51,
   "id": "510580c7",
   "metadata": {},
   "outputs": [
    {
     "data": {
      "text/plain": [
       "array([61.209457], dtype=float32)"
      ]
     },
     "execution_count": 51,
     "metadata": {},
     "output_type": "execute_result"
    }
   ],
   "source": [
    "output.loss.numpy()"
   ]
  },
  {
   "cell_type": "markdown",
   "id": "2eefdc94",
   "metadata": {},
   "source": [
    "# Custom training (Pretrain)"
   ]
  },
  {
   "cell_type": "code",
   "execution_count": 57,
   "id": "3602808f",
   "metadata": {},
   "outputs": [],
   "source": [
    "data_loader = tf.data.Dataset.from_tensor_slices(inputs).batch(5)"
   ]
  },
  {
   "cell_type": "code",
   "execution_count": 58,
   "id": "c6e8f76d",
   "metadata": {},
   "outputs": [
    {
     "data": {
      "text/plain": [
       "<_BatchDataset element_spec={'input_ids': TensorSpec(shape=(None, 181), dtype=tf.int32, name=None), 'token_type_ids': TensorSpec(shape=(None, 181), dtype=tf.int32, name=None), 'attention_mask': TensorSpec(shape=(None, 181), dtype=tf.int32, name=None), 'next_sentence_label': TensorSpec(shape=(None, 1), dtype=tf.int32, name=None), 'labels': TensorSpec(shape=(None, 181), dtype=tf.int32, name=None)}>"
      ]
     },
     "execution_count": 58,
     "metadata": {},
     "output_type": "execute_result"
    }
   ],
   "source": [
    "data_loader"
   ]
  },
  {
   "cell_type": "code",
   "execution_count": 62,
   "id": "5609b094",
   "metadata": {},
   "outputs": [
    {
     "name": "stdout",
     "output_type": "stream",
     "text": [
      "5\n",
      "5\n",
      "5\n"
     ]
    }
   ],
   "source": [
    "for i in data_loader:\n",
    "    print(len(i))"
   ]
  },
  {
   "cell_type": "code",
   "execution_count": 90,
   "id": "771e84ee",
   "metadata": {},
   "outputs": [],
   "source": [
    "from tensorflow.keras.optimizers import AdamW\n",
    "optimizer = AdamW(learning_rate=5e-5)"
   ]
  },
  {
   "cell_type": "code",
   "execution_count": 91,
   "id": "b43adeeb",
   "metadata": {},
   "outputs": [],
   "source": [
    "from tqdm import tqdm"
   ]
  },
  {
   "cell_type": "code",
   "execution_count": 93,
   "id": "90fdf695",
   "metadata": {},
   "outputs": [
    {
     "name": "stderr",
     "output_type": "stream",
     "text": [
      "\r",
      "  0%|                                                                                            | 0/3 [00:00<?, ?it/s]"
     ]
    },
    {
     "name": "stdout",
     "output_type": "stream",
     "text": [
      "tf.Tensor([27.046858], shape=(1,), dtype=float32)\n"
     ]
    },
    {
     "name": "stderr",
     "output_type": "stream",
     "text": [
      "Epoch 0:  33%|███████████████████                                      | 1/3 [01:36<03:12, 96.36s/it, loss=[27.046858]]"
     ]
    },
    {
     "name": "stdout",
     "output_type": "stream",
     "text": [
      "tf.Tensor([22.904367], shape=(1,), dtype=float32)\n"
     ]
    },
    {
     "name": "stderr",
     "output_type": "stream",
     "text": [
      "Epoch 0:  67%|██████████████████████████████████████                   | 2/3 [02:45<01:20, 80.53s/it, loss=[22.904367]]"
     ]
    },
    {
     "name": "stdout",
     "output_type": "stream",
     "text": [
      "tf.Tensor([14.950767], shape=(1,), dtype=float32)\n"
     ]
    },
    {
     "name": "stderr",
     "output_type": "stream",
     "text": [
      "Epoch 0: 100%|█████████████████████████████████████████████████████████| 3/3 [03:18<00:00, 66.04s/it, loss=[14.950767]]\n",
      "  0%|                                                                                            | 0/3 [00:00<?, ?it/s]"
     ]
    },
    {
     "name": "stdout",
     "output_type": "stream",
     "text": [
      "tf.Tensor([8.596188], shape=(1,), dtype=float32)\n"
     ]
    },
    {
     "name": "stderr",
     "output_type": "stream",
     "text": [
      "Epoch 1:  33%|███████████████████▎                                      | 1/3 [00:25<00:51, 25.75s/it, loss=[8.596188]]"
     ]
    },
    {
     "name": "stdout",
     "output_type": "stream",
     "text": [
      "tf.Tensor([11.860811], shape=(1,), dtype=float32)\n"
     ]
    },
    {
     "name": "stderr",
     "output_type": "stream",
     "text": [
      "Epoch 1:  67%|██████████████████████████████████████                   | 2/3 [00:46<00:22, 22.84s/it, loss=[11.860811]]"
     ]
    },
    {
     "name": "stdout",
     "output_type": "stream",
     "text": [
      "tf.Tensor([6.659443], shape=(1,), dtype=float32)\n"
     ]
    },
    {
     "name": "stderr",
     "output_type": "stream",
     "text": [
      "Epoch 1: 100%|██████████████████████████████████████████████████████████| 3/3 [01:07<00:00, 22.40s/it, loss=[6.659443]]\n"
     ]
    }
   ],
   "source": [
    "epochs = 2\n",
    "\n",
    "for epoch in range(epochs):\n",
    "    step = tqdm(data_loader, leave=True)\n",
    "    \n",
    "    for batch in step:\n",
    "        input_ids=batch[\"input_ids\"]\n",
    "        attention_mask=batch[\"attention_mask\"]\n",
    "        next_sentence_label=batch[\"next_sentence_label\"]\n",
    "        token_type_ids=batch[\"token_type_ids\"]\n",
    "        labels=batch[\"labels\"]\n",
    "        \n",
    "        with tf.GradientTape() as tape:\n",
    "            outputs = model(\n",
    "                input_ids,\n",
    "                attention_mask=attention_mask,\n",
    "                token_type_ids=token_type_ids,\n",
    "                 next_sentence_label=next_sentence_label,\n",
    "                labels=labels\n",
    "            )\n",
    "            loss = outputs.loss\n",
    "            print(loss)\n",
    "            \n",
    "        \n",
    "        gradients = tape.gradient(loss, model.trainable_variables)\n",
    "        optimizer.apply_gradients(zip(gradients, model.trainable_variables))\n",
    "        \n",
    "        step.set_description(f\"Epoch {epoch}\")\n",
    "        step.set_postfix(loss=loss.numpy())\n"
   ]
  },
  {
   "cell_type": "code",
   "execution_count": 95,
   "id": "74fb0489",
   "metadata": {},
   "outputs": [],
   "source": [
    "opp=model(**inputs)"
   ]
  },
  {
   "cell_type": "code",
   "execution_count": 96,
   "id": "5f768141",
   "metadata": {},
   "outputs": [
    {
     "data": {
      "text/plain": [
       "odict_keys(['loss', 'prediction_logits', 'seq_relationship_logits'])"
      ]
     },
     "execution_count": 96,
     "metadata": {},
     "output_type": "execute_result"
    }
   ],
   "source": [
    "opp.keys()"
   ]
  },
  {
   "cell_type": "code",
   "execution_count": 97,
   "id": "e889589e",
   "metadata": {},
   "outputs": [
    {
     "data": {
      "text/plain": [
       "<tf.Tensor: shape=(1,), dtype=float32, numpy=array([7.51573], dtype=float32)>"
      ]
     },
     "execution_count": 97,
     "metadata": {},
     "output_type": "execute_result"
    }
   ],
   "source": [
    "opp.loss"
   ]
  },
  {
   "cell_type": "code",
   "execution_count": 98,
   "id": "0af72781",
   "metadata": {},
   "outputs": [
    {
     "data": {
      "text/plain": [
       "TensorShape([15, 181, 30522])"
      ]
     },
     "execution_count": 98,
     "metadata": {},
     "output_type": "execute_result"
    }
   ],
   "source": [
    "opp.prediction_logits.shape"
   ]
  },
  {
   "cell_type": "code",
   "execution_count": 99,
   "id": "9f47526a",
   "metadata": {},
   "outputs": [
    {
     "data": {
      "text/plain": [
       "TensorShape([15, 2])"
      ]
     },
     "execution_count": 99,
     "metadata": {},
     "output_type": "execute_result"
    }
   ],
   "source": [
    "opp.seq_relationship_logits.shape"
   ]
  },
  {
   "cell_type": "markdown",
   "id": "8c6ac7cb",
   "metadata": {},
   "source": [
    "# NSP output"
   ]
  },
  {
   "cell_type": "code",
   "execution_count": 100,
   "id": "f9280278",
   "metadata": {},
   "outputs": [
    {
     "name": "stdout",
     "output_type": "stream",
     "text": [
      "actual: [1]\n",
      "predicted: 1\n",
      "\n",
      "\n",
      "actual: [1]\n",
      "predicted: 1\n",
      "\n",
      "\n",
      "actual: [1]\n",
      "predicted: 1\n",
      "\n",
      "\n",
      "actual: [0]\n",
      "predicted: 0\n",
      "\n",
      "\n",
      "actual: [0]\n",
      "predicted: 0\n",
      "\n",
      "\n",
      "actual: [0]\n",
      "predicted: 0\n",
      "\n",
      "\n",
      "actual: [1]\n",
      "predicted: 1\n",
      "\n",
      "\n",
      "actual: [1]\n",
      "predicted: 1\n",
      "\n",
      "\n",
      "actual: [0]\n",
      "predicted: 0\n",
      "\n",
      "\n",
      "actual: [0]\n",
      "predicted: 0\n",
      "\n",
      "\n",
      "actual: [1]\n",
      "predicted: 1\n",
      "\n",
      "\n",
      "actual: [0]\n",
      "predicted: 0\n",
      "\n",
      "\n",
      "actual: [0]\n",
      "predicted: 0\n",
      "\n",
      "\n",
      "actual: [1]\n",
      "predicted: 1\n",
      "\n",
      "\n",
      "actual: [0]\n",
      "predicted: 0\n",
      "\n",
      "\n"
     ]
    }
   ],
   "source": [
    "for i in range(len(opp.seq_relationship_logits)):\n",
    "    print(\"actual:\",inputs.next_sentence_label[i].numpy())\n",
    "    print(\"predicted:\",tf.argmax(opp.seq_relationship_logits[i]).numpy())\n",
    "    print(\"\\n\")"
   ]
  },
  {
   "cell_type": "markdown",
   "id": "e6dbf3d3",
   "metadata": {},
   "source": [
    "# MLM outputs \n"
   ]
  },
  {
   "cell_type": "code",
   "execution_count": 114,
   "id": "a3b18d70",
   "metadata": {},
   "outputs": [
    {
     "data": {
      "text/plain": [
       "(array([  8,  17,  25,  29,  34,  38,  41,  45,  53,  62,  63,  66,  70,\n",
       "         76,  83,  89, 111, 115], dtype=int64),)"
      ]
     },
     "execution_count": 114,
     "metadata": {},
     "output_type": "execute_result"
    }
   ],
   "source": [
    "select[7]"
   ]
  },
  {
   "cell_type": "code",
   "execution_count": 103,
   "id": "a7c17a2c",
   "metadata": {},
   "outputs": [
    {
     "data": {
      "text/plain": [
       "TensorShape([15, 181])"
      ]
     },
     "execution_count": 103,
     "metadata": {},
     "output_type": "execute_result"
    }
   ],
   "source": [
    "inputs.input_ids.shape"
   ]
  },
  {
   "cell_type": "code",
   "execution_count": 104,
   "id": "dd300746",
   "metadata": {},
   "outputs": [
    {
     "data": {
      "text/plain": [
       "TensorShape([15, 181, 30522])"
      ]
     },
     "execution_count": 104,
     "metadata": {},
     "output_type": "execute_result"
    }
   ],
   "source": [
    "opp.prediction_logits.shape"
   ]
  },
  {
   "cell_type": "code",
   "execution_count": 115,
   "id": "69e15664",
   "metadata": {},
   "outputs": [
    {
     "data": {
      "text/plain": [
       "'[ M A S K ]'"
      ]
     },
     "execution_count": 115,
     "metadata": {},
     "output_type": "execute_result"
    }
   ],
   "source": [
    "tokenizer.decode(inputs.input_ids[7,70])"
   ]
  },
  {
   "cell_type": "code",
   "execution_count": 116,
   "id": "cd180be1",
   "metadata": {},
   "outputs": [
    {
     "data": {
      "text/plain": [
       "'e v e n'"
      ]
     },
     "execution_count": 116,
     "metadata": {},
     "output_type": "execute_result"
    }
   ],
   "source": [
    "tokenizer.decode(inputs.labels[7,70])"
   ]
  },
  {
   "cell_type": "code",
   "execution_count": 107,
   "id": "eb8494bb",
   "metadata": {},
   "outputs": [],
   "source": [
    "score=tf.nn.softmax(opp.prediction_logits,axis=-1)"
   ]
  },
  {
   "cell_type": "code",
   "execution_count": 108,
   "id": "80436d3d",
   "metadata": {},
   "outputs": [],
   "source": [
    "pred=tf.argmax(score,axis=-1)"
   ]
  },
  {
   "cell_type": "code",
   "execution_count": 109,
   "id": "edd6f898",
   "metadata": {},
   "outputs": [
    {
     "data": {
      "text/plain": [
       "TensorShape([15, 181])"
      ]
     },
     "execution_count": 109,
     "metadata": {},
     "output_type": "execute_result"
    }
   ],
   "source": [
    "pred.shape"
   ]
  },
  {
   "cell_type": "code",
   "execution_count": 117,
   "id": "78773f51",
   "metadata": {},
   "outputs": [
    {
     "data": {
      "text/plain": [
       "'e v e n'"
      ]
     },
     "execution_count": 117,
     "metadata": {},
     "output_type": "execute_result"
    }
   ],
   "source": [
    "tokenizer.decode(pred[7,70])"
   ]
  },
  {
   "cell_type": "code",
   "execution_count": null,
   "id": "4501e458",
   "metadata": {},
   "outputs": [],
   "source": []
  }
 ],
 "metadata": {
  "kernelspec": {
   "display_name": "Python 3 (ipykernel)",
   "language": "python",
   "name": "python3"
  },
  "language_info": {
   "codemirror_mode": {
    "name": "ipython",
    "version": 3
   },
   "file_extension": ".py",
   "mimetype": "text/x-python",
   "name": "python",
   "nbconvert_exporter": "python",
   "pygments_lexer": "ipython3",
   "version": "3.10.2"
  }
 },
 "nbformat": 4,
 "nbformat_minor": 5
}
