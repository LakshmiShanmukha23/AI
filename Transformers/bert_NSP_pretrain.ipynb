{
 "cells": [
  {
   "cell_type": "code",
   "execution_count": 1,
   "id": "2585c256",
   "metadata": {},
   "outputs": [],
   "source": [
    "import torch"
   ]
  },
  {
   "cell_type": "code",
   "execution_count": 2,
   "id": "6dc80f02",
   "metadata": {},
   "outputs": [],
   "source": [
    "import transformers"
   ]
  },
  {
   "cell_type": "code",
   "execution_count": 3,
   "id": "0c7cebb5",
   "metadata": {},
   "outputs": [],
   "source": [
    "from transformers import BertTokenizer,BertForNextSentencePrediction"
   ]
  },
  {
   "cell_type": "code",
   "execution_count": 4,
   "id": "a1d4d149",
   "metadata": {},
   "outputs": [],
   "source": [
    "tokenizer=BertTokenizer.from_pretrained(\"bert-base-uncased\")\n",
    "model=BertForNextSentencePrediction.from_pretrained(\"bert-base-uncased\")"
   ]
  },
  {
   "cell_type": "code",
   "execution_count": 5,
   "id": "35eccb25",
   "metadata": {},
   "outputs": [],
   "source": [
    "with open(\"clean.txt\",\"r\") as fp:\n",
    "    text=fp.read().split(\"\\n\")"
   ]
  },
  {
   "cell_type": "code",
   "execution_count": 6,
   "id": "0005012f",
   "metadata": {},
   "outputs": [
    {
     "data": {
      "text/plain": [
       "['From my grandfather Verus I learned good morals and the government of my temper.',\n",
       " 'From the reputation and remembrance of my father, modesty and a manly character.',\n",
       " 'From my mother, piety and beneficence, and abstinence, not only from evil deeds, but even from evil thoughts; and further, simplicity in my way of living, far removed from the habits of the rich.']"
      ]
     },
     "execution_count": 6,
     "metadata": {},
     "output_type": "execute_result"
    }
   ],
   "source": [
    "text[:3]"
   ]
  },
  {
   "cell_type": "code",
   "execution_count": 7,
   "id": "f0b691a1",
   "metadata": {},
   "outputs": [
    {
     "name": "stdout",
     "output_type": "stream",
     "text": [
      "['Body, soul, intelligence: to the body belong sensations, to the soul appetites, to the intelligence principles', ' To receive the impressions of forms by means of appearances belongs even to animals; to be pulled by the strings of desire belongs both to wild beasts and to men who have made themselves into women, and to a Phalaris and a Nero: and to have the intelligence that guides to the things which appear suitable belongs also to those who do not believe in the gods, and who betray their country, and do their impure deeds when they have shut the doors', ' If then everything else is common to all that I have mentioned, there remains that which is peculiar to the good man, to be pleased and content with what happens, and with the thread which is spun for him; and not to defile the divinity which is planted in his breast, nor disturb it by a crowd of images, but to preserve it tranquil, following it obediently as a god, neither saying anything contrary to the truth, nor doing anything contrary to justice', ' And if all men refuse to believe that he lives a simple, modest, and contented life, he is neither angry with any of them, nor does he deviate from the way which leads to the end of life, to which a man ought to come pure, tranquil, ready to depart, and without any compulsion perfectly reconciled to his lot', '']\n",
      "5\n"
     ]
    }
   ],
   "source": [
    "for i in text[51:55]:\n",
    "    print(i.split(\".\"))\n",
    "    print(len(i.split(\".\")))\n",
    "    break"
   ]
  },
  {
   "cell_type": "code",
   "execution_count": 8,
   "id": "a1a8a02e",
   "metadata": {},
   "outputs": [],
   "source": [
    "bag =[sentences for paragraph in text for sentences in paragraph.split(\".\") if sentences!=\"\"]"
   ]
  },
  {
   "cell_type": "code",
   "execution_count": 9,
   "id": "9f8002fe",
   "metadata": {},
   "outputs": [
    {
     "data": {
      "text/plain": [
       "1372"
      ]
     },
     "execution_count": 9,
     "metadata": {},
     "output_type": "execute_result"
    }
   ],
   "source": [
    "len(bag)"
   ]
  },
  {
   "cell_type": "code",
   "execution_count": 10,
   "id": "cc77bc27",
   "metadata": {},
   "outputs": [],
   "source": [
    "import random\n",
    "\n",
    "sentence_a=[]\n",
    "sentence_b=[]\n",
    "label=[]\n",
    "\n",
    "for paragraph in text:\n",
    "    sentences=[\n",
    "        sentence for sentence in paragraph.split(\".\") if sentence!=\"\"\n",
    "    ]\n",
    "    num_sentences=len(sentences)\n",
    "    \n",
    "    if num_sentences > 1:\n",
    "        start=random.randint(0,num_sentences-2)\n",
    "        sentence_a.append(sentences[start])\n",
    "        if random.random()>0.5:\n",
    "            sentence_b.append(bag[random.randint(0,len(bag)-1)])\n",
    "            label.append(1)\n",
    "        else:\n",
    "            sentence_b.append(sentences[start+1])\n",
    "            label.append(0)"
   ]
  },
  {
   "cell_type": "code",
   "execution_count": 11,
   "id": "b0a767fe",
   "metadata": {},
   "outputs": [
    {
     "data": {
      "text/plain": [
       "317"
      ]
     },
     "execution_count": 11,
     "metadata": {},
     "output_type": "execute_result"
    }
   ],
   "source": [
    "len(sentence_a)"
   ]
  },
  {
   "cell_type": "code",
   "execution_count": 12,
   "id": "7ca18c90",
   "metadata": {},
   "outputs": [
    {
     "data": {
      "text/plain": [
       "317"
      ]
     },
     "execution_count": 12,
     "metadata": {},
     "output_type": "execute_result"
    }
   ],
   "source": [
    "len(sentence_b)"
   ]
  },
  {
   "cell_type": "code",
   "execution_count": 13,
   "id": "be63c781",
   "metadata": {},
   "outputs": [
    {
     "data": {
      "text/plain": [
       "317"
      ]
     },
     "execution_count": 13,
     "metadata": {},
     "output_type": "execute_result"
    }
   ],
   "source": [
    "len(label)"
   ]
  },
  {
   "cell_type": "code",
   "execution_count": 14,
   "id": "bdbc3d3a",
   "metadata": {},
   "outputs": [],
   "source": [
    "sentence__a=sentence_a[:10]\n",
    "sentence__b=sentence_b[:10]\n",
    "label_=label[:10]"
   ]
  },
  {
   "cell_type": "code",
   "execution_count": 15,
   "id": "3b340701",
   "metadata": {},
   "outputs": [
    {
     "data": {
      "text/plain": [
       "10"
      ]
     },
     "execution_count": 15,
     "metadata": {},
     "output_type": "execute_result"
    }
   ],
   "source": [
    "len(label_)"
   ]
  },
  {
   "cell_type": "code",
   "execution_count": 16,
   "id": "1e400513",
   "metadata": {},
   "outputs": [],
   "source": [
    "inputs=tokenizer(sentence__a,sentence__b,return_tensors='pt',padding=True,truncation=True)"
   ]
  },
  {
   "cell_type": "code",
   "execution_count": 17,
   "id": "3b9c81f1",
   "metadata": {},
   "outputs": [
    {
     "data": {
      "text/plain": [
       "torch.Size([10, 253])"
      ]
     },
     "execution_count": 17,
     "metadata": {},
     "output_type": "execute_result"
    }
   ],
   "source": [
    "inputs.input_ids.shape"
   ]
  },
  {
   "cell_type": "code",
   "execution_count": 18,
   "id": "5ef14343",
   "metadata": {},
   "outputs": [],
   "source": [
    "inputs[\"labels\"]=torch.LongTensor([label_]).T"
   ]
  },
  {
   "cell_type": "code",
   "execution_count": 19,
   "id": "c38ccb46",
   "metadata": {},
   "outputs": [
    {
     "data": {
      "text/plain": [
       "torch.Size([10, 1])"
      ]
     },
     "execution_count": 19,
     "metadata": {},
     "output_type": "execute_result"
    }
   ],
   "source": [
    "inputs.labels.shape"
   ]
  },
  {
   "cell_type": "code",
   "execution_count": 20,
   "id": "c314a8ed",
   "metadata": {},
   "outputs": [
    {
     "data": {
      "text/plain": [
       "{'input_ids': tensor([[  101,  2002,  2001,  ...,     0,     0,     0],\n",
       "        [  101,  1045,  5159,  ...,     0,     0,     0],\n",
       "        [  101,  2582,  1010,  ...,  1037,  7786,   102],\n",
       "        ...,\n",
       "        [  101,  1998, 15223,  ...,     0,     0,     0],\n",
       "        [  101,  2079,  3308,  ...,     0,     0,     0],\n",
       "        [  101,  2021,  2059,  ...,     0,     0,     0]]), 'token_type_ids': tensor([[0, 0, 0,  ..., 0, 0, 0],\n",
       "        [0, 0, 0,  ..., 0, 0, 0],\n",
       "        [0, 0, 0,  ..., 1, 1, 1],\n",
       "        ...,\n",
       "        [0, 0, 0,  ..., 0, 0, 0],\n",
       "        [0, 0, 0,  ..., 0, 0, 0],\n",
       "        [0, 0, 0,  ..., 0, 0, 0]]), 'attention_mask': tensor([[1, 1, 1,  ..., 0, 0, 0],\n",
       "        [1, 1, 1,  ..., 0, 0, 0],\n",
       "        [1, 1, 1,  ..., 1, 1, 1],\n",
       "        ...,\n",
       "        [1, 1, 1,  ..., 0, 0, 0],\n",
       "        [1, 1, 1,  ..., 0, 0, 0],\n",
       "        [1, 1, 1,  ..., 0, 0, 0]]), 'labels': tensor([[1],\n",
       "        [1],\n",
       "        [0],\n",
       "        [0],\n",
       "        [0],\n",
       "        [0],\n",
       "        [1],\n",
       "        [0],\n",
       "        [1],\n",
       "        [1]])}"
      ]
     },
     "execution_count": 20,
     "metadata": {},
     "output_type": "execute_result"
    }
   ],
   "source": [
    "inputs"
   ]
  },
  {
   "cell_type": "markdown",
   "id": "309b269f",
   "metadata": {},
   "source": [
    "# Custom training"
   ]
  },
  {
   "cell_type": "code",
   "execution_count": 47,
   "id": "64f82d78",
   "metadata": {},
   "outputs": [],
   "source": [
    "class CustomDataSet(torch.utils.data.Dataset):\n",
    "    def __init__(self,data):\n",
    "        self.data=data\n",
    "        \n",
    "    def __len__(self):\n",
    "        return self.data.input_ids.shape[0]\n",
    "    \n",
    "    def __getitem__(self,idx):\n",
    "        sample={\n",
    "            key: torch.Tensor(value[idx]) for key,value in self.data.items()\n",
    "        }\n",
    "        return sample"
   ]
  },
  {
   "cell_type": "code",
   "execution_count": 48,
   "id": "94fef87c",
   "metadata": {},
   "outputs": [],
   "source": [
    "dataset=CustomDataSet(inputs)"
   ]
  },
  {
   "cell_type": "code",
   "execution_count": 49,
   "id": "a754e4a4",
   "metadata": {},
   "outputs": [],
   "source": [
    "loader=torch.utils.data.DataLoader(dataset,batch_size=2,shuffle=True)"
   ]
  },
  {
   "cell_type": "code",
   "execution_count": 50,
   "id": "9072def2",
   "metadata": {},
   "outputs": [],
   "source": [
    "from tqdm import tqdm\n",
    "from torch.optim import AdamW"
   ]
  },
  {
   "cell_type": "code",
   "execution_count": 52,
   "id": "81792ac6",
   "metadata": {},
   "outputs": [
    {
     "data": {
      "text/plain": [
       "BertForNextSentencePrediction(\n",
       "  (bert): BertModel(\n",
       "    (embeddings): BertEmbeddings(\n",
       "      (word_embeddings): Embedding(30522, 768, padding_idx=0)\n",
       "      (position_embeddings): Embedding(512, 768)\n",
       "      (token_type_embeddings): Embedding(2, 768)\n",
       "      (LayerNorm): LayerNorm((768,), eps=1e-12, elementwise_affine=True)\n",
       "      (dropout): Dropout(p=0.1, inplace=False)\n",
       "    )\n",
       "    (encoder): BertEncoder(\n",
       "      (layer): ModuleList(\n",
       "        (0-11): 12 x BertLayer(\n",
       "          (attention): BertAttention(\n",
       "            (self): BertSelfAttention(\n",
       "              (query): Linear(in_features=768, out_features=768, bias=True)\n",
       "              (key): Linear(in_features=768, out_features=768, bias=True)\n",
       "              (value): Linear(in_features=768, out_features=768, bias=True)\n",
       "              (dropout): Dropout(p=0.1, inplace=False)\n",
       "            )\n",
       "            (output): BertSelfOutput(\n",
       "              (dense): Linear(in_features=768, out_features=768, bias=True)\n",
       "              (LayerNorm): LayerNorm((768,), eps=1e-12, elementwise_affine=True)\n",
       "              (dropout): Dropout(p=0.1, inplace=False)\n",
       "            )\n",
       "          )\n",
       "          (intermediate): BertIntermediate(\n",
       "            (dense): Linear(in_features=768, out_features=3072, bias=True)\n",
       "            (intermediate_act_fn): GELUActivation()\n",
       "          )\n",
       "          (output): BertOutput(\n",
       "            (dense): Linear(in_features=3072, out_features=768, bias=True)\n",
       "            (LayerNorm): LayerNorm((768,), eps=1e-12, elementwise_affine=True)\n",
       "            (dropout): Dropout(p=0.1, inplace=False)\n",
       "          )\n",
       "        )\n",
       "      )\n",
       "    )\n",
       "    (pooler): BertPooler(\n",
       "      (dense): Linear(in_features=768, out_features=768, bias=True)\n",
       "      (activation): Tanh()\n",
       "    )\n",
       "  )\n",
       "  (cls): BertOnlyNSPHead(\n",
       "    (seq_relationship): Linear(in_features=768, out_features=2, bias=True)\n",
       "  )\n",
       ")"
      ]
     },
     "execution_count": 52,
     "metadata": {},
     "output_type": "execute_result"
    }
   ],
   "source": [
    "model.train()"
   ]
  },
  {
   "cell_type": "code",
   "execution_count": 53,
   "id": "c19354e7",
   "metadata": {},
   "outputs": [],
   "source": [
    "optim=AdamW(model.parameters(),lr=5e-5)"
   ]
  },
  {
   "cell_type": "code",
   "execution_count": 54,
   "id": "28357349",
   "metadata": {},
   "outputs": [],
   "source": [
    "epochs=2"
   ]
  },
  {
   "cell_type": "code",
   "execution_count": 57,
   "id": "5719d075",
   "metadata": {},
   "outputs": [
    {
     "name": "stderr",
     "output_type": "stream",
     "text": [
      "Epoch :0: 100%|███████████████████████████████████████████████████████████████| 5/5 [01:37<00:00, 19.47s/it, loss=2.13]\n",
      "Epoch :1: 100%|███████████████████████████████████████████████████████████████| 5/5 [01:34<00:00, 18.99s/it, loss=1.17]\n"
     ]
    }
   ],
   "source": [
    "for epoch in range(epochs):\n",
    "    loop=tqdm(loader,leave=True)\n",
    "    for batch in loop:\n",
    "        optim.zero_grad()\n",
    "        token_ids=batch[\"input_ids\"]\n",
    "        token_type_ids=batch[\"token_type_ids\"]\n",
    "        attention_mask=batch[\"attention_mask\"]\n",
    "        labels=batch[\"labels\"]\n",
    "        op=model(token_ids,token_type_ids=token_type_ids,attention_mask=attention_mask,labels=labels)\n",
    "        loss=op.loss\n",
    "        loss.backward()\n",
    "        optim.step()\n",
    "        \n",
    "        loop.set_description(f\"Epoch :{epoch}\")\n",
    "        loop.set_postfix(loss=loss.item())"
   ]
  },
  {
   "cell_type": "code",
   "execution_count": 58,
   "id": "6a53b3c6",
   "metadata": {},
   "outputs": [],
   "source": [
    "with torch.no_grad():\n",
    "    opp=model(**inputs)"
   ]
  },
  {
   "cell_type": "code",
   "execution_count": 59,
   "id": "ce4b8678",
   "metadata": {},
   "outputs": [
    {
     "data": {
      "text/plain": [
       "odict_keys(['loss', 'logits'])"
      ]
     },
     "execution_count": 59,
     "metadata": {},
     "output_type": "execute_result"
    }
   ],
   "source": [
    "opp.keys()"
   ]
  },
  {
   "cell_type": "code",
   "execution_count": 60,
   "id": "62ef0219",
   "metadata": {},
   "outputs": [
    {
     "data": {
      "text/plain": [
       "tensor(0.0098)"
      ]
     },
     "execution_count": 60,
     "metadata": {},
     "output_type": "execute_result"
    }
   ],
   "source": [
    "opp.loss"
   ]
  },
  {
   "cell_type": "code",
   "execution_count": 64,
   "id": "ccefb460",
   "metadata": {},
   "outputs": [
    {
     "data": {
      "text/plain": [
       "10"
      ]
     },
     "execution_count": 64,
     "metadata": {},
     "output_type": "execute_result"
    }
   ],
   "source": [
    "len(opp.logits)"
   ]
  },
  {
   "cell_type": "code",
   "execution_count": 70,
   "id": "0416ace7",
   "metadata": {},
   "outputs": [
    {
     "name": "stdout",
     "output_type": "stream",
     "text": [
      "original: tensor([0])\n",
      "predicted: tensor(0)\n",
      "original: tensor([0])\n",
      "predicted: tensor(0)\n",
      "original: tensor([1])\n",
      "predicted: tensor(1)\n",
      "original: tensor([0])\n",
      "predicted: tensor(0)\n",
      "original: tensor([1])\n",
      "predicted: tensor(1)\n",
      "original: tensor([0])\n",
      "predicted: tensor(0)\n",
      "original: tensor([1])\n",
      "predicted: tensor(1)\n",
      "original: tensor([0])\n",
      "predicted: tensor(0)\n",
      "original: tensor([1])\n",
      "predicted: tensor(1)\n",
      "original: tensor([1])\n",
      "predicted: tensor(1)\n"
     ]
    }
   ],
   "source": [
    "for i in range(len(opp.logits)):\n",
    "    print(\"original:\",inputs.labels[i])\n",
    "    print(\"predicted:\",torch.argmax(opp.logits[i]))"
   ]
  },
  {
   "cell_type": "markdown",
   "id": "cfa2de42",
   "metadata": {},
   "source": [
    "# Direct method(inbuilt)"
   ]
  },
  {
   "cell_type": "code",
   "execution_count": 21,
   "id": "fa6fcdb0",
   "metadata": {},
   "outputs": [],
   "source": [
    "op=model(**inputs)"
   ]
  },
  {
   "cell_type": "code",
   "execution_count": 22,
   "id": "a65b038f",
   "metadata": {},
   "outputs": [
    {
     "data": {
      "text/plain": [
       "torch.Size([10, 2])"
      ]
     },
     "execution_count": 22,
     "metadata": {},
     "output_type": "execute_result"
    }
   ],
   "source": [
    "op.logits.shape"
   ]
  },
  {
   "cell_type": "code",
   "execution_count": 25,
   "id": "c072f5fd",
   "metadata": {},
   "outputs": [
    {
     "data": {
      "text/plain": [
       "tensor(4.5053, grad_fn=<NllLossBackward0>)"
      ]
     },
     "execution_count": 25,
     "metadata": {},
     "output_type": "execute_result"
    }
   ],
   "source": [
    "op.loss"
   ]
  },
  {
   "cell_type": "code",
   "execution_count": 26,
   "id": "bc30bfd5",
   "metadata": {},
   "outputs": [
    {
     "name": "stdout",
     "output_type": "stream",
     "text": [
      "original:\n",
      " 1\n",
      "predicted: 0\n",
      "original:\n",
      " 1\n",
      "predicted: 0\n",
      "original:\n",
      " 0\n",
      "predicted: 0\n",
      "original:\n",
      " 0\n",
      "predicted: 0\n",
      "original:\n",
      " 0\n",
      "predicted: 0\n",
      "original:\n",
      " 0\n",
      "predicted: 0\n",
      "original:\n",
      " 1\n",
      "predicted: 0\n",
      "original:\n",
      " 0\n",
      "predicted: 0\n",
      "original:\n",
      " 1\n",
      "predicted: 0\n",
      "original:\n",
      " 1\n",
      "predicted: 0\n"
     ]
    }
   ],
   "source": [
    "for i in range(len(op.logits)):\n",
    "    print(\"original:\\n\",inputs.labels[i].item())\n",
    "    print(\"predicted:\",torch.argmax(op.logits[i]).item())"
   ]
  },
  {
   "cell_type": "code",
   "execution_count": null,
   "id": "ea70506e",
   "metadata": {},
   "outputs": [],
   "source": []
  }
 ],
 "metadata": {
  "kernelspec": {
   "display_name": "Python 3 (ipykernel)",
   "language": "python",
   "name": "python3"
  },
  "language_info": {
   "codemirror_mode": {
    "name": "ipython",
    "version": 3
   },
   "file_extension": ".py",
   "mimetype": "text/x-python",
   "name": "python",
   "nbconvert_exporter": "python",
   "pygments_lexer": "ipython3",
   "version": "3.10.2"
  }
 },
 "nbformat": 4,
 "nbformat_minor": 5
}
