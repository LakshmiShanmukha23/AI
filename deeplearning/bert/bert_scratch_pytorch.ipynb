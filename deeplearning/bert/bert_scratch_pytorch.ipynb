{
 "cells": [
  {
   "cell_type": "code",
   "execution_count": 1,
   "id": "1da3c35b",
   "metadata": {},
   "outputs": [],
   "source": [
    "import torch"
   ]
  },
  {
   "cell_type": "code",
   "execution_count": 2,
   "id": "28a8b951",
   "metadata": {},
   "outputs": [],
   "source": [
    "from torch import nn\n",
    "from torch.nn import functional as f"
   ]
  },
  {
   "cell_type": "code",
   "execution_count": 3,
   "id": "e04b0d79",
   "metadata": {},
   "outputs": [],
   "source": [
    "from torch.nn import Embedding,Linear,Dropout,LayerNorm,MultiheadAttention,Module,ReLU"
   ]
  },
  {
   "cell_type": "code",
   "execution_count": 4,
   "id": "441e2f0f",
   "metadata": {},
   "outputs": [],
   "source": [
    "from torch.nn.functional import relu,softmax"
   ]
  },
  {
   "cell_type": "code",
   "execution_count": 5,
   "id": "94be7377",
   "metadata": {},
   "outputs": [],
   "source": [
    "class FeedForward(Module):\n",
    "    def __init__(self,d_model,units=2048):\n",
    "        super(FeedForward,self).__init__()\n",
    "        self.linear1=Linear(d_model,units)\n",
    "        self.relu=ReLU()\n",
    "        self.dropout=Dropout(0.1)\n",
    "        self.linear2=Linear(units,d_model)\n",
    "        \n",
    "    def forward(self,x):\n",
    "        linear1_x=self.linear1(x)\n",
    "        relu_x=self.relu(linear1_x)\n",
    "        dropout_x=self.dropout(relu_x)\n",
    "        linear2_x=self.linear2(dropout_x)\n",
    "        return linear2_x"
   ]
  },
  {
   "cell_type": "code",
   "execution_count": 6,
   "id": "7d7224dc",
   "metadata": {},
   "outputs": [],
   "source": [
    "class EncoderLayer(Module):\n",
    "    def __init__(self,num_heads,d_model,src_len):\n",
    "        super(EncoderLayer,self).__init__()\n",
    "        self.mha=MultiheadAttention(d_model,num_heads)\n",
    "        self.norm1=LayerNorm((src_len,d_model))\n",
    "        self.dropout1=Dropout(0.1)\n",
    "        self.ffn=FeedForward(d_model)\n",
    "        self.norm2=LayerNorm((src_len,d_model))\n",
    "        self.dropout2=Dropout(0.1)\n",
    "        \n",
    "    def forward(self,x):\n",
    "        cv,attn_wts=self.mha(x,x,x)\n",
    "        cv_norm=self.norm1(cv+x)\n",
    "        cv_norm1_drop1=self.dropout1(cv_norm)\n",
    "        cv_norm1_drop1_ffn=self.ffn(cv_norm1_drop1)\n",
    "        cv_norm1_drop1_ffn_norm2=self.norm2(cv_norm1_drop1_ffn+cv_norm1_drop1)\n",
    "        output=self.dropout2(cv_norm1_drop1_ffn_norm2)\n",
    "        return output"
   ]
  },
  {
   "cell_type": "code",
   "execution_count": 7,
   "id": "4f11ce31",
   "metadata": {},
   "outputs": [],
   "source": [
    "class Encoder(Module):\n",
    "    def __init__(self,n_layers,num_heads,d_model,src_len,src_vocab_size):\n",
    "        super(Encoder,self).__init__()\n",
    "        self.word_embedding=Embedding(src_vocab_size,d_model)\n",
    "        self.position_embedding=Embedding(src_len,d_model)\n",
    "        self.encoder_layer=[EncoderLayer(num_heads,d_model,src_len) for _ in range(n_layers)]\n",
    "        \n",
    "    def forward(self,x):\n",
    "        word_embed=self.word_embedding(x)\n",
    "        pos_embed=self.position_embedding(torch.tensor([i for i in range(x.size(-1))]))\n",
    "        embed=word_embed+pos_embed\n",
    "        for layer in self.encoder_layer:\n",
    "            embed=layer(embed)\n",
    "        return embed"
   ]
  },
  {
   "cell_type": "code",
   "execution_count": 8,
   "id": "14563a58",
   "metadata": {},
   "outputs": [],
   "source": [
    "import numpy"
   ]
  },
  {
   "cell_type": "code",
   "execution_count": 9,
   "id": "34421d97",
   "metadata": {},
   "outputs": [
    {
     "name": "stderr",
     "output_type": "stream",
     "text": [
      "C:\\Users\\Rambabu\\AppData\\Local\\Temp\\ipykernel_7428\\2919096325.py:1: UserWarning: Failed to initialize NumPy: module compiled against API version 0x10 but this version of numpy is 0xf (Triggered internally at ..\\torch\\csrc\\utils\\tensor_numpy.cpp:77.)\n",
      "  x=torch.randn((10,15)).to(torch.long)\n"
     ]
    }
   ],
   "source": [
    "x=torch.randn((10,15)).to(torch.long)"
   ]
  },
  {
   "cell_type": "code",
   "execution_count": 158,
   "id": "21510d3f",
   "metadata": {},
   "outputs": [],
   "source": [
    "x1=x.cpu().long()"
   ]
  },
  {
   "cell_type": "code",
   "execution_count": 159,
   "id": "779d514b",
   "metadata": {},
   "outputs": [
    {
     "data": {
      "text/plain": [
       "torch.Size([10, 15])"
      ]
     },
     "execution_count": 159,
     "metadata": {},
     "output_type": "execute_result"
    }
   ],
   "source": [
    "x1.shape"
   ]
  },
  {
   "cell_type": "code",
   "execution_count": 160,
   "id": "6d73e61a",
   "metadata": {},
   "outputs": [
    {
     "data": {
      "text/plain": [
       "torch.Tensor"
      ]
     },
     "execution_count": 160,
     "metadata": {},
     "output_type": "execute_result"
    }
   ],
   "source": [
    "type(x)"
   ]
  },
  {
   "cell_type": "code",
   "execution_count": 162,
   "id": "f799a937",
   "metadata": {},
   "outputs": [],
   "source": [
    "en=Encoder(12,8,512,15,50)"
   ]
  },
  {
   "cell_type": "code",
   "execution_count": 122,
   "id": "7dbeed42",
   "metadata": {},
   "outputs": [
    {
     "data": {
      "text/plain": [
       "torch.Size([10, 15, 512])"
      ]
     },
     "execution_count": 122,
     "metadata": {},
     "output_type": "execute_result"
    }
   ],
   "source": [
    "out.shape"
   ]
  },
  {
   "cell_type": "code",
   "execution_count": null,
   "id": "d98ce4fd",
   "metadata": {},
   "outputs": [],
   "source": [
    "out=en(x)"
   ]
  },
  {
   "cell_type": "code",
   "execution_count": 91,
   "id": "75c68d23",
   "metadata": {},
   "outputs": [],
   "source": [
    "from torchsummary import summary"
   ]
  },
  {
   "cell_type": "code",
   "execution_count": 92,
   "id": "31346557",
   "metadata": {},
   "outputs": [
    {
     "data": {
      "text/plain": [
       "torch.Size([10, 15])"
      ]
     },
     "execution_count": 92,
     "metadata": {},
     "output_type": "execute_result"
    }
   ],
   "source": [
    "x.shape"
   ]
  },
  {
   "cell_type": "code",
   "execution_count": null,
   "id": "5f2e60a5",
   "metadata": {},
   "outputs": [],
   "source": []
  }
 ],
 "metadata": {
  "kernelspec": {
   "display_name": "Python 3 (ipykernel)",
   "language": "python",
   "name": "python3"
  },
  "language_info": {
   "codemirror_mode": {
    "name": "ipython",
    "version": 3
   },
   "file_extension": ".py",
   "mimetype": "text/x-python",
   "name": "python",
   "nbconvert_exporter": "python",
   "pygments_lexer": "ipython3",
   "version": "3.10.2"
  }
 },
 "nbformat": 4,
 "nbformat_minor": 5
}
