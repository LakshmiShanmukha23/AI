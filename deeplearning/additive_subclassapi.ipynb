{
 "cells": [
  {
   "cell_type": "code",
   "execution_count": 1,
   "id": "b4622869",
   "metadata": {},
   "outputs": [],
   "source": [
    "import keras"
   ]
  },
  {
   "cell_type": "code",
   "execution_count": 2,
   "id": "19d7b5ca",
   "metadata": {},
   "outputs": [],
   "source": [
    "import tensorflow as tf"
   ]
  },
  {
   "cell_type": "code",
   "execution_count": 3,
   "id": "403dc932",
   "metadata": {},
   "outputs": [],
   "source": [
    "from tensorflow.keras.layers import Input,Embedding,GRU,Bidirectional,Dense"
   ]
  },
  {
   "cell_type": "code",
   "execution_count": 4,
   "id": "7a41c3e8",
   "metadata": {},
   "outputs": [],
   "source": [
    "from tensorflow.keras import Model"
   ]
  },
  {
   "cell_type": "code",
   "execution_count": 5,
   "id": "ce70f79b",
   "metadata": {},
   "outputs": [],
   "source": [
    "import numpy as np"
   ]
  },
  {
   "cell_type": "code",
   "execution_count": 6,
   "id": "86d00671",
   "metadata": {},
   "outputs": [],
   "source": [
    "class BahdanauAttention(tf.keras.layers.Layer):\n",
    "    def __init__(self, units):\n",
    "        super(BahdanauAttention, self).__init__()\n",
    "        self.W1 = tf.keras.layers.Dense(units)\n",
    "        self.W2 = tf.keras.layers.Dense(units)\n",
    "        self.V = tf.keras.layers.Dense(1)\n",
    "        \n",
    "    def call(self, inputs):\n",
    "        query,values=inputs\n",
    "        query_with_time_axis = tf.expand_dims(query, 1)\n",
    "        score1=self.W1(query_with_time_axis)\n",
    "        score2=self.W2(values)\n",
    "        combined_score=tf.nn.tanh(score1 + score2)\n",
    "        score = self.V(combined_score)\n",
    "        attention_weights = tf.nn.softmax(score, axis=1)\n",
    "        context_vector = attention_weights * values\n",
    "        context_vector = tf.reduce_sum(context_vector, axis=1)\n",
    "        return context_vector"
   ]
  },
  {
   "cell_type": "code",
   "execution_count": 34,
   "id": "4561f150",
   "metadata": {},
   "outputs": [],
   "source": [
    "encoder_inputs=Input(shape=(max_inp_len,))\n",
    "encoder_embed=Embedding(src_vocab_size,embed_size)(encoder_inputs)\n",
    "encoder_gru=Bidirectional(GRU(gru_units,return_sequences=True,return_state=True))\n",
    "encoder_op,forward,backward=encoder_gru(encoder_embed)\n",
    "encoder_dense=Dense(gru_units)\n",
    "hidden=encoder_dense((tf.concat([forward,backward], axis = -1)))\n",
    "\n",
    "\n",
    "decoder_inputs=Input(shape=(max_tar_len,))\n",
    "decoder_embeded=Embedding(trg_vocab_size,embed_size)\n",
    "decoder_embedded=decoder_embeded(decoder_inputs)\n",
    "attention=BahdanauAttention(gru_units)\n",
    "context_vector=attention([hidden,encoder_op])\n",
    "weighted=tf.concat([decoder_embedded, context_vector],axis=2)\n",
    "\n",
    "decoder_gru=GRU(gru_units,return_sequences=True,return_state=True)\n",
    "decoder_op,h1=decoder_gru(weighted,initial_state=hidden)\n",
    "dec_op=Dense(trg_vocab_size)\n",
    "decoder_op=dec_op(decoder_op)\n",
    "\n",
    "model=Model([encoder_inputs,decoder_inputs],decoder_op)"
   ]
  },
  {
   "cell_type": "code",
   "execution_count": 43,
   "id": "adfcf1bc",
   "metadata": {},
   "outputs": [],
   "source": [
    "optimizer=keras.optimizers.RMSprop(learning_rate=0.5,clipnorm=2)"
   ]
  },
  {
   "cell_type": "code",
   "execution_count": 44,
   "id": "6466c701",
   "metadata": {},
   "outputs": [],
   "source": [
    "trg_one_hot=tf.one_hot(tar_sequences,depth=trg_vocab_size)"
   ]
  },
  {
   "cell_type": "code",
   "execution_count": 47,
   "id": "4ed62169",
   "metadata": {},
   "outputs": [
    {
     "data": {
      "text/plain": [
       "TensorShape([3000, 9, 2117])"
      ]
     },
     "execution_count": 47,
     "metadata": {},
     "output_type": "execute_result"
    }
   ],
   "source": [
    "trg_one_hot.shape"
   ]
  },
  {
   "cell_type": "code",
   "execution_count": 48,
   "id": "750d1ef2",
   "metadata": {},
   "outputs": [
    {
     "data": {
      "text/plain": [
       "(3000, 9)"
      ]
     },
     "execution_count": 48,
     "metadata": {},
     "output_type": "execute_result"
    }
   ],
   "source": [
    "tar_sequences.shape"
   ]
  },
  {
   "cell_type": "code",
   "execution_count": 50,
   "id": "a675eec0",
   "metadata": {},
   "outputs": [
    {
     "data": {
      "text/plain": [
       "(9,)"
      ]
     },
     "execution_count": 50,
     "metadata": {},
     "output_type": "execute_result"
    }
   ],
   "source": [
    "tar_sequences[0].shape"
   ]
  },
  {
   "cell_type": "code",
   "execution_count": 51,
   "id": "855702c9",
   "metadata": {},
   "outputs": [
    {
     "data": {
      "text/plain": [
       "TensorShape([9, 2117])"
      ]
     },
     "execution_count": 51,
     "metadata": {},
     "output_type": "execute_result"
    }
   ],
   "source": [
    "trg_one_hot[0].shape"
   ]
  },
  {
   "cell_type": "code",
   "execution_count": 45,
   "id": "e266f6ff",
   "metadata": {},
   "outputs": [],
   "source": [
    "model.compile(optimizer=optimizer,loss='categorical_crossentropy',metrics=['accuracy'])"
   ]
  },
  {
   "cell_type": "code",
   "execution_count": 46,
   "id": "955335b7",
   "metadata": {},
   "outputs": [
    {
     "name": "stdout",
     "output_type": "stream",
     "text": [
      "Epoch 1/4\n",
      "47/47 [==============================] - 14s 91ms/step - loss: 13.0655 - accuracy: 0.0104\n",
      "Epoch 2/4\n",
      "47/47 [==============================] - 4s 93ms/step - loss: 13.0325 - accuracy: 0.0100\n",
      "Epoch 3/4\n",
      "47/47 [==============================] - 4s 93ms/step - loss: 12.9602 - accuracy: 0.0104\n",
      "Epoch 4/4\n",
      "47/47 [==============================] - 4s 92ms/step - loss: 11.8171 - accuracy: 0.3735\n"
     ]
    },
    {
     "data": {
      "text/plain": [
       "<keras.src.callbacks.History at 0x1d4b5a1f190>"
      ]
     },
     "execution_count": 46,
     "metadata": {},
     "output_type": "execute_result"
    }
   ],
   "source": [
    "model.fit([src_sequences,tar_sequences],trg_one_hot,epochs=4,batch_size=64)"
   ]
  },
  {
   "cell_type": "code",
   "execution_count": null,
   "id": "a8bbef7a",
   "metadata": {},
   "outputs": [],
   "source": []
  },
  {
   "cell_type": "code",
   "execution_count": null,
   "id": "14ca1db3",
   "metadata": {},
   "outputs": [],
   "source": []
  },
  {
   "cell_type": "code",
   "execution_count": null,
   "id": "7a013fce",
   "metadata": {},
   "outputs": [],
   "source": []
  },
  {
   "cell_type": "code",
   "execution_count": null,
   "id": "9b5300b4",
   "metadata": {},
   "outputs": [],
   "source": []
  },
  {
   "cell_type": "code",
   "execution_count": null,
   "id": "d8da57af",
   "metadata": {},
   "outputs": [],
   "source": []
  },
  {
   "cell_type": "code",
   "execution_count": null,
   "id": "2654bfe6",
   "metadata": {},
   "outputs": [],
   "source": []
  },
  {
   "cell_type": "code",
   "execution_count": 19,
   "id": "de90fadb",
   "metadata": {},
   "outputs": [],
   "source": [
    "encoder_model=Model(encoder_inputs,[encoder_op,hidden])"
   ]
  },
  {
   "cell_type": "code",
   "execution_count": 52,
   "id": "71280aa1",
   "metadata": {},
   "outputs": [
    {
     "name": "stdout",
     "output_type": "stream",
     "text": [
      "Model: \"model_1\"\n",
      "__________________________________________________________________________________________________\n",
      " Layer (type)                Output Shape                 Param #   Connected to                  \n",
      "==================================================================================================\n",
      " input_1 (InputLayer)        [(None, 2)]                  0         []                            \n",
      "                                                                                                  \n",
      " embedding (Embedding)       (None, 2, 100)               5800      ['input_1[0][0]']             \n",
      "                                                                                                  \n",
      " bidirectional (Bidirection  [(None, 2, 200),             121200    ['embedding[0][0]']           \n",
      " al)                          (None, 100),                                                        \n",
      "                              (None, 100)]                                                        \n",
      "                                                                                                  \n",
      " tf.concat (TFOpLambda)      (None, 200)                  0         ['bidirectional[0][1]',       \n",
      "                                                                     'bidirectional[0][2]']       \n",
      "                                                                                                  \n",
      " dense (Dense)               (None, 100)                  20100     ['tf.concat[0][0]']           \n",
      "                                                                                                  \n",
      " tf.compat.v1.transpose (TF  (None, 200, 2)               0         ['bidirectional[0][0]']       \n",
      " OpLambda)                                                                                        \n",
      "                                                                                                  \n",
      " tf.math.tanh (TFOpLambda)   (None, 100)                  0         ['dense[0][0]']               \n",
      "                                                                                                  \n",
      "==================================================================================================\n",
      "Total params: 147100 (574.61 KB)\n",
      "Trainable params: 147100 (574.61 KB)\n",
      "Non-trainable params: 0 (0.00 Byte)\n",
      "__________________________________________________________________________________________________\n"
     ]
    }
   ],
   "source": [
    "encoder_model.summary()"
   ]
  },
  {
   "cell_type": "code",
   "execution_count": 20,
   "id": "0ed5469c",
   "metadata": {},
   "outputs": [
    {
     "name": "stdout",
     "output_type": "stream",
     "text": [
      "Model: \"model\"\n",
      "__________________________________________________________________________________________________\n",
      " Layer (type)                Output Shape                 Param #   Connected to                  \n",
      "==================================================================================================\n",
      " input_1 (InputLayer)        [(None, 2)]                  0         []                            \n",
      "                                                                                                  \n",
      " embedding (Embedding)       (None, 2, 100)               5800      ['input_1[0][0]']             \n",
      "                                                                                                  \n",
      " bidirectional (Bidirection  [(None, 2, 200),             121200    ['embedding[0][0]']           \n",
      " al)                          (None, 100),                                                        \n",
      "                              (None, 100)]                                                        \n",
      "                                                                                                  \n",
      " tf.concat (TFOpLambda)      (None, 200)                  0         ['bidirectional[0][1]',       \n",
      "                                                                     'bidirectional[0][2]']       \n",
      "                                                                                                  \n",
      " input_2 (InputLayer)        [(None, 5)]                  0         []                            \n",
      "                                                                                                  \n",
      " dense (Dense)               (None, 100)                  20100     ['tf.concat[0][0]']           \n",
      "                                                                                                  \n",
      " embedding_1 (Embedding)     (None, 5, 100)               12500     ['input_2[0][0]']             \n",
      "                                                                                                  \n",
      " tf.math.tanh (TFOpLambda)   (None, 100)                  0         ['dense[0][0]']               \n",
      "                                                                                                  \n",
      " bahdanau_attention (Bahdan  (None, 200)                  30301     ['tf.math.tanh[0][0]',        \n",
      " auAttention)                                                        'bidirectional[0][0]']       \n",
      "                                                                                                  \n",
      " tf.compat.v1.shape (TFOpLa  (3,)                         0         ['embedding_1[0][0]']         \n",
      " mbda)                                                                                            \n",
      "                                                                                                  \n",
      " tf.expand_dims (TFOpLambda  (None, 1, 200)               0         ['bahdanau_attention[0][0]']  \n",
      " )                                                                                                \n",
      "                                                                                                  \n",
      " tf.__operators__.getitem (  ()                           0         ['tf.compat.v1.shape[0][0]']  \n",
      " SlicingOpLambda)                                                                                 \n",
      "                                                                                                  \n",
      " tf.tile (TFOpLambda)        (None, 5, 200)               0         ['tf.expand_dims[0][0]',      \n",
      "                                                                     'tf.__operators__.getitem[0][\n",
      "                                                                    0]']                          \n",
      "                                                                                                  \n",
      " tf.concat_1 (TFOpLambda)    (None, 5, 300)               0         ['embedding_1[0][0]',         \n",
      "                                                                     'tf.tile[0][0]']             \n",
      "                                                                                                  \n",
      " tf.compat.v1.transpose (TF  (None, 200, 2)               0         ['bidirectional[0][0]']       \n",
      " OpLambda)                                                                                        \n",
      "                                                                                                  \n",
      " gru_1 (GRU)                 [(None, 5, 100),             120600    ['tf.concat_1[0][0]',         \n",
      "                              (None, 100)]                           'tf.math.tanh[0][0]']        \n",
      "                                                                                                  \n",
      " tf.linalg.matmul (TFOpLamb  (None, 5, 2)                 0         ['tf.tile[0][0]',             \n",
      " da)                                                                 'tf.compat.v1.transpose[0][0]\n",
      "                                                                    ']                            \n",
      "                                                                                                  \n",
      " tf.concat_2 (TFOpLambda)    (None, 5, 202)               0         ['gru_1[0][0]',               \n",
      "                                                                     'tf.linalg.matmul[0][0]',    \n",
      "                                                                     'embedding_1[0][0]']         \n",
      "                                                                                                  \n",
      " dense_4 (Dense)             (None, 5, 125)               25375     ['tf.concat_2[0][0]']         \n",
      "                                                                                                  \n",
      "==================================================================================================\n",
      "Total params: 335876 (1.28 MB)\n",
      "Trainable params: 335876 (1.28 MB)\n",
      "Non-trainable params: 0 (0.00 Byte)\n",
      "__________________________________________________________________________________________________\n"
     ]
    }
   ],
   "source": [
    "model.summary()"
   ]
  },
  {
   "cell_type": "code",
   "execution_count": 51,
   "id": "d0704151",
   "metadata": {},
   "outputs": [
    {
     "data": {
      "text/plain": [
       "<keras.src.layers.core.tf_op_layer.TFOpLambda at 0x1ea5fb19810>"
      ]
     },
     "execution_count": 51,
     "metadata": {},
     "output_type": "execute_result"
    }
   ],
   "source": [
    "model.layers[17]"
   ]
  },
  {
   "cell_type": "code",
   "execution_count": 53,
   "id": "e8d9de64",
   "metadata": {},
   "outputs": [
    {
     "ename": "ValueError",
     "evalue": "Found input tensor cannot be reached given provided output tensors. Please make sure the tensor KerasTensor(type_spec=TensorSpec(shape=(None, 2, 200), dtype=tf.float32, name='input_47'), name='input_47', description=\"created by layer 'input_47'\") is included in the model inputs when building functional model.",
     "output_type": "error",
     "traceback": [
      "\u001b[1;31m---------------------------------------------------------------------------\u001b[0m",
      "\u001b[1;31mValueError\u001b[0m                                Traceback (most recent call last)",
      "Input \u001b[1;32mIn [53]\u001b[0m, in \u001b[0;36m<module>\u001b[1;34m\u001b[0m\n\u001b[0;32m     12\u001b[0m ouput\u001b[38;5;241m=\u001b[39mmodel\u001b[38;5;241m.\u001b[39mlayers[\u001b[38;5;241m17\u001b[39m]([decoder_op,decoder_combined,decoder_embedded],axis\u001b[38;5;241m=\u001b[39m\u001b[38;5;241m2\u001b[39m)\n\u001b[0;32m     13\u001b[0m dec_op\u001b[38;5;241m=\u001b[39mmodel\u001b[38;5;241m.\u001b[39mlayers[\u001b[38;5;241m18\u001b[39m](ouput)\n\u001b[1;32m---> 15\u001b[0m decoder_model\u001b[38;5;241m=\u001b[39m\u001b[43mModel\u001b[49m\u001b[43m(\u001b[49m\u001b[43m[\u001b[49m\u001b[43mdecoder_inputs\u001b[49m\u001b[43m,\u001b[49m\u001b[43mencoder_op\u001b[49m\u001b[43m,\u001b[49m\u001b[43mhidden\u001b[49m\u001b[43m]\u001b[49m\u001b[43m,\u001b[49m\u001b[43m[\u001b[49m\u001b[43mdec_op\u001b[49m\u001b[43m,\u001b[49m\u001b[43mh1\u001b[49m\u001b[43m]\u001b[49m\u001b[43m)\u001b[49m\n",
      "File \u001b[1;32m~\\AppData\\Roaming\\Python\\Python310\\site-packages\\tensorflow\\python\\trackable\\base.py:204\u001b[0m, in \u001b[0;36mno_automatic_dependency_tracking.<locals>._method_wrapper\u001b[1;34m(self, *args, **kwargs)\u001b[0m\n\u001b[0;32m    202\u001b[0m \u001b[38;5;28mself\u001b[39m\u001b[38;5;241m.\u001b[39m_self_setattr_tracking \u001b[38;5;241m=\u001b[39m \u001b[38;5;28;01mFalse\u001b[39;00m  \u001b[38;5;66;03m# pylint: disable=protected-access\u001b[39;00m\n\u001b[0;32m    203\u001b[0m \u001b[38;5;28;01mtry\u001b[39;00m:\n\u001b[1;32m--> 204\u001b[0m   result \u001b[38;5;241m=\u001b[39m method(\u001b[38;5;28mself\u001b[39m, \u001b[38;5;241m*\u001b[39margs, \u001b[38;5;241m*\u001b[39m\u001b[38;5;241m*\u001b[39mkwargs)\n\u001b[0;32m    205\u001b[0m \u001b[38;5;28;01mfinally\u001b[39;00m:\n\u001b[0;32m    206\u001b[0m   \u001b[38;5;28mself\u001b[39m\u001b[38;5;241m.\u001b[39m_self_setattr_tracking \u001b[38;5;241m=\u001b[39m previous_value  \u001b[38;5;66;03m# pylint: disable=protected-access\u001b[39;00m\n",
      "File \u001b[1;32m~\\AppData\\Roaming\\Python\\Python310\\site-packages\\keras\\src\\engine\\functional.py:164\u001b[0m, in \u001b[0;36mFunctional.__init__\u001b[1;34m(self, inputs, outputs, name, trainable, **kwargs)\u001b[0m\n\u001b[0;32m    157\u001b[0m \u001b[38;5;28;01mif\u001b[39;00m tf\u001b[38;5;241m.\u001b[39mcompat\u001b[38;5;241m.\u001b[39mv1\u001b[38;5;241m.\u001b[39mexecuting_eagerly_outside_functions():\n\u001b[0;32m    158\u001b[0m     \u001b[38;5;28;01mif\u001b[39;00m \u001b[38;5;129;01mnot\u001b[39;00m \u001b[38;5;28mall\u001b[39m(\n\u001b[0;32m    159\u001b[0m         [\n\u001b[0;32m    160\u001b[0m             functional_utils\u001b[38;5;241m.\u001b[39mis_input_keras_tensor(t)\n\u001b[0;32m    161\u001b[0m             \u001b[38;5;28;01mfor\u001b[39;00m t \u001b[38;5;129;01min\u001b[39;00m tf\u001b[38;5;241m.\u001b[39mnest\u001b[38;5;241m.\u001b[39mflatten(inputs)\n\u001b[0;32m    162\u001b[0m         ]\n\u001b[0;32m    163\u001b[0m     ):\n\u001b[1;32m--> 164\u001b[0m         inputs, outputs \u001b[38;5;241m=\u001b[39m \u001b[43mfunctional_utils\u001b[49m\u001b[38;5;241;43m.\u001b[39;49m\u001b[43mclone_graph_nodes\u001b[49m\u001b[43m(\u001b[49m\n\u001b[0;32m    165\u001b[0m \u001b[43m            \u001b[49m\u001b[43minputs\u001b[49m\u001b[43m,\u001b[49m\u001b[43m \u001b[49m\u001b[43moutputs\u001b[49m\n\u001b[0;32m    166\u001b[0m \u001b[43m        \u001b[49m\u001b[43m)\u001b[49m\n\u001b[0;32m    167\u001b[0m \u001b[38;5;28mself\u001b[39m\u001b[38;5;241m.\u001b[39m_init_graph_network(inputs, outputs)\n",
      "File \u001b[1;32m~\\AppData\\Roaming\\Python\\Python310\\site-packages\\keras\\src\\engine\\functional_utils.py:155\u001b[0m, in \u001b[0;36mclone_graph_nodes\u001b[1;34m(inputs, outputs)\u001b[0m\n\u001b[0;32m    136\u001b[0m \u001b[38;5;28;01mdef\u001b[39;00m \u001b[38;5;21mclone_graph_nodes\u001b[39m(inputs, outputs):\n\u001b[0;32m    137\u001b[0m     \u001b[38;5;124;03m\"\"\"Clone the `Node` between the inputs and output tensors.\u001b[39;00m\n\u001b[0;32m    138\u001b[0m \n\u001b[0;32m    139\u001b[0m \u001b[38;5;124;03m    This function is used to create a new functional model from any intermediate\u001b[39;00m\n\u001b[1;32m   (...)\u001b[0m\n\u001b[0;32m    153\u001b[0m \u001b[38;5;124;03m      to create a new functional model.\u001b[39;00m\n\u001b[0;32m    154\u001b[0m \u001b[38;5;124;03m    \"\"\"\u001b[39;00m\n\u001b[1;32m--> 155\u001b[0m     nodes_to_clone \u001b[38;5;241m=\u001b[39m \u001b[43mfind_nodes_by_inputs_and_outputs\u001b[49m\u001b[43m(\u001b[49m\u001b[43minputs\u001b[49m\u001b[43m,\u001b[49m\u001b[43m \u001b[49m\u001b[43moutputs\u001b[49m\u001b[43m)\u001b[49m\n\u001b[0;32m    156\u001b[0m     cloned_inputs \u001b[38;5;241m=\u001b[39m []\n\u001b[0;32m    157\u001b[0m     cloned_outputs \u001b[38;5;241m=\u001b[39m []\n",
      "File \u001b[1;32m~\\AppData\\Roaming\\Python\\Python310\\site-packages\\keras\\src\\engine\\functional_utils.py:115\u001b[0m, in \u001b[0;36mfind_nodes_by_inputs_and_outputs\u001b[1;34m(inputs, outputs)\u001b[0m\n\u001b[0;32m    110\u001b[0m         \u001b[38;5;66;03m# In case this is the tf.keras.Input node, we have reached the end\u001b[39;00m\n\u001b[0;32m    111\u001b[0m         \u001b[38;5;66;03m# of the tracing of upstream nodes. Any further tracing will just be\u001b[39;00m\n\u001b[0;32m    112\u001b[0m         \u001b[38;5;66;03m# an infinite loop. we should raise an error here since we didn't\u001b[39;00m\n\u001b[0;32m    113\u001b[0m         \u001b[38;5;66;03m# find the input in the user-specified inputs.\u001b[39;00m\n\u001b[0;32m    114\u001b[0m         \u001b[38;5;28;01mif\u001b[39;00m inbound_node\u001b[38;5;241m.\u001b[39mis_input:\n\u001b[1;32m--> 115\u001b[0m             \u001b[38;5;28;01mraise\u001b[39;00m \u001b[38;5;167;01mValueError\u001b[39;00m(\n\u001b[0;32m    116\u001b[0m                 \u001b[38;5;124m\"\u001b[39m\u001b[38;5;124mFound input tensor cannot be reached given provided \u001b[39m\u001b[38;5;124m\"\u001b[39m\n\u001b[0;32m    117\u001b[0m                 \u001b[38;5;124m\"\u001b[39m\u001b[38;5;124moutput tensors. Please make sure the tensor \u001b[39m\u001b[38;5;132;01m{}\u001b[39;00m\u001b[38;5;124m is \u001b[39m\u001b[38;5;124m\"\u001b[39m\n\u001b[0;32m    118\u001b[0m                 \u001b[38;5;124m\"\u001b[39m\u001b[38;5;124mincluded in the model inputs when building \u001b[39m\u001b[38;5;124m\"\u001b[39m\n\u001b[0;32m    119\u001b[0m                 \u001b[38;5;124m\"\u001b[39m\u001b[38;5;124mfunctional model.\u001b[39m\u001b[38;5;124m\"\u001b[39m\u001b[38;5;241m.\u001b[39mformat(kt)\n\u001b[0;32m    120\u001b[0m             )\n\u001b[0;32m    121\u001b[0m         nodes_to_visit\u001b[38;5;241m.\u001b[39mappend(inbound_node)\n\u001b[0;32m    123\u001b[0m \u001b[38;5;66;03m# Do a final check and make sure we have reached all the user-specified\u001b[39;00m\n\u001b[0;32m    124\u001b[0m \u001b[38;5;66;03m# inputs\u001b[39;00m\n",
      "\u001b[1;31mValueError\u001b[0m: Found input tensor cannot be reached given provided output tensors. Please make sure the tensor KerasTensor(type_spec=TensorSpec(shape=(None, 2, 200), dtype=tf.float32, name='input_47'), name='input_47', description=\"created by layer 'input_47'\") is included in the model inputs when building functional model."
     ]
    }
   ],
   "source": [
    "decoder_inputs=Input(shape=(max_tar_len,))\n",
    "encoder_op=Input(shape=(max_inp_len,2*gru_units))\n",
    "hidden=Input(shape=(gru_units,))\n",
    "decoder_embedded= model.layers[6](decoder_inputs)\n",
    "context_vector=model.layers[8]([hidden,encoder_op])\n",
    "context_vector=model.layers[10](context_vector,1)\n",
    "context_vector=model.layers[12](context_vector,[1,tf.shape(decoder_embedded)[1],1])\n",
    "encoder_op=model.layers[14](encoder_op,perm=(0,2,1))\n",
    "decoder_combined=model.layers[16](context_vector,encoder_op)\n",
    "weighted=model.layers[13]([decoder_embedded, context_vector],axis=2)\n",
    "decoder_op,h1=model.layers[15](weighted,initial_state=hidden)\n",
    "ouput=model.layers[17]([decoder_op,decoder_combined,decoder_embedded],axis=2)\n",
    "dec_op=model.layers[18](ouput)\n",
    "\n",
    "decoder_model=Model([decoder_inputs,encoder_op,hidden],[dec_op,h1])"
   ]
  },
  {
   "cell_type": "code",
   "execution_count": 32,
   "id": "c0a6d6bf",
   "metadata": {},
   "outputs": [
    {
     "ename": "NameError",
     "evalue": "name 'decoder_model' is not defined",
     "output_type": "error",
     "traceback": [
      "\u001b[1;31m---------------------------------------------------------------------------\u001b[0m",
      "\u001b[1;31mNameError\u001b[0m                                 Traceback (most recent call last)",
      "Input \u001b[1;32mIn [32]\u001b[0m, in \u001b[0;36m<module>\u001b[1;34m\u001b[0m\n\u001b[1;32m----> 1\u001b[0m \u001b[43mdecoder_model\u001b[49m\u001b[38;5;241m.\u001b[39msummary()\n",
      "\u001b[1;31mNameError\u001b[0m: name 'decoder_model' is not defined"
     ]
    }
   ],
   "source": [
    "decoder_model.summary()"
   ]
  },
  {
   "cell_type": "code",
   "execution_count": null,
   "id": "f3037008",
   "metadata": {},
   "outputs": [],
   "source": []
  },
  {
   "cell_type": "code",
   "execution_count": null,
   "id": "5af9d55b",
   "metadata": {},
   "outputs": [],
   "source": []
  },
  {
   "cell_type": "code",
   "execution_count": 7,
   "id": "3d9d0d4c",
   "metadata": {},
   "outputs": [],
   "source": [
    "from keras.preprocessing.text import Tokenizer\n",
    "from keras.preprocessing.sequence import pad_sequences"
   ]
  },
  {
   "cell_type": "code",
   "execution_count": 19,
   "id": "d1512bcd",
   "metadata": {},
   "outputs": [],
   "source": [
    "inputs = []\n",
    "outputs = []\n",
    "\n",
    "data_file = open('spa.txt', encoding='utf-8')\n",
    "\n",
    "count = 0\n",
    "for line in data_file:\n",
    "    count += 1\n",
    "    if count > 3000:\n",
    "        break\n",
    "    if '\\t' not in line:\n",
    "        continue\n",
    "    ip, temp_op, extra = line.rstrip().split('\\t')\n",
    "    op = temp_op\n",
    "    inputs.append(ip)\n",
    "    outputs.append(op)"
   ]
  },
  {
   "cell_type": "code",
   "execution_count": 20,
   "id": "559ff6d6",
   "metadata": {},
   "outputs": [],
   "source": [
    "inputs=[sentence.lower() for sentence in inputs]\n",
    "outputs=[sentence.lower() for sentence in outputs]"
   ]
  },
  {
   "cell_type": "code",
   "execution_count": 21,
   "id": "92df1cc2",
   "metadata": {},
   "outputs": [],
   "source": [
    "outputs = ['<start> '+sentence+' <end>' for sentence in outputs]"
   ]
  },
  {
   "cell_type": "code",
   "execution_count": 22,
   "id": "38311c60",
   "metadata": {},
   "outputs": [],
   "source": [
    "EnglishTokenizer=Tokenizer(oov_token=\"<UNK>\")\n",
    "EnglishTokenizer.fit_on_texts(inputs)\n",
    "inp_sequences=EnglishTokenizer.texts_to_sequences(inputs)\n",
    "max_inp_len=max(len(i) for i in inp_sequences)\n",
    "src_sequences=pad_sequences(inp_sequences,maxlen=max_inp_len,padding=\"post\")\n",
    "Englishword2index=EnglishTokenizer.word_index\n",
    "Englishindex2word=EnglishTokenizer.index_word"
   ]
  },
  {
   "cell_type": "code",
   "execution_count": 23,
   "id": "8352701e",
   "metadata": {},
   "outputs": [],
   "source": [
    "SpanishTokenizer=Tokenizer(oov_token=\"<UNK>\")\n",
    "SpanishTokenizer.fit_on_texts(outputs)\n",
    "op_sequences=SpanishTokenizer.texts_to_sequences(outputs)\n",
    "max_tar_len=max(len(i) for i in op_sequences)\n",
    "tar_sequences=pad_sequences(op_sequences,maxlen=max_tar_len,padding=\"post\")\n",
    "Spanishword2index=SpanishTokenizer.word_index\n",
    "Spanishindex2word=SpanishTokenizer.index_word"
   ]
  },
  {
   "cell_type": "code",
   "execution_count": 24,
   "id": "8e4c3bb7",
   "metadata": {},
   "outputs": [
    {
     "name": "stdout",
     "output_type": "stream",
     "text": [
      "src_vocab_size: 901\n",
      "tar_vocab_size: 2117\n"
     ]
    }
   ],
   "source": [
    "src_vocab_size=len(Englishword2index)+1\n",
    "trg_vocab_size=len(Spanishword2index)+1\n",
    "print(\"src_vocab_size:\",src_vocab_size)\n",
    "print(\"tar_vocab_size:\",trg_vocab_size)"
   ]
  },
  {
   "cell_type": "code",
   "execution_count": 25,
   "id": "852b8fce",
   "metadata": {},
   "outputs": [
    {
     "name": "stdout",
     "output_type": "stream",
     "text": [
      "max_inp_len: 4\n",
      "max_tar_len: 9\n"
     ]
    }
   ],
   "source": [
    "print(\"max_inp_len:\",max_inp_len)\n",
    "print(\"max_tar_len:\",max_tar_len)"
   ]
  },
  {
   "cell_type": "code",
   "execution_count": 26,
   "id": "4a6d43cc",
   "metadata": {},
   "outputs": [],
   "source": [
    "gru_units=100\n",
    "embed_size=100"
   ]
  },
  {
   "cell_type": "code",
   "execution_count": null,
   "id": "d904ba2f",
   "metadata": {},
   "outputs": [],
   "source": []
  }
 ],
 "metadata": {
  "kernelspec": {
   "display_name": "Python 3 (ipykernel)",
   "language": "python",
   "name": "python3"
  },
  "language_info": {
   "codemirror_mode": {
    "name": "ipython",
    "version": 3
   },
   "file_extension": ".py",
   "mimetype": "text/x-python",
   "name": "python",
   "nbconvert_exporter": "python",
   "pygments_lexer": "ipython3",
   "version": "3.10.2"
  }
 },
 "nbformat": 4,
 "nbformat_minor": 5
}
