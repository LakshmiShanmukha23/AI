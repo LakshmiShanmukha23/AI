{
 "cells": [
  {
   "cell_type": "code",
   "execution_count": 5,
   "id": "3a330e86",
   "metadata": {},
   "outputs": [],
   "source": [
    "import keras"
   ]
  },
  {
   "cell_type": "code",
   "execution_count": 6,
   "id": "c21ed8f2",
   "metadata": {},
   "outputs": [],
   "source": [
    "import numpy as np\n",
    "import tensorflow as tf"
   ]
  },
  {
   "cell_type": "code",
   "execution_count": 7,
   "id": "f7303475",
   "metadata": {},
   "outputs": [],
   "source": [
    "from tensorflow.keras.layers import Input,GRU,Dense,Embedding,Bidirectional"
   ]
  },
  {
   "cell_type": "code",
   "execution_count": 8,
   "id": "6f078882",
   "metadata": {},
   "outputs": [],
   "source": [
    "from keras.models import Model"
   ]
  },
  {
   "cell_type": "code",
   "execution_count": 9,
   "id": "40cabb54",
   "metadata": {},
   "outputs": [],
   "source": [
    "from keras.preprocessing.text import Tokenizer\n",
    "from keras.preprocessing.sequence import pad_sequences"
   ]
  },
  {
   "cell_type": "code",
   "execution_count": 10,
   "id": "e8e0bef4",
   "metadata": {},
   "outputs": [],
   "source": [
    "inputs = []\n",
    "outputs = []\n",
    "\n",
    "data_file = open('spa.txt', encoding='utf-8')\n",
    "\n",
    "count = 0\n",
    "for line in data_file:\n",
    "    count += 1\n",
    "    if count > 10:\n",
    "        break\n",
    "    if '\\t' not in line:\n",
    "        continue\n",
    "    ip, temp_op, extra = line.rstrip().split('\\t')\n",
    "    op = temp_op\n",
    "    inputs.append(ip)\n",
    "    outputs.append(op)"
   ]
  },
  {
   "cell_type": "code",
   "execution_count": 11,
   "id": "ec189327",
   "metadata": {},
   "outputs": [],
   "source": [
    "inputs=[sentence.lower() for sentence in inputs]\n",
    "outputs=[sentence.lower() for sentence in outputs]"
   ]
  },
  {
   "cell_type": "code",
   "execution_count": 12,
   "id": "4c11d4ba",
   "metadata": {},
   "outputs": [],
   "source": [
    "outputs = [\"<start>\"+\" \"+sentence+\" \"+\"<end>\" for sentence in outputs]"
   ]
  },
  {
   "cell_type": "code",
   "execution_count": 13,
   "id": "c360cc8b",
   "metadata": {},
   "outputs": [],
   "source": [
    "EnglishTokenizer=Tokenizer(oov_token=\"<UNK>\")\n",
    "EnglishTokenizer.fit_on_texts(inputs)\n",
    "inp_sequences=EnglishTokenizer.texts_to_sequences(inputs)\n",
    "max_inp_len=max(len(i) for i in inp_sequences)\n",
    "src_sequences=pad_sequences(inp_sequences,maxlen=max_inp_len,padding=\"post\")\n",
    "Englishword2index=EnglishTokenizer.word_index\n",
    "Englishindex2word=EnglishTokenizer.index_word"
   ]
  },
  {
   "cell_type": "code",
   "execution_count": 14,
   "id": "312cd8bc",
   "metadata": {},
   "outputs": [],
   "source": [
    "SpanishTokenizer=Tokenizer(oov_token=\"<UNK>\")\n",
    "SpanishTokenizer.fit_on_texts(outputs)\n",
    "op_sequences=SpanishTokenizer.texts_to_sequences(outputs)\n",
    "max_tar_len=max(len(i) for i in op_sequences)\n",
    "tar_sequences=pad_sequences(op_sequences,maxlen=max_tar_len,padding=\"post\")\n",
    "Spanishword2index=SpanishTokenizer.word_index\n",
    "Spanishindex2word=SpanishTokenizer.index_word"
   ]
  },
  {
   "cell_type": "code",
   "execution_count": 15,
   "id": "1fc2bec6",
   "metadata": {},
   "outputs": [
    {
     "name": "stdout",
     "output_type": "stream",
     "text": [
      "src_vocab_size: 5\n",
      "tar_vocab_size: 14\n"
     ]
    }
   ],
   "source": [
    "src_vocab_size=len(Englishword2index)+1\n",
    "trg_vocab_size=len(Spanishword2index)+1\n",
    "print(\"src_vocab_size:\",src_vocab_size)\n",
    "print(\"tar_vocab_size:\",trg_vocab_size)"
   ]
  },
  {
   "cell_type": "code",
   "execution_count": 16,
   "id": "72b13197",
   "metadata": {},
   "outputs": [
    {
     "name": "stdout",
     "output_type": "stream",
     "text": [
      "max_inp_len: 1\n",
      "max_tar_len: 3\n"
     ]
    }
   ],
   "source": [
    "print(\"max_inp_len:\",max_inp_len)\n",
    "print(\"max_tar_len:\",max_tar_len)"
   ]
  },
  {
   "cell_type": "code",
   "execution_count": 17,
   "id": "07e6aeac",
   "metadata": {},
   "outputs": [],
   "source": [
    "gru_units=100\n",
    "embed_size=100"
   ]
  },
  {
   "cell_type": "code",
   "execution_count": 34,
   "id": "1f9fb09b",
   "metadata": {},
   "outputs": [],
   "source": [
    "from numpy import asarray, zeros\n",
    "\n",
    "embeddings_dict = dict()\n",
    "\n",
    "glove_file = open('glove.6B.100d.txt', encoding='utf8')\n",
    "\n",
    "for line in glove_file:\n",
    "    records = line.split()\n",
    "    word = records[0]\n",
    "    vector = asarray(records[1:], dtype='float32')\n",
    "    embeddings_dict[word] = vector\n",
    "\n",
    "glove_file.close()"
   ]
  },
  {
   "cell_type": "code",
   "execution_count": 35,
   "id": "730dada7",
   "metadata": {},
   "outputs": [],
   "source": [
    "embedding_matrix = zeros((src_vocab_size,embed_size))\n",
    "\n",
    "for word, index in Englishword2index.items():\n",
    "    embedding_vector = embeddings_dict.get(word)\n",
    "    if embedding_vector is not None:\n",
    "        embedding_matrix[index] = embedding_vector"
   ]
  },
  {
   "cell_type": "code",
   "execution_count": 18,
   "id": "39db5a20",
   "metadata": {},
   "outputs": [],
   "source": [
    "class BahdanauAttention(tf.keras.layers.Layer):\n",
    "    def __init__(self, units):\n",
    "        super(BahdanauAttention, self).__init__()\n",
    "        self.W1 = tf.keras.layers.Dense(units)\n",
    "        self.W2 = tf.keras.layers.Dense(units)\n",
    "        self.V = tf.keras.layers.Dense(1)\n",
    "        \n",
    "    def call(self, inputs):\n",
    "        query,values=inputs\n",
    "        query_with_time_axis = tf.expand_dims(query, 1)\n",
    "        score1=self.W1(query_with_time_axis)\n",
    "        score2=self.W2(values)\n",
    "        combined_score=tf.nn.tanh(score1 + score2)\n",
    "        score = self.V(combined_score)\n",
    "        attention_weights = tf.nn.softmax(score, axis=1)\n",
    "        context_vector = attention_weights * values\n",
    "        context_vector = tf.reduce_sum(context_vector, axis=1)\n",
    "        return context_vector"
   ]
  },
  {
   "cell_type": "code",
   "execution_count": null,
   "id": "3db89543",
   "metadata": {},
   "outputs": [],
   "source": []
  },
  {
   "cell_type": "code",
   "execution_count": null,
   "id": "308845dd",
   "metadata": {},
   "outputs": [],
   "source": []
  },
  {
   "cell_type": "code",
   "execution_count": null,
   "id": "276c3949",
   "metadata": {},
   "outputs": [],
   "source": []
  },
  {
   "cell_type": "code",
   "execution_count": null,
   "id": "3916d6a9",
   "metadata": {},
   "outputs": [],
   "source": []
  },
  {
   "cell_type": "code",
   "execution_count": 19,
   "id": "c1002811",
   "metadata": {},
   "outputs": [],
   "source": [
    "encoder_inputs=Input(shape=(max_inp_len,))\n",
    "encoder_embed=Embedding(src_vocab_size,embed_size)(encoder_inputs)\n",
    "encoder_gru=Bidirectional(GRU(gru_units,return_sequences=True,return_state=True))\n",
    "encoder_op,forward,backward=encoder_gru(encoder_embed)\n",
    "encoder_dense=Dense(gru_units)\n",
    "hidden=tf.nn.tanh(encoder_dense((tf.concat([forward,backward], axis = -1))))\n",
    "\n",
    "decoder_inputs=Input(shape=(max_tar_len,))\n",
    "decoder_embed=Embedding(trg_vocab_size,embed_size)(decoder_inputs)\n",
    "attention=BahdanauAttention(gru_units)\n",
    "context_vector=attention([hidden,encoder_op])\n",
    "context_vector=tf.expand_dims(context_vector,1)\n",
    "context_vector=tf.tile(context_vector,[1,tf.shape(decoder_embed)[1],1])\n",
    "encoder_op=tf.transpose(encoder_op,perm=(0,2,1))\n",
    "decoder_combined=tf.matmul(context_vector,encoder_op)\n",
    "weighted=tf.concat([decoder_embed, context_vector],axis=2)\n",
    "\n",
    "decoder_gru=GRU(gru_units,return_sequences=True,return_state=True)\n",
    "decoder_op,_=decoder_gru(weighted,initial_state=hidden)\n",
    "\n",
    "ouput=tf.concat([decoder_op,decoder_combined,decoder_embed],axis=2)\n",
    "\n",
    "dec_op=Dense(trg_vocab_size)(ouput)\n",
    "\n",
    "model=Model([encoder_inputs,decoder_inputs],dec_op)"
   ]
  },
  {
   "cell_type": "code",
   "execution_count": null,
   "id": "0607fb15",
   "metadata": {},
   "outputs": [],
   "source": []
  },
  {
   "cell_type": "code",
   "execution_count": null,
   "id": "bf218044",
   "metadata": {},
   "outputs": [],
   "source": []
  },
  {
   "cell_type": "code",
   "execution_count": 37,
   "id": "3b266ecf",
   "metadata": {},
   "outputs": [],
   "source": [
    "from keras.layers import Dropout"
   ]
  },
  {
   "cell_type": "code",
   "execution_count": 38,
   "id": "5f80ccb1",
   "metadata": {},
   "outputs": [],
   "source": [
    "encoder_inputs=Input(shape=(max_inp_len,))\n",
    "encoder_embed=Embedding(src_vocab_size,embed_size,weights=[embedding_matrix])(encoder_inputs)\n",
    "encoder_gru=Bidirectional(GRU(gru_units,return_sequences=True,return_state=True))\n",
    "encoder_op,forward,backward=encoder_gru(encoder_embed)\n",
    "encoder_dropout=Dropout(rate=0.4)\n",
    "encoder_op=encoder_dropout(encoder_op)\n",
    "encoder_dense=Dense(gru_units)\n",
    "hidden=encoder_dense((tf.concat([forward,backward], axis = -1)))\n",
    "\n",
    "decoder_inputs=Input(shape=(max_tar_len,))\n",
    "decoder_embed=Embedding(trg_vocab_size,embed_size)(decoder_inputs)\n",
    "attention=BahdanauAttention(gru_units)\n",
    "context_vector=attention([hidden,encoder_op])\n",
    "context_vector=tf.expand_dims(context_vector,1)\n",
    "context_vector=tf.tile(context_vector,[1,tf.shape(decoder_embed)[1],1])\n",
    "weighted=tf.concat([decoder_embed, context_vector],axis=2)\n",
    "decoder_gru=GRU(gru_units,return_sequences=True,return_state=True)\n",
    "decoder_op,_=decoder_gru(weighted,initial_state=hidden)\n",
    "decoder_dropout=Dropout(rate=0.4)\n",
    "dec_op=decoder_dropout(decoder_op)\n",
    "ouput=tf.concat([decoder_op,weighted],axis=2)\n",
    "dec_op=Dense(trg_vocab_size)(ouput)\n",
    "\n",
    "model=Model([encoder_inputs,decoder_inputs],dec_op)"
   ]
  },
  {
   "cell_type": "code",
   "execution_count": null,
   "id": "320e1b4b",
   "metadata": {},
   "outputs": [],
   "source": []
  },
  {
   "cell_type": "code",
   "execution_count": null,
   "id": "dcfc8cef",
   "metadata": {},
   "outputs": [],
   "source": []
  },
  {
   "cell_type": "code",
   "execution_count": 20,
   "id": "a2401236",
   "metadata": {},
   "outputs": [
    {
     "name": "stdout",
     "output_type": "stream",
     "text": [
      "Model: \"model\"\n",
      "__________________________________________________________________________________________________\n",
      " Layer (type)                Output Shape                 Param #   Connected to                  \n",
      "==================================================================================================\n",
      " input_1 (InputLayer)        [(None, 1)]                  0         []                            \n",
      "                                                                                                  \n",
      " embedding (Embedding)       (None, 1, 100)               500       ['input_1[0][0]']             \n",
      "                                                                                                  \n",
      " bidirectional (Bidirection  [(None, 1, 200),             121200    ['embedding[0][0]']           \n",
      " al)                          (None, 100),                                                        \n",
      "                              (None, 100)]                                                        \n",
      "                                                                                                  \n",
      " tf.concat (TFOpLambda)      (None, 200)                  0         ['bidirectional[0][1]',       \n",
      "                                                                     'bidirectional[0][2]']       \n",
      "                                                                                                  \n",
      " input_2 (InputLayer)        [(None, 3)]                  0         []                            \n",
      "                                                                                                  \n",
      " dense (Dense)               (None, 100)                  20100     ['tf.concat[0][0]']           \n",
      "                                                                                                  \n",
      " embedding_1 (Embedding)     (None, 3, 100)               1400      ['input_2[0][0]']             \n",
      "                                                                                                  \n",
      " tf.math.tanh (TFOpLambda)   (None, 100)                  0         ['dense[0][0]']               \n",
      "                                                                                                  \n",
      " bahdanau_attention (Bahdan  (None, 200)                  30301     ['tf.math.tanh[0][0]',        \n",
      " auAttention)                                                        'bidirectional[0][0]']       \n",
      "                                                                                                  \n",
      " tf.compat.v1.shape (TFOpLa  (3,)                         0         ['embedding_1[0][0]']         \n",
      " mbda)                                                                                            \n",
      "                                                                                                  \n",
      " tf.expand_dims (TFOpLambda  (None, 1, 200)               0         ['bahdanau_attention[0][0]']  \n",
      " )                                                                                                \n",
      "                                                                                                  \n",
      " tf.__operators__.getitem (  ()                           0         ['tf.compat.v1.shape[0][0]']  \n",
      " SlicingOpLambda)                                                                                 \n",
      "                                                                                                  \n",
      " tf.tile (TFOpLambda)        (None, 3, 200)               0         ['tf.expand_dims[0][0]',      \n",
      "                                                                     'tf.__operators__.getitem[0][\n",
      "                                                                    0]']                          \n",
      "                                                                                                  \n",
      " tf.concat_1 (TFOpLambda)    (None, 3, 300)               0         ['embedding_1[0][0]',         \n",
      "                                                                     'tf.tile[0][0]']             \n",
      "                                                                                                  \n",
      " tf.compat.v1.transpose (TF  (None, 200, 1)               0         ['bidirectional[0][0]']       \n",
      " OpLambda)                                                                                        \n",
      "                                                                                                  \n",
      " gru_1 (GRU)                 [(None, 3, 100),             120600    ['tf.concat_1[0][0]',         \n",
      "                              (None, 100)]                           'tf.math.tanh[0][0]']        \n",
      "                                                                                                  \n",
      " tf.linalg.matmul (TFOpLamb  (None, 3, 1)                 0         ['tf.tile[0][0]',             \n",
      " da)                                                                 'tf.compat.v1.transpose[0][0]\n",
      "                                                                    ']                            \n",
      "                                                                                                  \n",
      " tf.concat_2 (TFOpLambda)    (None, 3, 201)               0         ['gru_1[0][0]',               \n",
      "                                                                     'tf.linalg.matmul[0][0]',    \n",
      "                                                                     'embedding_1[0][0]']         \n",
      "                                                                                                  \n",
      " dense_4 (Dense)             (None, 3, 14)                2828      ['tf.concat_2[0][0]']         \n",
      "                                                                                                  \n",
      "==================================================================================================\n",
      "Total params: 296929 (1.13 MB)\n",
      "Trainable params: 296929 (1.13 MB)\n",
      "Non-trainable params: 0 (0.00 Byte)\n",
      "__________________________________________________________________________________________________\n"
     ]
    }
   ],
   "source": [
    "model.summary()"
   ]
  },
  {
   "cell_type": "code",
   "execution_count": 21,
   "id": "fa7cb16c",
   "metadata": {},
   "outputs": [],
   "source": [
    "trg_one_hot=tf.one_hot(tar_sequences,depth=trg_vocab_size)"
   ]
  },
  {
   "cell_type": "code",
   "execution_count": 22,
   "id": "95911dc9",
   "metadata": {},
   "outputs": [],
   "source": [
    "model.compile(optimizer='adam',loss='categorical_crossentropy',metrics=['accuracy'])"
   ]
  },
  {
   "cell_type": "code",
   "execution_count": 23,
   "id": "8d0d7191",
   "metadata": {},
   "outputs": [
    {
     "name": "stdout",
     "output_type": "stream",
     "text": [
      "Epoch 1/10\n",
      "1/1 [==============================] - 14s 14s/step - loss: 9.2703 - accuracy: 0.0333\n",
      "Epoch 2/10\n",
      "1/1 [==============================] - 0s 32ms/step - loss: 8.7427 - accuracy: 0.0667\n",
      "Epoch 3/10\n",
      "1/1 [==============================] - 0s 27ms/step - loss: 8.4615 - accuracy: 0.0667\n",
      "Epoch 4/10\n",
      "1/1 [==============================] - 0s 26ms/step - loss: 9.3395 - accuracy: 0.1000\n",
      "Epoch 5/10\n",
      "1/1 [==============================] - 0s 27ms/step - loss: 8.6461 - accuracy: 0.1000\n",
      "Epoch 6/10\n",
      "1/1 [==============================] - 0s 28ms/step - loss: 8.0951 - accuracy: 0.1000\n",
      "Epoch 7/10\n",
      "1/1 [==============================] - 0s 28ms/step - loss: 9.6941 - accuracy: 0.1000\n",
      "Epoch 8/10\n",
      "1/1 [==============================] - 0s 29ms/step - loss: 12.3633 - accuracy: 0.1000\n",
      "Epoch 9/10\n",
      "1/1 [==============================] - 0s 29ms/step - loss: 12.8945 - accuracy: 0.1000\n",
      "Epoch 10/10\n",
      "1/1 [==============================] - 0s 27ms/step - loss: 12.8945 - accuracy: 0.0667\n"
     ]
    },
    {
     "data": {
      "text/plain": [
       "<keras.src.callbacks.History at 0x25f8df15cc0>"
      ]
     },
     "execution_count": 23,
     "metadata": {},
     "output_type": "execute_result"
    }
   ],
   "source": [
    "model.fit([src_sequences,tar_sequences],trg_one_hot,epochs=10)"
   ]
  },
  {
   "cell_type": "code",
   "execution_count": null,
   "id": "7994a78f",
   "metadata": {},
   "outputs": [],
   "source": []
  }
 ],
 "metadata": {
  "kernelspec": {
   "display_name": "Python 3 (ipykernel)",
   "language": "python",
   "name": "python3"
  },
  "language_info": {
   "codemirror_mode": {
    "name": "ipython",
    "version": 3
   },
   "file_extension": ".py",
   "mimetype": "text/x-python",
   "name": "python",
   "nbconvert_exporter": "python",
   "pygments_lexer": "ipython3",
   "version": "3.10.2"
  }
 },
 "nbformat": 4,
 "nbformat_minor": 5
}
