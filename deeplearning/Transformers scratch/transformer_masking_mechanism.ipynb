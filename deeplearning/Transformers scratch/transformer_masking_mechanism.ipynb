{
 "cells": [
  {
   "cell_type": "code",
   "execution_count": 2,
   "id": "cf4b133f",
   "metadata": {},
   "outputs": [],
   "source": [
    "import numpy as np"
   ]
  },
  {
   "cell_type": "code",
   "execution_count": 3,
   "id": "0dc54f67",
   "metadata": {},
   "outputs": [],
   "source": [
    "import keras"
   ]
  },
  {
   "cell_type": "code",
   "execution_count": 4,
   "id": "ef8df2cf",
   "metadata": {},
   "outputs": [],
   "source": [
    "import tensorflow as tf"
   ]
  },
  {
   "cell_type": "code",
   "execution_count": 227,
   "id": "7ff10fb1",
   "metadata": {},
   "outputs": [],
   "source": [
    "from tensorflow.keras.layers import MultiHeadAttention"
   ]
  },
  {
   "cell_type": "code",
   "execution_count": 228,
   "id": "f94f7445",
   "metadata": {},
   "outputs": [],
   "source": [
    "ma=MultiHeadAttention(num_heads=8,key_dim=512)"
   ]
  },
  {
   "cell_type": "code",
   "execution_count": 229,
   "id": "24ebe764",
   "metadata": {},
   "outputs": [],
   "source": [
    "x=np.random.random((150,10,512))\n",
    "y=np.random.random((150,15,512))"
   ]
  },
  {
   "cell_type": "code",
   "execution_count": 344,
   "id": "77020179",
   "metadata": {},
   "outputs": [],
   "source": [
    "mask=True"
   ]
  },
  {
   "cell_type": "code",
   "execution_count": 345,
   "id": "1e0efabc",
   "metadata": {},
   "outputs": [],
   "source": [
    "out,attn=ma(y,x,return_attention_scores=True,use_causal_mask=mask)"
   ]
  },
  {
   "cell_type": "code",
   "execution_count": 346,
   "id": "009ec987",
   "metadata": {},
   "outputs": [
    {
     "data": {
      "text/plain": [
       "TensorShape([150, 15, 512])"
      ]
     },
     "execution_count": 346,
     "metadata": {},
     "output_type": "execute_result"
    }
   ],
   "source": [
    "out.shape"
   ]
  },
  {
   "cell_type": "code",
   "execution_count": 347,
   "id": "c2e96447",
   "metadata": {},
   "outputs": [
    {
     "data": {
      "text/plain": [
       "TensorShape([150, 8, 15, 10])"
      ]
     },
     "execution_count": 347,
     "metadata": {},
     "output_type": "execute_result"
    }
   ],
   "source": [
    "attn.shape"
   ]
  },
  {
   "cell_type": "code",
   "execution_count": 370,
   "id": "7e0c282a",
   "metadata": {},
   "outputs": [],
   "source": [
    "def create_padding_mask(seq):\n",
    "    seq = tf.cast(tf.math.equal(seq, 0), tf.float32)\n",
    "    return seq[:,tf.newaxis,tf.newaxis,:]\n",
    "    \n",
    "def create_look_ahead_mask(size):\n",
    "    mask = 1 - tf.linalg.band_part(tf.ones((size, size)), -1, 0)\n",
    "    print(\"before:\",mask)\n",
    "    return mask*-1e9\n",
    "    \n",
    "def create_masks(inputs, target):\n",
    "    enc_padding_mask = create_padding_mask(inputs)\n",
    "    dec_padding_mask = create_padding_mask(target)\n",
    "    look_ahead_mask = create_look_ahead_mask(tf.shape(target)[1])\n",
    "    print(\"after:\",look_ahead_mask)\n",
    "    print(look_ahead_mask.shape)\n",
    "    look_ahead_mask = tf.maximum(dec_padding_mask, look_ahead_mask)\n",
    "    return enc_padding_mask, look_ahead_mask, dec_padding_mask"
   ]
  },
  {
   "cell_type": "code",
   "execution_count": 371,
   "id": "7ca1ab11",
   "metadata": {},
   "outputs": [],
   "source": [
    "m=np.arange(9).reshape(3,3)"
   ]
  },
  {
   "cell_type": "code",
   "execution_count": 372,
   "id": "56dd1c31",
   "metadata": {},
   "outputs": [],
   "source": [
    "n=np.arange(12).reshape(3,4)"
   ]
  },
  {
   "cell_type": "code",
   "execution_count": 373,
   "id": "29693387",
   "metadata": {},
   "outputs": [
    {
     "data": {
      "text/plain": [
       "((3, 3), (3, 4))"
      ]
     },
     "execution_count": 373,
     "metadata": {},
     "output_type": "execute_result"
    }
   ],
   "source": [
    "m.shape,n.shape"
   ]
  },
  {
   "cell_type": "code",
   "execution_count": 374,
   "id": "55ad2fd3",
   "metadata": {},
   "outputs": [],
   "source": [
    "m=np.array(m)\n",
    "n=np.array(n)"
   ]
  },
  {
   "cell_type": "code",
   "execution_count": 376,
   "id": "e5afe369",
   "metadata": {},
   "outputs": [
    {
     "name": "stdout",
     "output_type": "stream",
     "text": [
      "before: tf.Tensor(\n",
      "[[0. 1. 1. 1.]\n",
      " [0. 0. 1. 1.]\n",
      " [0. 0. 0. 1.]\n",
      " [0. 0. 0. 0.]], shape=(4, 4), dtype=float32)\n",
      "after: tf.Tensor(\n",
      "[[-0.e+00 -1.e+09 -1.e+09 -1.e+09]\n",
      " [-0.e+00 -0.e+00 -1.e+09 -1.e+09]\n",
      " [-0.e+00 -0.e+00 -0.e+00 -1.e+09]\n",
      " [-0.e+00 -0.e+00 -0.e+00 -0.e+00]], shape=(4, 4), dtype=float32)\n",
      "(4, 4)\n"
     ]
    }
   ],
   "source": [
    "l1,l2,l3=create_masks(m,n)"
   ]
  },
  {
   "cell_type": "code",
   "execution_count": 380,
   "id": "dbdbc85a",
   "metadata": {},
   "outputs": [
    {
     "data": {
      "text/plain": [
       "<tf.Tensor: shape=(3, 1, 4, 4), dtype=float32, numpy=\n",
       "array([[[[ 1.,  0.,  0.,  0.],\n",
       "         [ 1., -0.,  0.,  0.],\n",
       "         [ 1., -0., -0.,  0.],\n",
       "         [ 1., -0., -0., -0.]]],\n",
       "\n",
       "\n",
       "       [[[-0.,  0.,  0.,  0.],\n",
       "         [-0., -0.,  0.,  0.],\n",
       "         [-0., -0., -0.,  0.],\n",
       "         [-0., -0., -0., -0.]]],\n",
       "\n",
       "\n",
       "       [[[-0.,  0.,  0.,  0.],\n",
       "         [-0., -0.,  0.,  0.],\n",
       "         [-0., -0., -0.,  0.],\n",
       "         [-0., -0., -0., -0.]]]], dtype=float32)>"
      ]
     },
     "execution_count": 380,
     "metadata": {},
     "output_type": "execute_result"
    }
   ],
   "source": [
    "tf.maximum(l3, l2)"
   ]
  },
  {
   "cell_type": "code",
   "execution_count": 306,
   "id": "fb4cebbd",
   "metadata": {},
   "outputs": [
    {
     "data": {
      "text/plain": [
       "(TensorShape([3, 1, 1, 3]),\n",
       " TensorShape([3, 1, 4, 4]),\n",
       " TensorShape([3, 1, 1, 4]))"
      ]
     },
     "execution_count": 306,
     "metadata": {},
     "output_type": "execute_result"
    }
   ],
   "source": [
    "l1.shape,l2.shape,l3.shape"
   ]
  },
  {
   "cell_type": "code",
   "execution_count": 308,
   "id": "1dc8e818",
   "metadata": {},
   "outputs": [],
   "source": [
    "xy=np.random.random((3,8,4,3))"
   ]
  },
  {
   "cell_type": "code",
   "execution_count": 339,
   "id": "042a595e",
   "metadata": {},
   "outputs": [
    {
     "data": {
      "text/plain": [
       "<tf.Tensor: shape=(3, 1, 4, 4), dtype=float32, numpy=\n",
       "array([[[[1., 1., 1., 1.],\n",
       "         [1., 0., 1., 1.],\n",
       "         [1., 0., 0., 1.],\n",
       "         [1., 0., 0., 0.]]],\n",
       "\n",
       "\n",
       "       [[[0., 1., 1., 1.],\n",
       "         [0., 0., 1., 1.],\n",
       "         [0., 0., 0., 1.],\n",
       "         [0., 0., 0., 0.]]],\n",
       "\n",
       "\n",
       "       [[[0., 1., 1., 1.],\n",
       "         [0., 0., 1., 1.],\n",
       "         [0., 0., 0., 1.],\n",
       "         [0., 0., 0., 0.]]]], dtype=float32)>"
      ]
     },
     "execution_count": 339,
     "metadata": {},
     "output_type": "execute_result"
    }
   ],
   "source": [
    "l2"
   ]
  },
  {
   "cell_type": "code",
   "execution_count": 289,
   "id": "3e246f59",
   "metadata": {},
   "outputs": [
    {
     "data": {
      "text/plain": [
       "TensorShape([3, 8, 4, 4])"
      ]
     },
     "execution_count": 289,
     "metadata": {},
     "output_type": "execute_result"
    }
   ],
   "source": [
    "(xy+l3).shape"
   ]
  },
  {
   "cell_type": "code",
   "execution_count": 332,
   "id": "84e3d5dc",
   "metadata": {},
   "outputs": [],
   "source": [
    "a=np.arange(12).reshape(3,1,1,4)"
   ]
  },
  {
   "cell_type": "code",
   "execution_count": 333,
   "id": "12ab2821",
   "metadata": {},
   "outputs": [],
   "source": [
    "b=np.arange(20,36).reshape(4,4)"
   ]
  },
  {
   "cell_type": "code",
   "execution_count": 335,
   "id": "84ddebb7",
   "metadata": {},
   "outputs": [],
   "source": [
    "c=np.maximum(a,b)"
   ]
  },
  {
   "cell_type": "code",
   "execution_count": 336,
   "id": "3517399f",
   "metadata": {},
   "outputs": [
    {
     "data": {
      "text/plain": [
       "(3, 1, 4, 4)"
      ]
     },
     "execution_count": 336,
     "metadata": {},
     "output_type": "execute_result"
    }
   ],
   "source": [
    "c.shape"
   ]
  },
  {
   "cell_type": "code",
   "execution_count": null,
   "id": "6756f922",
   "metadata": {},
   "outputs": [],
   "source": []
  }
 ],
 "metadata": {
  "kernelspec": {
   "display_name": "Python 3 (ipykernel)",
   "language": "python",
   "name": "python3"
  },
  "language_info": {
   "codemirror_mode": {
    "name": "ipython",
    "version": 3
   },
   "file_extension": ".py",
   "mimetype": "text/x-python",
   "name": "python",
   "nbconvert_exporter": "python",
   "pygments_lexer": "ipython3",
   "version": "3.10.2"
  }
 },
 "nbformat": 4,
 "nbformat_minor": 5
}
