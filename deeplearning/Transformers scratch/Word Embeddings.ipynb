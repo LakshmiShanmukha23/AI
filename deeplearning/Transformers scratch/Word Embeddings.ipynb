{
 "cells": [
  {
   "cell_type": "code",
   "execution_count": 77,
   "id": "ebaedb25",
   "metadata": {},
   "outputs": [],
   "source": [
    "import numpy as np"
   ]
  },
  {
   "cell_type": "code",
   "execution_count": 78,
   "id": "d0dc3c79",
   "metadata": {},
   "outputs": [],
   "source": [
    "import keras"
   ]
  },
  {
   "cell_type": "code",
   "execution_count": 79,
   "id": "8494bc97",
   "metadata": {},
   "outputs": [],
   "source": [
    "import tensorflow as tf"
   ]
  },
  {
   "cell_type": "code",
   "execution_count": 80,
   "id": "5a2ddd7d",
   "metadata": {},
   "outputs": [],
   "source": [
    "from tensorflow.keras.layers import Embedding"
   ]
  },
  {
   "cell_type": "code",
   "execution_count": 81,
   "id": "fb2ae721",
   "metadata": {},
   "outputs": [],
   "source": [
    "input_sentence=\"i am king of these kingdom like eating apples which are good\""
   ]
  },
  {
   "cell_type": "code",
   "execution_count": 82,
   "id": "e5355dfb",
   "metadata": {},
   "outputs": [],
   "source": [
    "ip_sentence=\"i am queen of these kingdom like eating bananas which are good,but some are bad\""
   ]
  },
  {
   "cell_type": "code",
   "execution_count": 83,
   "id": "fad37799",
   "metadata": {},
   "outputs": [],
   "source": [
    "d=3"
   ]
  },
  {
   "cell_type": "code",
   "execution_count": 84,
   "id": "63cb116f",
   "metadata": {},
   "outputs": [],
   "source": [
    "from tensorflow.keras.preprocessing.text import Tokenizer"
   ]
  },
  {
   "cell_type": "code",
   "execution_count": 85,
   "id": "eef52d4d",
   "metadata": {},
   "outputs": [],
   "source": [
    "from tensorflow.keras.preprocessing.sequence import pad_sequences"
   ]
  },
  {
   "cell_type": "code",
   "execution_count": 86,
   "id": "9c6e6c2a",
   "metadata": {},
   "outputs": [],
   "source": [
    "ip=Tokenizer()"
   ]
  },
  {
   "cell_type": "code",
   "execution_count": 87,
   "id": "6910a3b5",
   "metadata": {},
   "outputs": [],
   "source": [
    "ip.fit_on_texts([input_sentence])"
   ]
  },
  {
   "cell_type": "code",
   "execution_count": 88,
   "id": "3cb714b4",
   "metadata": {},
   "outputs": [],
   "source": [
    "x=ip.texts_to_sequences([input_sentence])"
   ]
  },
  {
   "cell_type": "code",
   "execution_count": 89,
   "id": "f9f27e15",
   "metadata": {},
   "outputs": [],
   "source": [
    "dict1=ip.word_index"
   ]
  },
  {
   "cell_type": "code",
   "execution_count": 90,
   "id": "8457aece",
   "metadata": {},
   "outputs": [
    {
     "data": {
      "text/plain": [
       "{'i': 1,\n",
       " 'am': 2,\n",
       " 'king': 3,\n",
       " 'of': 4,\n",
       " 'these': 5,\n",
       " 'kingdom': 6,\n",
       " 'like': 7,\n",
       " 'eating': 8,\n",
       " 'apples': 9,\n",
       " 'which': 10,\n",
       " 'are': 11,\n",
       " 'good': 12}"
      ]
     },
     "execution_count": 90,
     "metadata": {},
     "output_type": "execute_result"
    }
   ],
   "source": [
    "dict1"
   ]
  },
  {
   "cell_type": "code",
   "execution_count": 91,
   "id": "8b02e23c",
   "metadata": {},
   "outputs": [],
   "source": [
    "vocab=len(dict1)+1"
   ]
  },
  {
   "cell_type": "code",
   "execution_count": 92,
   "id": "c4ff7332",
   "metadata": {},
   "outputs": [],
   "source": [
    "dict4=ip.index_word"
   ]
  },
  {
   "cell_type": "code",
   "execution_count": 93,
   "id": "ce1cef49",
   "metadata": {},
   "outputs": [
    {
     "data": {
      "text/plain": [
       "{1: 'i',\n",
       " 2: 'am',\n",
       " 3: 'king',\n",
       " 4: 'of',\n",
       " 5: 'these',\n",
       " 6: 'kingdom',\n",
       " 7: 'like',\n",
       " 8: 'eating',\n",
       " 9: 'apples',\n",
       " 10: 'which',\n",
       " 11: 'are',\n",
       " 12: 'good'}"
      ]
     },
     "execution_count": 93,
     "metadata": {},
     "output_type": "execute_result"
    }
   ],
   "source": [
    "dict4"
   ]
  },
  {
   "cell_type": "code",
   "execution_count": 94,
   "id": "e51dc3a2",
   "metadata": {},
   "outputs": [
    {
     "data": {
      "text/plain": [
       "[1, 2, 3, 4, 5, 6, 7, 8, 9, 10, 11, 12]"
      ]
     },
     "execution_count": 94,
     "metadata": {},
     "output_type": "execute_result"
    }
   ],
   "source": [
    "ll1=x[0]\n",
    "ll1"
   ]
  },
  {
   "cell_type": "code",
   "execution_count": 95,
   "id": "7a4e1f25",
   "metadata": {},
   "outputs": [
    {
     "data": {
      "text/plain": [
       "['i',\n",
       " 'am',\n",
       " 'king',\n",
       " 'of',\n",
       " 'these',\n",
       " 'kingdom',\n",
       " 'like',\n",
       " 'eating',\n",
       " 'apples',\n",
       " 'which',\n",
       " 'are',\n",
       " 'good']"
      ]
     },
     "execution_count": 95,
     "metadata": {},
     "output_type": "execute_result"
    }
   ],
   "source": [
    "m=[]\n",
    "for i in ll1:\n",
    "    m.append(dict4[i])\n",
    "m"
   ]
  },
  {
   "cell_type": "code",
   "execution_count": 96,
   "id": "57b12380",
   "metadata": {},
   "outputs": [
    {
     "data": {
      "text/plain": [
       "[[1, 2, 3, 4, 5, 6, 7, 8, 9, 10, 11, 12]]"
      ]
     },
     "execution_count": 96,
     "metadata": {},
     "output_type": "execute_result"
    }
   ],
   "source": [
    "x"
   ]
  },
  {
   "cell_type": "code",
   "execution_count": 97,
   "id": "442a06f2",
   "metadata": {},
   "outputs": [],
   "source": [
    "x=np.array(x)"
   ]
  },
  {
   "cell_type": "code",
   "execution_count": 98,
   "id": "1fb6b5df",
   "metadata": {},
   "outputs": [
    {
     "data": {
      "text/plain": [
       "array([[ 1,  2,  3,  4,  5,  6,  7,  8,  9, 10, 11, 12]])"
      ]
     },
     "execution_count": 98,
     "metadata": {},
     "output_type": "execute_result"
    }
   ],
   "source": [
    "x"
   ]
  },
  {
   "cell_type": "code",
   "execution_count": 99,
   "id": "6f056120",
   "metadata": {},
   "outputs": [],
   "source": [
    "embed=Embedding(vocab,d,trainable=True,embeddings_initializer='glorot_uniform')"
   ]
  },
  {
   "cell_type": "code",
   "execution_count": 100,
   "id": "10b039cb",
   "metadata": {},
   "outputs": [],
   "source": [
    "out1=embed(x)"
   ]
  },
  {
   "cell_type": "code",
   "execution_count": 101,
   "id": "aa6d50e7",
   "metadata": {},
   "outputs": [
    {
     "data": {
      "text/plain": [
       "TensorShape([1, 12, 3])"
      ]
     },
     "execution_count": 101,
     "metadata": {},
     "output_type": "execute_result"
    }
   ],
   "source": [
    "out1.shape"
   ]
  },
  {
   "cell_type": "code",
   "execution_count": 102,
   "id": "5f63a73f",
   "metadata": {},
   "outputs": [
    {
     "data": {
      "text/plain": [
       "<tf.Tensor: shape=(1, 12, 3), dtype=float32, numpy=\n",
       "array([[[ 0.15723693, -0.22258419,  0.3126558 ],\n",
       "        [-0.2509266 ,  0.36634886,  0.1305722 ],\n",
       "        [ 0.42136294,  0.14215446, -0.52321523],\n",
       "        [ 0.329489  ,  0.31761897, -0.21592975],\n",
       "        [-0.38528007, -0.34014562,  0.30403578],\n",
       "        [-0.59109926,  0.01895559,  0.43040508],\n",
       "        [ 0.19164366, -0.09256011,  0.03041112],\n",
       "        [ 0.05967569, -0.01246291, -0.4871185 ],\n",
       "        [-0.41914296, -0.61029255,  0.08510178],\n",
       "        [ 0.47727007, -0.0630663 , -0.4990395 ],\n",
       "        [-0.3918882 , -0.45488983,  0.1191628 ],\n",
       "        [ 0.23008597, -0.4250227 , -0.01996636]]], dtype=float32)>"
      ]
     },
     "execution_count": 102,
     "metadata": {},
     "output_type": "execute_result"
    }
   ],
   "source": [
    "out1"
   ]
  },
  {
   "cell_type": "code",
   "execution_count": 103,
   "id": "cc57fdd7",
   "metadata": {},
   "outputs": [],
   "source": [
    "ip1=Tokenizer()"
   ]
  },
  {
   "cell_type": "code",
   "execution_count": 104,
   "id": "760ec445",
   "metadata": {},
   "outputs": [],
   "source": [
    "ip1.fit_on_texts([ip_sentence])"
   ]
  },
  {
   "cell_type": "code",
   "execution_count": 105,
   "id": "80471b33",
   "metadata": {},
   "outputs": [],
   "source": [
    "x1=ip1.texts_to_sequences([ip_sentence])"
   ]
  },
  {
   "cell_type": "code",
   "execution_count": 106,
   "id": "6b3c1046",
   "metadata": {},
   "outputs": [],
   "source": [
    "dict2=ip1.word_index"
   ]
  },
  {
   "cell_type": "code",
   "execution_count": 107,
   "id": "ae62d7bf",
   "metadata": {},
   "outputs": [
    {
     "data": {
      "text/plain": [
       "{'are': 1,\n",
       " 'i': 2,\n",
       " 'am': 3,\n",
       " 'queen': 4,\n",
       " 'of': 5,\n",
       " 'these': 6,\n",
       " 'kingdom': 7,\n",
       " 'like': 8,\n",
       " 'eating': 9,\n",
       " 'bananas': 10,\n",
       " 'which': 11,\n",
       " 'good': 12,\n",
       " 'but': 13,\n",
       " 'some': 14,\n",
       " 'bad': 15}"
      ]
     },
     "execution_count": 107,
     "metadata": {},
     "output_type": "execute_result"
    }
   ],
   "source": [
    "dict2"
   ]
  },
  {
   "cell_type": "code",
   "execution_count": 108,
   "id": "09c9616a",
   "metadata": {},
   "outputs": [],
   "source": [
    "vocab2=len(dict2)+1"
   ]
  },
  {
   "cell_type": "code",
   "execution_count": 109,
   "id": "bbf601c8",
   "metadata": {},
   "outputs": [],
   "source": [
    "dict3=ip1.index_word"
   ]
  },
  {
   "cell_type": "code",
   "execution_count": 110,
   "id": "d282b6be",
   "metadata": {},
   "outputs": [
    {
     "data": {
      "text/plain": [
       "[2, 3, 4, 5, 6, 7, 8, 9, 10, 11, 1, 12, 13, 14, 1, 15]"
      ]
     },
     "execution_count": 110,
     "metadata": {},
     "output_type": "execute_result"
    }
   ],
   "source": [
    "ll=x1[0]\n",
    "ll"
   ]
  },
  {
   "cell_type": "code",
   "execution_count": 111,
   "id": "f4b79d17",
   "metadata": {},
   "outputs": [
    {
     "data": {
      "text/plain": [
       "['i',\n",
       " 'am',\n",
       " 'queen',\n",
       " 'of',\n",
       " 'these',\n",
       " 'kingdom',\n",
       " 'like',\n",
       " 'eating',\n",
       " 'bananas',\n",
       " 'which',\n",
       " 'are',\n",
       " 'good',\n",
       " 'but',\n",
       " 'some',\n",
       " 'are',\n",
       " 'bad']"
      ]
     },
     "execution_count": 111,
     "metadata": {},
     "output_type": "execute_result"
    }
   ],
   "source": [
    "l=[]\n",
    "for i in ll:\n",
    "    l.append(dict3[i])\n",
    "l"
   ]
  },
  {
   "cell_type": "code",
   "execution_count": 112,
   "id": "3d64162b",
   "metadata": {},
   "outputs": [
    {
     "data": {
      "text/plain": [
       "(array([[ 2,  3,  4,  5,  6,  7,  8,  9, 10, 11,  1, 12, 13, 14,  1, 15]]),\n",
       " (1, 16))"
      ]
     },
     "execution_count": 112,
     "metadata": {},
     "output_type": "execute_result"
    }
   ],
   "source": [
    "x1=np.array(x1)\n",
    "x1,x1.shape"
   ]
  },
  {
   "cell_type": "code",
   "execution_count": 113,
   "id": "62258cb7",
   "metadata": {},
   "outputs": [],
   "source": [
    "embed1=Embedding(vocab2,d,trainable=True,embeddings_initializer='glorot_uniform')"
   ]
  },
  {
   "cell_type": "code",
   "execution_count": 114,
   "id": "3f6dda38",
   "metadata": {},
   "outputs": [],
   "source": [
    "out2=embed1(x1)"
   ]
  },
  {
   "cell_type": "code",
   "execution_count": 115,
   "id": "7fcd6885",
   "metadata": {},
   "outputs": [
    {
     "data": {
      "text/plain": [
       "TensorShape([1, 16, 3])"
      ]
     },
     "execution_count": 115,
     "metadata": {},
     "output_type": "execute_result"
    }
   ],
   "source": [
    "out2.shape"
   ]
  },
  {
   "cell_type": "code",
   "execution_count": 116,
   "id": "28849d99",
   "metadata": {},
   "outputs": [
    {
     "data": {
      "text/plain": [
       "TensorShape([1, 3])"
      ]
     },
     "execution_count": 116,
     "metadata": {},
     "output_type": "execute_result"
    }
   ],
   "source": [
    "out2[0,2:3].shape"
   ]
  },
  {
   "cell_type": "code",
   "execution_count": 117,
   "id": "d4201bd9",
   "metadata": {},
   "outputs": [],
   "source": [
    "king=out1[0,2:3]\n",
    "queen=out2[0,2:3]\n",
    "\n",
    "kingdom1=out1[0,5:6]\n",
    "kingdom2=out2[0,5:6]\n",
    "\n",
    "apple=out1[0,8:9]\n",
    "banana=out2[0,8:9]\n",
    "\n",
    "good=out1[0,11:12]\n",
    "bad=out2[0,15:16]"
   ]
  },
  {
   "cell_type": "code",
   "execution_count": 118,
   "id": "2e57243b",
   "metadata": {},
   "outputs": [
    {
     "data": {
      "text/plain": [
       "(TensorShape([1, 3]), TensorShape([1, 3]))"
      ]
     },
     "execution_count": 118,
     "metadata": {},
     "output_type": "execute_result"
    }
   ],
   "source": [
    "king.shape,queen.shape"
   ]
  },
  {
   "cell_type": "code",
   "execution_count": 119,
   "id": "e4763ea6",
   "metadata": {},
   "outputs": [],
   "source": [
    "from sklearn.metrics.pairwise import cosine_similarity"
   ]
  },
  {
   "cell_type": "code",
   "execution_count": 120,
   "id": "82e9231a",
   "metadata": {},
   "outputs": [],
   "source": [
    "similarity_matrix=cosine_similarity(king,queen)\n",
    "similarity_matrix1=cosine_similarity(kingdom1,kingdom2)\n",
    "similarity_matrix2=cosine_similarity(apple,banana)\n",
    "similarity_matrix3=cosine_similarity(good,bad)"
   ]
  },
  {
   "cell_type": "code",
   "execution_count": 121,
   "id": "4a2c6cab",
   "metadata": {},
   "outputs": [
    {
     "data": {
      "text/plain": [
       "(array([[-0.9501164]], dtype=float32),\n",
       " array([[-0.8181719]], dtype=float32),\n",
       " array([[0.18067066]], dtype=float32),\n",
       " array([[-0.41419426]], dtype=float32))"
      ]
     },
     "execution_count": 121,
     "metadata": {},
     "output_type": "execute_result"
    }
   ],
   "source": [
    "similarity_matrix,similarity_matrix1,similarity_matrix2,similarity_matrix3"
   ]
  },
  {
   "cell_type": "markdown",
   "id": "c758b7d6",
   "metadata": {},
   "source": [
    "## No uniform initialization"
   ]
  },
  {
   "cell_type": "code",
   "execution_count": 122,
   "id": "5966dc62",
   "metadata": {},
   "outputs": [],
   "source": [
    "embed11=Embedding(vocab,d,trainable=True)"
   ]
  },
  {
   "cell_type": "code",
   "execution_count": 123,
   "id": "23757885",
   "metadata": {},
   "outputs": [],
   "source": [
    "embed12=Embedding(vocab2,d,trainable=True)"
   ]
  },
  {
   "cell_type": "code",
   "execution_count": 124,
   "id": "fe7d7644",
   "metadata": {},
   "outputs": [],
   "source": [
    "out11=embed11(x)\n",
    "out12=embed12(x1)"
   ]
  },
  {
   "cell_type": "code",
   "execution_count": 125,
   "id": "313c2d4c",
   "metadata": {},
   "outputs": [
    {
     "data": {
      "text/plain": [
       "(TensorShape([1, 12, 3]), TensorShape([1, 16, 3]))"
      ]
     },
     "execution_count": 125,
     "metadata": {},
     "output_type": "execute_result"
    }
   ],
   "source": [
    "out11.shape,out12.shape"
   ]
  },
  {
   "cell_type": "code",
   "execution_count": 126,
   "id": "8887f29e",
   "metadata": {},
   "outputs": [],
   "source": [
    "king=out11[0,2:3]\n",
    "queen=out12[0,2:3]\n",
    "\n",
    "kingdom1=out11[0,5:6]\n",
    "kingdom2=out12[0,5:6]\n",
    "\n",
    "apple=out11[0,8:9]\n",
    "banana=out12[0,8:9]\n",
    "\n",
    "good=out11[0,11:12]\n",
    "bad=out12[0,15:16]"
   ]
  },
  {
   "cell_type": "code",
   "execution_count": 127,
   "id": "c0f55037",
   "metadata": {},
   "outputs": [],
   "source": [
    "similarity_matrix=cosine_similarity(king,queen)\n",
    "similarity_matrix1=cosine_similarity(kingdom1,kingdom2)\n",
    "similarity_matrix2=cosine_similarity(apple,banana)\n",
    "similarity_matrix3=cosine_similarity(good,bad)"
   ]
  },
  {
   "cell_type": "code",
   "execution_count": 128,
   "id": "b01cc678",
   "metadata": {},
   "outputs": [
    {
     "data": {
      "text/plain": [
       "(array([[-0.04743976]], dtype=float32),\n",
       " array([[-0.09823968]], dtype=float32),\n",
       " array([[0.8616321]], dtype=float32),\n",
       " array([[-0.39850342]], dtype=float32))"
      ]
     },
     "execution_count": 128,
     "metadata": {},
     "output_type": "execute_result"
    }
   ],
   "source": [
    "similarity_matrix,similarity_matrix1,similarity_matrix2,similarity_matrix3"
   ]
  },
  {
   "cell_type": "markdown",
   "id": "244ac926",
   "metadata": {},
   "source": [
    "# No training"
   ]
  },
  {
   "cell_type": "code",
   "execution_count": 129,
   "id": "efb10532",
   "metadata": {},
   "outputs": [],
   "source": [
    "embed21=Embedding(vocab,d)\n",
    "embed22=Embedding(vocab2,d)\n",
    "out21=embed21(x)\n",
    "out22=embed22(x1)\n",
    "\n",
    "king=out21[0,2:3]\n",
    "queen=out22[0,2:3]\n",
    "\n",
    "kingdom1=out21[0,5:6]\n",
    "kingdom2=out22[0,5:6]\n",
    "\n",
    "apple=out21[0,8:9]\n",
    "banana=out22[0,8:9]\n",
    "\n",
    "good=out21[0,11:12]\n",
    "bad=out22[0,15:16]"
   ]
  },
  {
   "cell_type": "code",
   "execution_count": 130,
   "id": "6e6bef35",
   "metadata": {},
   "outputs": [],
   "source": [
    "similarity_matrix=cosine_similarity(king,queen)\n",
    "similarity_matrix1=cosine_similarity(kingdom1,kingdom2)\n",
    "similarity_matrix2=cosine_similarity(apple,banana)\n",
    "similarity_matrix3=cosine_similarity(good,bad)"
   ]
  },
  {
   "cell_type": "code",
   "execution_count": 131,
   "id": "558d77e5",
   "metadata": {},
   "outputs": [
    {
     "data": {
      "text/plain": [
       "(array([[-0.64786416]], dtype=float32),\n",
       " array([[0.5084768]], dtype=float32),\n",
       " array([[0.51049656]], dtype=float32),\n",
       " array([[0.8298749]], dtype=float32))"
      ]
     },
     "execution_count": 131,
     "metadata": {},
     "output_type": "execute_result"
    }
   ],
   "source": [
    "similarity_matrix,similarity_matrix1,similarity_matrix2,similarity_matrix3"
   ]
  },
  {
   "cell_type": "code",
   "execution_count": null,
   "id": "4294d308",
   "metadata": {},
   "outputs": [],
   "source": []
  },
  {
   "cell_type": "code",
   "execution_count": 132,
   "id": "53754a6c",
   "metadata": {},
   "outputs": [],
   "source": [
    "from sklearn.decomposition import PCA\n",
    "import matplotlib.pyplot as plt"
   ]
  },
  {
   "cell_type": "code",
   "execution_count": 133,
   "id": "2ff11b19",
   "metadata": {},
   "outputs": [],
   "source": [
    "pca = PCA(n_components=2)\n",
    "embedded_vectors = pca.fit_transform(out1[0])\n",
    "embedded_vectors1 = pca.fit_transform(out2[0])"
   ]
  },
  {
   "cell_type": "code",
   "execution_count": 134,
   "id": "2b734f22",
   "metadata": {},
   "outputs": [],
   "source": [
    "embedded_vectors11 = pca.fit_transform(out11[0])\n",
    "embedded_vectors12 = pca.fit_transform(out12[0])"
   ]
  },
  {
   "cell_type": "code",
   "execution_count": 135,
   "id": "fea3df20",
   "metadata": {},
   "outputs": [
    {
     "data": {
      "image/png": "[encoded data removed]",
      "text/plain": [
       "<Figure size 720x720 with 1 Axes>"
      ]
     },
     "metadata": {
      "needs_background": "light"
     },
     "output_type": "display_data"
    }
   ],
   "source": [
    "plt.figure(figsize=(10, 10))\n",
    "plt.scatter(embedded_vectors11[:, 0], embedded_vectors11[:, 1])\n",
    "plt.scatter(embedded_vectors12[:, 0], embedded_vectors12[:, 1])\n",
    "for i, (x, y) in enumerate(embedded_vectors11):\n",
    "    plt.annotate(m[i], (x, y))\n",
    "    \n",
    "for i, (x, y) in enumerate(embedded_vectors21):\n",
    "    plt.annotate(l[i], (x, y))\n",
    "\n",
    "\n",
    "plt.show()"
   ]
  },
  {
   "cell_type": "code",
   "execution_count": 136,
   "id": "5d38d474",
   "metadata": {},
   "outputs": [
    {
     "data": {
      "image/png": "[encoded data removed]",
      "text/plain": [
       "<Figure size 720x720 with 1 Axes>"
      ]
     },
     "metadata": {
      "needs_background": "light"
     },
     "output_type": "display_data"
    }
   ],
   "source": [
    "plt.figure(figsize=(10, 10))\n",
    "plt.scatter(embedded_vectors[:, 0], embedded_vectors[:, 1])\n",
    "plt.scatter(embedded_vectors1[:, 0], embedded_vectors1[:, 1])\n",
    "for i, (x, y) in enumerate(embedded_vectors):\n",
    "    plt.annotate(m[i], (x, y))\n",
    "    \n",
    "for i, (x, y) in enumerate(embedded_vectors1):\n",
    "    plt.annotate(l[i], (x, y))\n",
    "\n",
    "\n",
    "plt.show()"
   ]
  },
  {
   "cell_type": "code",
   "execution_count": 137,
   "id": "c34cae74",
   "metadata": {},
   "outputs": [],
   "source": [
    "embedded_vectors21 = pca.fit_transform(out21[0])\n",
    "embedded_vectors22 = pca.fit_transform(out22[0])"
   ]
  },
  {
   "cell_type": "code",
   "execution_count": 138,
   "id": "dfbe6154",
   "metadata": {},
   "outputs": [
    {
     "data": {
      "image/png": "[encoded data removed]",
      "text/plain": [
       "<Figure size 720x720 with 1 Axes>"
      ]
     },
     "metadata": {
      "needs_background": "light"
     },
     "output_type": "display_data"
    }
   ],
   "source": [
    "plt.figure(figsize=(10, 10))\n",
    "plt.scatter(embedded_vectors21[:, 0], embedded_vectors21[:, 1])\n",
    "plt.scatter(embedded_vectors22[:, 0], embedded_vectors22[:, 1])\n",
    "for i, (x, y) in enumerate(embedded_vectors21):\n",
    "    plt.annotate(m[i], (x, y))\n",
    "    \n",
    "for i, (x, y) in enumerate(embedded_vectors22):\n",
    "    plt.annotate(l[i], (x, y))\n",
    "\n",
    "\n",
    "plt.show()"
   ]
  },
  {
   "cell_type": "code",
   "execution_count": null,
   "id": "22317467",
   "metadata": {},
   "outputs": [],
   "source": [
    "#input_sentence=\"i am king of these kingdom like eating apples which are good\"\n",
    "#ip_sentence=\"i am queen of these kingdom like eating bananas which are good,but some are bad\""
   ]
  },
  {
   "cell_type": "code",
   "execution_count": null,
   "id": "0a7ed585",
   "metadata": {},
   "outputs": [],
   "source": []
  },
  {
   "cell_type": "code",
   "execution_count": 139,
   "id": "c929b8fb",
   "metadata": {},
   "outputs": [],
   "source": [
    "from sklearn.manifold import TSNE"
   ]
  },
  {
   "cell_type": "code",
   "execution_count": 69,
   "id": "bd61b937",
   "metadata": {},
   "outputs": [
    {
     "name": "stderr",
     "output_type": "stream",
     "text": [
      "C:\\Users\\Rambabu\\AppData\\Roaming\\Python\\Python310\\site-packages\\sklearn\\manifold\\_t_sne.py:780: FutureWarning: The default initialization in TSNE will change from 'random' to 'pca' in 1.2.\n",
      "  warnings.warn(\n",
      "C:\\Users\\Rambabu\\AppData\\Roaming\\Python\\Python310\\site-packages\\sklearn\\manifold\\_t_sne.py:790: FutureWarning: The default learning rate in TSNE will change from 200.0 to 'auto' in 1.2.\n",
      "  warnings.warn(\n",
      "C:\\Users\\Rambabu\\AppData\\Roaming\\Python\\Python310\\site-packages\\sklearn\\manifold\\_t_sne.py:780: FutureWarning: The default initialization in TSNE will change from 'random' to 'pca' in 1.2.\n",
      "  warnings.warn(\n",
      "C:\\Users\\Rambabu\\AppData\\Roaming\\Python\\Python310\\site-packages\\sklearn\\manifold\\_t_sne.py:790: FutureWarning: The default learning rate in TSNE will change from 200.0 to 'auto' in 1.2.\n",
      "  warnings.warn(\n"
     ]
    }
   ],
   "source": [
    "tsne = TSNE(n_components=2, random_state=42)\n",
    "embedded_vectors2 = tsne.fit_transform(out1[0])\n",
    "embedded_vectors3 = tsne.fit_transform(out2[0])"
   ]
  },
  {
   "cell_type": "code",
   "execution_count": 70,
   "id": "dcb6ed9b",
   "metadata": {},
   "outputs": [
    {
     "data": {
      "image/png": "[encoded data removed]",
      "text/plain": [
       "<Figure size 720x720 with 1 Axes>"
      ]
     },
     "metadata": {
      "needs_background": "light"
     },
     "output_type": "display_data"
    }
   ],
   "source": [
    "plt.figure(figsize=(10, 10))\n",
    "plt.scatter(embedded_vectors2[:, 0], embedded_vectors2[:, 1])\n",
    "plt.scatter(embedded_vectors3[:, 0], embedded_vectors3[:, 1])\n",
    "for i, (x, y) in enumerate(embedded_vectors2):\n",
    "    plt.annotate(m[i], (x, y))\n",
    "    \n",
    "for i, (x, y) in enumerate(embedded_vectors3):\n",
    "    plt.annotate(l[i], (x, y))\n",
    "\n",
    "\n",
    "plt.show()"
   ]
  },
  {
   "cell_type": "code",
   "execution_count": 140,
   "id": "cdd68e6b",
   "metadata": {},
   "outputs": [
    {
     "name": "stderr",
     "output_type": "stream",
     "text": [
      "C:\\Users\\Rambabu\\AppData\\Roaming\\Python\\Python310\\site-packages\\sklearn\\manifold\\_t_sne.py:780: FutureWarning: The default initialization in TSNE will change from 'random' to 'pca' in 1.2.\n",
      "  warnings.warn(\n",
      "C:\\Users\\Rambabu\\AppData\\Roaming\\Python\\Python310\\site-packages\\sklearn\\manifold\\_t_sne.py:790: FutureWarning: The default learning rate in TSNE will change from 200.0 to 'auto' in 1.2.\n",
      "  warnings.warn(\n",
      "C:\\Users\\Rambabu\\AppData\\Roaming\\Python\\Python310\\site-packages\\sklearn\\manifold\\_t_sne.py:780: FutureWarning: The default initialization in TSNE will change from 'random' to 'pca' in 1.2.\n",
      "  warnings.warn(\n",
      "C:\\Users\\Rambabu\\AppData\\Roaming\\Python\\Python310\\site-packages\\sklearn\\manifold\\_t_sne.py:790: FutureWarning: The default learning rate in TSNE will change from 200.0 to 'auto' in 1.2.\n",
      "  warnings.warn(\n"
     ]
    },
    {
     "data": {
      "image/png": "[encoded data removed]",
      "text/plain": [
       "<Figure size 720x720 with 1 Axes>"
      ]
     },
     "metadata": {
      "needs_background": "light"
     },
     "output_type": "display_data"
    }
   ],
   "source": [
    "embedded_vectors11 = tsne.fit_transform(out11[0])\n",
    "embedded_vectors12 = tsne.fit_transform(out12[0])\n",
    "\n",
    "plt.figure(figsize=(10, 10))\n",
    "plt.scatter(embedded_vectors11[:, 0], embedded_vectors11[:, 1])\n",
    "plt.scatter(embedded_vectors12[:, 0], embedded_vectors12[:, 1])\n",
    "for i, (x, y) in enumerate(embedded_vectors11):\n",
    "    plt.annotate(m[i], (x, y))\n",
    "    \n",
    "for i, (x, y) in enumerate(embedded_vectors12):\n",
    "    plt.annotate(l[i], (x, y))\n",
    "\n",
    "\n",
    "plt.show()"
   ]
  },
  {
   "cell_type": "code",
   "execution_count": 141,
   "id": "16aef2db",
   "metadata": {},
   "outputs": [
    {
     "name": "stderr",
     "output_type": "stream",
     "text": [
      "C:\\Users\\Rambabu\\AppData\\Roaming\\Python\\Python310\\site-packages\\sklearn\\manifold\\_t_sne.py:780: FutureWarning: The default initialization in TSNE will change from 'random' to 'pca' in 1.2.\n",
      "  warnings.warn(\n",
      "C:\\Users\\Rambabu\\AppData\\Roaming\\Python\\Python310\\site-packages\\sklearn\\manifold\\_t_sne.py:790: FutureWarning: The default learning rate in TSNE will change from 200.0 to 'auto' in 1.2.\n",
      "  warnings.warn(\n",
      "C:\\Users\\Rambabu\\AppData\\Roaming\\Python\\Python310\\site-packages\\sklearn\\manifold\\_t_sne.py:780: FutureWarning: The default initialization in TSNE will change from 'random' to 'pca' in 1.2.\n",
      "  warnings.warn(\n",
      "C:\\Users\\Rambabu\\AppData\\Roaming\\Python\\Python310\\site-packages\\sklearn\\manifold\\_t_sne.py:790: FutureWarning: The default learning rate in TSNE will change from 200.0 to 'auto' in 1.2.\n",
      "  warnings.warn(\n"
     ]
    },
    {
     "data": {
      "image/png": "[encoded data removed]",
      "text/plain": [
       "<Figure size 720x720 with 1 Axes>"
      ]
     },
     "metadata": {
      "needs_background": "light"
     },
     "output_type": "display_data"
    }
   ],
   "source": [
    "embedded_vectors11 = tsne.fit_transform(out21[0])\n",
    "embedded_vectors12 = tsne.fit_transform(out22[0])\n",
    "\n",
    "plt.figure(figsize=(10, 10))\n",
    "plt.scatter(embedded_vectors11[:, 0], embedded_vectors11[:, 1])\n",
    "plt.scatter(embedded_vectors12[:, 0], embedded_vectors12[:, 1])\n",
    "for i, (x, y) in enumerate(embedded_vectors11):\n",
    "    plt.annotate(m[i], (x, y))\n",
    "    \n",
    "for i, (x, y) in enumerate(embedded_vectors12):\n",
    "    plt.annotate(l[i], (x, y))\n",
    "\n",
    "\n",
    "plt.show()"
   ]
  },
  {
   "cell_type": "code",
   "execution_count": null,
   "id": "653992e7",
   "metadata": {},
   "outputs": [],
   "source": []
  }
 ],
 "metadata": {
  "kernelspec": {
   "display_name": "Python 3 (ipykernel)",
   "language": "python",
   "name": "python3"
  },
  "language_info": {
   "codemirror_mode": {
    "name": "ipython",
    "version": 3
   },
   "file_extension": ".py",
   "mimetype": "text/x-python",
   "name": "python",
   "nbconvert_exporter": "python",
   "pygments_lexer": "ipython3",
   "version": "3.10.2"
  }
 },
 "nbformat": 4,
 "nbformat_minor": 5
}
