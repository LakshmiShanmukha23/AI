{
 "cells": [
  {
   "cell_type": "code",
   "execution_count": 1,
   "id": "dd6ca61b",
   "metadata": {},
   "outputs": [],
   "source": [
    "import tensorflow as tf"
   ]
  },
  {
   "cell_type": "code",
   "execution_count": 2,
   "id": "59143064",
   "metadata": {},
   "outputs": [],
   "source": [
    "from tensorflow.keras.preprocessing.text import Tokenizer\n",
    "from tensorflow.keras.preprocessing.sequence import pad_sequences"
   ]
  },
  {
   "cell_type": "code",
   "execution_count": 3,
   "id": "15c47fd2",
   "metadata": {},
   "outputs": [],
   "source": [
    "import numpy\n",
    "import  numpy as np"
   ]
  },
  {
   "cell_type": "code",
   "execution_count": 32,
   "id": "43a5eeca",
   "metadata": {},
   "outputs": [],
   "source": [
    "english_texts = [\n",
    "    \"I love natural language processing.\",\n",
    "    \"TensorFlow is a powerful framework.\",\n",
    "    \"Machine learning is fascinating.\",\n",
    "    \"This is an example text.\",\n",
    "    \"Neural networks are amazing.\",\n",
    "    \"AI is the future of technology.\"\n",
    "]\n",
    "\n",
    "# French example sentences (translations of English sentences)\n",
    "french_texts = [\n",
    "    \"J'adore le traitement du langage naturel.\",\n",
    "    \"TensorFlow est un cadre puissant.\",\n",
    "    \"L'apprentissage automatique est fascinant.\",\n",
    "    \"Ceci est un exemple de texte.\",\n",
    "    \"Les réseaux neuronaux sont incroyables.\",\n",
    "    \"L'IA est l'avenir de la technologie.\"\n",
    "]"
   ]
  },
  {
   "cell_type": "code",
   "execution_count": 33,
   "id": "c7051474",
   "metadata": {},
   "outputs": [],
   "source": [
    "french_texts=[\"start\"+\" \"+sentence+\" \"+\"end\" for sentence in french_texts]"
   ]
  },
  {
   "cell_type": "code",
   "execution_count": 34,
   "id": "c95fed51",
   "metadata": {},
   "outputs": [
    {
     "data": {
      "text/plain": [
       "\"start J'adore le traitement du langage naturel. end\""
      ]
     },
     "execution_count": 34,
     "metadata": {},
     "output_type": "execute_result"
    }
   ],
   "source": [
    "french_texts[0]"
   ]
  },
  {
   "cell_type": "code",
   "execution_count": 42,
   "id": "55e07ed0",
   "metadata": {},
   "outputs": [],
   "source": [
    "# Tokenize the English and French sentences separately with OOV token\n",
    "english_tokenizer = Tokenizer(oov_token=\"UNK\")\n",
    "english_tokenizer.fit_on_texts(english_texts)\n",
    "english_word_index = english_tokenizer.word_index\n",
    "\n",
    "french_tokenizer = Tokenizer(oov_token=\"UNK\")\n",
    "french_tokenizer.fit_on_texts(french_texts)\n",
    "french_word_index = french_tokenizer.word_index\n",
    "\n",
    "# Convert text data to sequences of integers\n",
    "english_sequences = english_tokenizer.texts_to_sequences(english_texts)\n",
    "french_sequences = french_tokenizer.texts_to_sequences(french_texts)"
   ]
  },
  {
   "cell_type": "code",
   "execution_count": 43,
   "id": "54d483f8",
   "metadata": {},
   "outputs": [],
   "source": [
    "english_sequences=[sequence[::-1] for sequence in english_sequences]"
   ]
  },
  {
   "cell_type": "code",
   "execution_count": 48,
   "id": "a07d51eb",
   "metadata": {},
   "outputs": [],
   "source": [
    "eng_max_len=max(len(i) for i in english_sequences)"
   ]
  },
  {
   "cell_type": "code",
   "execution_count": 49,
   "id": "f4cc6d56",
   "metadata": {},
   "outputs": [],
   "source": [
    "fre_max_len=max(len(i) for i in french_sequences)"
   ]
  },
  {
   "cell_type": "code",
   "execution_count": 46,
   "id": "6505d353",
   "metadata": {},
   "outputs": [
    {
     "data": {
      "text/plain": [
       "(6, 8)"
      ]
     },
     "execution_count": 46,
     "metadata": {},
     "output_type": "execute_result"
    }
   ],
   "source": [
    "eng_max_len,fre_max_len"
   ]
  },
  {
   "cell_type": "code",
   "execution_count": 50,
   "id": "01673cc6",
   "metadata": {},
   "outputs": [],
   "source": [
    "english_padded_sequences = pad_sequences(english_sequences, maxlen=eng_max_len)\n",
    "french_padded_sequences = pad_sequences(french_sequences, maxlen=fre_max_len)"
   ]
  },
  {
   "cell_type": "code",
   "execution_count": 51,
   "id": "cdf99a55",
   "metadata": {},
   "outputs": [],
   "source": [
    "from keras.layers import LSTM,Input"
   ]
  },
  {
   "cell_type": "code",
   "execution_count": 140,
   "id": "eb156f18",
   "metadata": {},
   "outputs": [],
   "source": [
    "class TextClassificationModel(tf.keras.Model):\n",
    "    def __init__(self,i_vocab_size,t_vocab_size,embedding_dim,eng_max_len,fre_max_len):\n",
    "        super(TextClassificationModel, self).__init__()\n",
    "        self.embedding_layer1 = tf.keras.layers.Embedding(i_vocab_size, embedding_dim, input_length=eng_max_len,trainable=True)\n",
    "        self.lstm1 = LSTM(10,kernel_initializer=tf.keras.initializers.RandomUniform(minval=-0.08, maxval=0.08),\n",
    "                          return_sequences=True,return_state=True)\n",
    "        self.embedding_layer2 = tf.keras.layers.Embedding(t_vocab_size, embedding_dim, input_length=fre_max_len,trainable=True)\n",
    "        self.lstm2 = LSTM(10,kernel_initializer=tf.keras.initializers.RandomUniform(minval=-0.08, maxval=0.08)\n",
    "                          ,return_sequences=True,return_state=True)\n",
    "        self.dense_layer = tf.keras.layers.Dense(t_vocab_size, activation='softmax')\n",
    "\n",
    "    def call(self, inputs):\n",
    "        e_inp,d_inp=inputs\n",
    "        x = self.embedding_layer1(e_inp)\n",
    "        e_op,h,c= self.lstm1(x)\n",
    "        y = self.embedding_layer2(d_inp)\n",
    "        d_op,h1,c1= self.lstm2(y,initial_state=[h,c])\n",
    "        output = self.dense_layer(d_op)\n",
    "        return output\n",
    "\n",
    "\n",
    "embedding_dim = 8\n",
    "t_vocab_size = len(french_word_index) + 1\n",
    "i_vocab_size=len(english_word_index)+1\n",
    "\n",
    "model = TextClassificationModel(i_vocab_size,t_vocab_size,embedding_dim,eng_max_len,fre_max_len)"
   ]
  },
  {
   "cell_type": "code",
   "execution_count": 141,
   "id": "56648c34",
   "metadata": {},
   "outputs": [],
   "source": [
    "optimizer = tf.keras.optimizers.Adam(learning_rate=0.7,clipnorm=0.1)"
   ]
  },
  {
   "cell_type": "code",
   "execution_count": 142,
   "id": "1d026c23",
   "metadata": {},
   "outputs": [],
   "source": [
    "model.compile(optimizer=optimizer, loss='categorical_crossentropy', metrics=['accuracy'])"
   ]
  },
  {
   "cell_type": "code",
   "execution_count": 190,
   "id": "579f4e1f",
   "metadata": {},
   "outputs": [],
   "source": [
    "french_one_hot=tf.one_hot(french_padded_sequences,depth=t_vocab_size)"
   ]
  },
  {
   "cell_type": "code",
   "execution_count": 191,
   "id": "f63661c1",
   "metadata": {},
   "outputs": [
    {
     "name": "stdout",
     "output_type": "stream",
     "text": [
      "Epoch 1/10\n",
      "1/1 [==============================] - 0s 40ms/step - loss: 0.0351 - accuracy: 0.9792\n",
      "Epoch 2/10\n",
      "1/1 [==============================] - 0s 27ms/step - loss: 0.0352 - accuracy: 0.9792\n",
      "Epoch 3/10\n",
      "1/1 [==============================] - 0s 28ms/step - loss: 0.0342 - accuracy: 0.9792\n",
      "Epoch 4/10\n",
      "1/1 [==============================] - 0s 26ms/step - loss: 0.0315 - accuracy: 0.9792\n",
      "Epoch 5/10\n",
      "1/1 [==============================] - 0s 31ms/step - loss: 0.0313 - accuracy: 0.9792\n",
      "Epoch 6/10\n",
      "1/1 [==============================] - 0s 25ms/step - loss: 0.0311 - accuracy: 0.9792\n",
      "Epoch 7/10\n",
      "1/1 [==============================] - 0s 28ms/step - loss: 0.0482 - accuracy: 0.9583\n",
      "Epoch 8/10\n",
      "1/1 [==============================] - 0s 28ms/step - loss: 0.0410 - accuracy: 0.9792\n",
      "Epoch 9/10\n",
      "1/1 [==============================] - 0s 30ms/step - loss: 0.0384 - accuracy: 0.9792\n",
      "Epoch 10/10\n",
      "1/1 [==============================] - 0s 26ms/step - loss: 0.0356 - accuracy: 0.9792\n"
     ]
    },
    {
     "data": {
      "text/plain": [
       "<keras.src.callbacks.History at 0x22c7b4fb460>"
      ]
     },
     "execution_count": 191,
     "metadata": {},
     "output_type": "execute_result"
    }
   ],
   "source": [
    "model.fit([english_padded_sequences, french_padded_sequences],french_one_hot,epochs=10)"
   ]
  },
  {
   "cell_type": "code",
   "execution_count": 192,
   "id": "aaae36e0",
   "metadata": {},
   "outputs": [
    {
     "name": "stdout",
     "output_type": "stream",
     "text": [
      "Model: \"text_classification_model_2\"\n",
      "_________________________________________________________________\n",
      " Layer (type)                Output Shape              Param #   \n",
      "=================================================================\n",
      " embedding_4 (Embedding)     multiple                  224       \n",
      "                                                                 \n",
      " lstm_4 (LSTM)               multiple                  760       \n",
      "                                                                 \n",
      " embedding_5 (Embedding)     multiple                  248       \n",
      "                                                                 \n",
      " lstm_5 (LSTM)               multiple                  760       \n",
      "                                                                 \n",
      " dense_2 (Dense)             multiple                  341       \n",
      "                                                                 \n",
      "=================================================================\n",
      "Total params: 2333 (9.11 KB)\n",
      "Trainable params: 2333 (9.11 KB)\n",
      "Non-trainable params: 0 (0.00 Byte)\n",
      "_________________________________________________________________\n"
     ]
    }
   ],
   "source": [
    "model.summary()"
   ]
  },
  {
   "cell_type": "code",
   "execution_count": 175,
   "id": "c08b5d5d",
   "metadata": {},
   "outputs": [],
   "source": [
    "test_english_texts = [\n",
    "    \"I like deep learning.\",\n",
    "    \"AI is changing the world.\",\n",
    "    \"Natural language processing is exciting.\"\n",
    "]\n",
    "\n",
    "test_french_texts = [\n",
    "    \"J'aime l'apprentissage profond.\",\n",
    "    \"L'IA change le monde.\",\n",
    "    \"Le traitement du langage naturel est passionnant.\"\n",
    "]\n",
    "\n",
    "test_english_sequences = english_tokenizer.texts_to_sequences(test_english_texts)\n",
    "test_french_sequences = french_tokenizer.texts_to_sequences(test_french_texts)\n",
    "\n",
    "test_english_sequences=[sequence[::-1] for sequence in test_english_sequences]\n",
    "\n",
    "test_english_padded_sequences = pad_sequences(test_english_sequences, maxlen=eng_max_len)\n",
    "test_french_padded_sequences = pad_sequences(test_french_sequences, maxlen=fre_max_len)\n"
   ]
  },
  {
   "cell_type": "code",
   "execution_count": 178,
   "id": "e0452afe",
   "metadata": {},
   "outputs": [],
   "source": [
    "tets_french_one_hot=tf.one_hot(test_french_padded_sequences,depth=t_vocab_size)"
   ]
  },
  {
   "cell_type": "code",
   "execution_count": 180,
   "id": "5af941a0",
   "metadata": {},
   "outputs": [
    {
     "name": "stdout",
     "output_type": "stream",
     "text": [
      "1/1 [==============================] - 2s 2s/step - loss: 6.4653 - accuracy: 0.5833\n"
     ]
    }
   ],
   "source": [
    "test_loss, test_accuracy = model.evaluate([test_english_padded_sequences,\n",
    "                                           test_french_padded_sequences], tets_french_one_hot)\n"
   ]
  },
  {
   "cell_type": "code",
   "execution_count": 146,
   "id": "05f17c14",
   "metadata": {},
   "outputs": [],
   "source": [
    "index_french_word = french_tokenizer.index_word"
   ]
  },
  {
   "cell_type": "code",
   "execution_count": 147,
   "id": "22ae2228",
   "metadata": {},
   "outputs": [],
   "source": [
    "index_english_word = english_tokenizer.index_word"
   ]
  },
  {
   "cell_type": "code",
   "execution_count": 148,
   "id": "f8d7b28e",
   "metadata": {},
   "outputs": [],
   "source": [
    "new_english_text = \"I love natural language processing.\""
   ]
  },
  {
   "cell_type": "code",
   "execution_count": 149,
   "id": "7329ebb8",
   "metadata": {},
   "outputs": [],
   "source": [
    "new_english_text=new_english_text+\" \"+\"end\""
   ]
  },
  {
   "cell_type": "code",
   "execution_count": 150,
   "id": "d7ca1994",
   "metadata": {},
   "outputs": [
    {
     "data": {
      "text/plain": [
       "'I love natural language processing. end'"
      ]
     },
     "execution_count": 150,
     "metadata": {},
     "output_type": "execute_result"
    }
   ],
   "source": [
    "new_english_text"
   ]
  },
  {
   "cell_type": "code",
   "execution_count": 151,
   "id": "caf7a8bb",
   "metadata": {},
   "outputs": [],
   "source": [
    "new_english_sequence = english_tokenizer.texts_to_sequences([new_english_text])"
   ]
  },
  {
   "cell_type": "code",
   "execution_count": 152,
   "id": "2f3b3f31",
   "metadata": {},
   "outputs": [],
   "source": [
    "new_reversed_sequence = new_english_sequence[0][::-1]"
   ]
  },
  {
   "cell_type": "code",
   "execution_count": 153,
   "id": "278cdd94",
   "metadata": {},
   "outputs": [
    {
     "data": {
      "text/plain": [
       "[1, 7, 6, 5, 4, 3]"
      ]
     },
     "execution_count": 153,
     "metadata": {},
     "output_type": "execute_result"
    }
   ],
   "source": [
    "new_reversed_sequence"
   ]
  },
  {
   "cell_type": "code",
   "execution_count": 154,
   "id": "6a68cfe8",
   "metadata": {},
   "outputs": [
    {
     "data": {
      "text/plain": [
       "6"
      ]
     },
     "execution_count": 154,
     "metadata": {},
     "output_type": "execute_result"
    }
   ],
   "source": [
    "eng_max_len"
   ]
  },
  {
   "cell_type": "code",
   "execution_count": 155,
   "id": "578b347b",
   "metadata": {},
   "outputs": [],
   "source": [
    "new_padded_sequence = pad_sequences([new_reversed_sequence], maxlen=eng_max_len)"
   ]
  },
  {
   "cell_type": "code",
   "execution_count": 156,
   "id": "e53a8b58",
   "metadata": {},
   "outputs": [
    {
     "data": {
      "text/plain": [
       "array([[1, 7, 6, 5, 4, 3]])"
      ]
     },
     "execution_count": 156,
     "metadata": {},
     "output_type": "execute_result"
    }
   ],
   "source": [
    "new_padded_sequence "
   ]
  },
  {
   "cell_type": "code",
   "execution_count": 157,
   "id": "c42f0b20",
   "metadata": {},
   "outputs": [],
   "source": [
    "tar_seq=np.zeros((1,1))"
   ]
  },
  {
   "cell_type": "code",
   "execution_count": 158,
   "id": "1db1cae3",
   "metadata": {},
   "outputs": [],
   "source": [
    "tar_seq[0,0]=french_word_index[\"start\"]"
   ]
  },
  {
   "cell_type": "code",
   "execution_count": 159,
   "id": "e0d071e9",
   "metadata": {},
   "outputs": [
    {
     "name": "stdout",
     "output_type": "stream",
     "text": [
      "1/1 [==============================] - 1s 1s/step\n"
     ]
    }
   ],
   "source": [
    "translated_french_sequences = model.predict([new_padded_sequence ,tar_seq])"
   ]
  },
  {
   "cell_type": "code",
   "execution_count": 160,
   "id": "45a35ed7",
   "metadata": {},
   "outputs": [
    {
     "data": {
      "text/plain": [
       "array([[[2.6552029e-06, 2.6170757e-10, 9.9983954e-01, 2.5502958e-17,\n",
       "         5.3306226e-10, 3.6464646e-15, 5.4196370e-15, 6.2110836e-08,\n",
       "         8.6082549e-14, 4.7857489e-16, 4.4316062e-14, 3.4292993e-09,\n",
       "         1.8900453e-14, 3.8516665e-09, 4.4798339e-11, 4.4302642e-17,\n",
       "         1.5669240e-04, 1.7168793e-07, 8.2010611e-14, 2.1472220e-08,\n",
       "         2.9008165e-12, 6.3158164e-12, 3.6721698e-08, 4.2745532e-07,\n",
       "         3.5540418e-07, 1.0523217e-14, 7.5257016e-18, 1.8769233e-09,\n",
       "         7.0212679e-15, 1.9555265e-12, 5.1139431e-12]]], dtype=float32)"
      ]
     },
     "execution_count": 160,
     "metadata": {},
     "output_type": "execute_result"
    }
   ],
   "source": [
    "translated_french_sequences"
   ]
  },
  {
   "cell_type": "code",
   "execution_count": 171,
   "id": "8470613d",
   "metadata": {},
   "outputs": [],
   "source": [
    "translated_french_sequences[0][0][2]=10"
   ]
  },
  {
   "cell_type": "code",
   "execution_count": 172,
   "id": "6ba306f1",
   "metadata": {},
   "outputs": [
    {
     "data": {
      "text/plain": [
       "array([[[2.6552029e-06, 2.6170757e-10, 1.0000000e+01, 2.5502958e-17,\n",
       "         5.3306226e-10, 3.6464646e-15, 5.4196370e-15, 6.2110836e-08,\n",
       "         8.6082549e-14, 4.7857489e-16, 4.4316062e-14, 3.4292993e-09,\n",
       "         1.8900453e-14, 3.8516665e-09, 4.4798339e-11, 4.4302642e-17,\n",
       "         1.5669240e-04, 1.7168793e-07, 8.2010611e-14, 2.1472220e-08,\n",
       "         2.9008165e-12, 6.3158164e-12, 3.6721698e-08, 4.2745532e-07,\n",
       "         3.5540418e-07, 1.0523217e-14, 7.5257016e-18, 1.8769233e-09,\n",
       "         7.0212679e-15, 1.9555265e-12, 5.1139431e-12]]], dtype=float32)"
      ]
     },
     "execution_count": 172,
     "metadata": {},
     "output_type": "execute_result"
    }
   ],
   "source": [
    "translated_french_sequences"
   ]
  },
  {
   "cell_type": "code",
   "execution_count": 173,
   "id": "a406c6d2",
   "metadata": {},
   "outputs": [],
   "source": [
    "translated_french_text = french_tokenizer.sequences_to_texts(translated_french_sequences[0])"
   ]
  },
  {
   "cell_type": "code",
   "execution_count": 174,
   "id": "84f4ea1a",
   "metadata": {},
   "outputs": [
    {
     "data": {
      "text/plain": [
       "['UNK UNK du UNK UNK UNK UNK UNK UNK UNK UNK UNK UNK UNK UNK UNK UNK UNK UNK UNK UNK UNK UNK UNK UNK UNK UNK UNK UNK UNK UNK']"
      ]
     },
     "execution_count": 174,
     "metadata": {},
     "output_type": "execute_result"
    }
   ],
   "source": [
    "translated_french_text"
   ]
  },
  {
   "cell_type": "code",
   "execution_count": 127,
   "id": "50610265",
   "metadata": {},
   "outputs": [
    {
     "data": {
      "text/plain": [
       "{'UNK': 1,\n",
       " 'is': 2,\n",
       " 'i': 3,\n",
       " 'love': 4,\n",
       " 'natural': 5,\n",
       " 'language': 6,\n",
       " 'processing': 7,\n",
       " 'tensorflow': 8,\n",
       " 'a': 9,\n",
       " 'powerful': 10,\n",
       " 'framework': 11,\n",
       " 'machine': 12,\n",
       " 'learning': 13,\n",
       " 'fascinating': 14,\n",
       " 'this': 15,\n",
       " 'an': 16,\n",
       " 'example': 17,\n",
       " 'text': 18,\n",
       " 'neural': 19,\n",
       " 'networks': 20,\n",
       " 'are': 21,\n",
       " 'amazing': 22,\n",
       " 'ai': 23,\n",
       " 'the': 24,\n",
       " 'future': 25,\n",
       " 'of': 26,\n",
       " 'technology': 27}"
      ]
     },
     "execution_count": 127,
     "metadata": {},
     "output_type": "execute_result"
    }
   ],
   "source": [
    "english_word_index"
   ]
  },
  {
   "cell_type": "code",
   "execution_count": null,
   "id": "c674e290",
   "metadata": {},
   "outputs": [],
   "source": []
  }
 ],
 "metadata": {
  "kernelspec": {
   "display_name": "Python 3 (ipykernel)",
   "language": "python",
   "name": "python3"
  },
  "language_info": {
   "codemirror_mode": {
    "name": "ipython",
    "version": 3
   },
   "file_extension": ".py",
   "mimetype": "text/x-python",
   "name": "python",
   "nbconvert_exporter": "python",
   "pygments_lexer": "ipython3",
   "version": "3.10.2"
  }
 },
 "nbformat": 4,
 "nbformat_minor": 5
}
