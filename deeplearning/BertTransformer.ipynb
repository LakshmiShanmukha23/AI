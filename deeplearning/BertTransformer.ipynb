{
 "cells": [
  {
   "cell_type": "code",
   "execution_count": 2,
   "id": "966b7a77",
   "metadata": {},
   "outputs": [],
   "source": [
    "import numpy as np"
   ]
  },
  {
   "cell_type": "code",
   "execution_count": 3,
   "id": "0df63c14",
   "metadata": {},
   "outputs": [],
   "source": [
    "import keras"
   ]
  },
  {
   "cell_type": "code",
   "execution_count": 4,
   "id": "a723114f",
   "metadata": {},
   "outputs": [],
   "source": [
    "import tensorflow as tf"
   ]
  },
  {
   "cell_type": "code",
   "execution_count": 5,
   "id": "de8cb9da",
   "metadata": {},
   "outputs": [],
   "source": [
    "from tensorflow.keras.layers import Input,Embedding,Dense,Dropout,LayerNormalization,MultiHeadAttention"
   ]
  },
  {
   "cell_type": "code",
   "execution_count": 5,
   "id": "9342d132",
   "metadata": {},
   "outputs": [],
   "source": [
    "num_layers=3\n",
    "num_heads=8\n",
    "d_model=512\n",
    "dff=2048\n",
    "dropout=0.2"
   ]
  },
  {
   "cell_type": "code",
   "execution_count": 6,
   "id": "910a9c0f",
   "metadata": {},
   "outputs": [],
   "source": [
    "def scaled_dot_product(q,k,v,mask=None):\n",
    "    scale=q.shape[-1]\n",
    "    k=tf.transpose(k,perm=(0,1,3,2))\n",
    "    scaled=tf.matmul(q,k)/np.sqrt(scale)\n",
    "    if mask is not None:\n",
    "        scaled+=mask\n",
    "    attention_wts=tf.nn.softmax(scaled,axis=-1)\n",
    "    values=tf.matmul(scaled,v)\n",
    "    return values,attention_wts"
   ]
  },
  {
   "cell_type": "code",
   "execution_count": 28,
   "id": "6561495b",
   "metadata": {},
   "outputs": [],
   "source": [
    "class MultiHead_Attention(tf.keras.layers.Layer):\n",
    "    def __init__(self,no_of_heads,d_model):\n",
    "        super(MultiHead_Attention,self).__init__()\n",
    "        self.n_heads=no_of_heads\n",
    "        self.head_dims=d_model//no_of_heads\n",
    "        self.qkv=Dense(3*d_model)\n",
    "        self.dense=Dense(d_model)\n",
    "        \n",
    "    def call(self,inputs):\n",
    "        batch_size,max_inp_len,d_model=inputs.shape\n",
    "        qkv=self.qkv(inputs)\n",
    "        desired_shape = (batch_size, max_inp_len, self.n_heads, 3 * self.head_dims)\n",
    "        qkv=tf.reshape(qkv,desired_shape)\n",
    "        qkv=tf.transpose(qkv,perm=(0,2,1,3))\n",
    "        q,k,v=tf.split(qkv,num_or_size_splits=3,axis=3)\n",
    "        v,attention_wts=scaled_dot_product(q,k,v)\n",
    "        v=tf.reshape(v,(batch_size,max_inp_len,self.n_heads*self.head_dims))\n",
    "        output=self.dense(v)\n",
    "        return output"
   ]
  },
  {
   "cell_type": "code",
   "execution_count": 29,
   "id": "d416880d",
   "metadata": {},
   "outputs": [],
   "source": [
    "class FeedForward(tf.keras.layers.Layer):\n",
    "    def __init__(self,d_model,ffc,dropout):\n",
    "        super(FeedForward,self).__init__()\n",
    "        self.dense1=Dense(ffc,activation=\"relu\")\n",
    "        self.dense2=Dense(d_model)\n",
    "        self.dropout=Dropout(rate=dropout)\n",
    "        \n",
    "    def call(self,inputs,training=False):\n",
    "        x=self.dense1(inputs)\n",
    "        x=self.dropout(x,training=training)\n",
    "        x=self.dense2(x)\n",
    "        return x"
   ]
  },
  {
   "cell_type": "code",
   "execution_count": 30,
   "id": "e13950bf",
   "metadata": {},
   "outputs": [],
   "source": [
    "class LayerNormalization(tf.keras.layers.Layer):\n",
    "    def __init__(self, parameter_shape, eps=1e-5):\n",
    "        super(LayerNormalization, self).__init__()\n",
    "        self.parameter_shape = parameter_shape\n",
    "        self.eps = eps\n",
    "        self.gamma = self.add_weight(\"gamma\", shape=parameter_shape, initializer=\"ones\", trainable=True)\n",
    "        self.beta = self.add_weight(\"beta\", shape=parameter_shape, initializer=\"zeros\", trainable=True)\n",
    "        \n",
    "    def call(self, inputs):\n",
    "        mean = tf.reduce_mean(inputs, axis=-1, keepdims=True)\n",
    "        var = tf.reduce_mean(tf.square(inputs - mean), axis=-1, keepdims=True)\n",
    "        std = tf.sqrt(var + self.eps)\n",
    "        y = (inputs - mean) / std\n",
    "        out = self.gamma * y + self.beta\n",
    "        return out"
   ]
  },
  {
   "cell_type": "code",
   "execution_count": 31,
   "id": "680480c8",
   "metadata": {},
   "outputs": [],
   "source": [
    "class Encoder_Layer(tf.keras.layers.Layer):\n",
    "    def __init__(self,num_of_heads,d_model,dff,dropout):\n",
    "        super(Encoder_Layer,self).__init__()\n",
    "        self.mha=MultiHead_Attention(num_of_heads,d_model)\n",
    "        self.dropout1=Dropout(rate=dropout)\n",
    "        self.ln1=LayerNormalization(d_model)\n",
    "        self.ff=FeedForward(d_model,dff,dropout)\n",
    "        self.dropout2=Dropout(rate=dropout)\n",
    "        self.ln2=LayerNormalization(d_model)\n",
    "        \n",
    "    def call(self,inputs,training=False):\n",
    "        mha_output=self.mha(inputs)\n",
    "        output_dropout1=self.dropout1(mha_output,training=training)\n",
    "        ln1_output=self.ln1(output_dropout1+inputs)\n",
    "        \n",
    "        ffn_output=self.ff(ln1_output,training)\n",
    "        ffn_output_dropout=self.dropout2(ffn_output,training=training)\n",
    "        ln2_output=self.ln2(ffn_output_dropout+ln1_output)\n",
    "        return ln2_output"
   ]
  },
  {
   "cell_type": "code",
   "execution_count": 32,
   "id": "d5e25fc4",
   "metadata": {},
   "outputs": [],
   "source": [
    "class Encoder(tf.keras.layers.Layer):\n",
    "    def __init__(self,num_of_heads,d_model,dff,dropout,num_layers):\n",
    "        super(Encoder,self).__init__()\n",
    "        self.encoder_layer=[Encoder_Layer(num_of_heads,d_model,dff,dropout) for _ in range(num_layers)]\n",
    "        \n",
    "    def call(self,inputs,training=False):\n",
    "        x=inputs\n",
    "        for layer in self.encoder_layer:\n",
    "            x=layer(x,training)\n",
    "        return x"
   ]
  },
  {
   "cell_type": "code",
   "execution_count": 33,
   "id": "60cc552b",
   "metadata": {},
   "outputs": [],
   "source": [
    "encoder=Encoder(num_heads,d_model,dff,dropout,num_layers)"
   ]
  },
  {
   "cell_type": "code",
   "execution_count": 38,
   "id": "65d0e8a4",
   "metadata": {},
   "outputs": [],
   "source": [
    "x=np.random.random((10,30,512))"
   ]
  },
  {
   "cell_type": "code",
   "execution_count": 39,
   "id": "ad02ebcc",
   "metadata": {},
   "outputs": [],
   "source": [
    "output=encoder(x)"
   ]
  },
  {
   "cell_type": "code",
   "execution_count": 40,
   "id": "7c7e0970",
   "metadata": {},
   "outputs": [
    {
     "data": {
      "text/plain": [
       "TensorShape([10, 30, 512])"
      ]
     },
     "execution_count": 40,
     "metadata": {},
     "output_type": "execute_result"
    }
   ],
   "source": [
    "output.shape"
   ]
  },
  {
   "cell_type": "code",
   "execution_count": null,
   "id": "d11d015d",
   "metadata": {},
   "outputs": [],
   "source": []
  }
 ],
 "metadata": {
  "kernelspec": {
   "display_name": "Python 3 (ipykernel)",
   "language": "python",
   "name": "python3"
  },
  "language_info": {
   "codemirror_mode": {
    "name": "ipython",
    "version": 3
   },
   "file_extension": ".py",
   "mimetype": "text/x-python",
   "name": "python",
   "nbconvert_exporter": "python",
   "pygments_lexer": "ipython3",
   "version": "3.10.2"
  }
 },
 "nbformat": 4,
 "nbformat_minor": 5
}
