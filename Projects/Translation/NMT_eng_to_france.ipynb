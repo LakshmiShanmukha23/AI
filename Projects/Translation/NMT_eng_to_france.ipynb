{
 "cells": [
  {
   "cell_type": "code",
   "execution_count": null,
   "metadata": {
    "colab": {},
    "colab_type": "code",
    "id": "vc5ngHh4PPz1"
   },
   "outputs": [],
   "source": [
    "import os, sys\n",
    "from keras.models import Model\n",
    "from keras.layers import Input, LSTM, GRU, Dense, Embedding\n",
    "from keras.preprocessing.text import Tokenizer\n",
    "from keras.preprocessing.sequence import pad_sequences\n",
    "from keras.utils import to_categorical\n",
    "import numpy as np\n",
    "import pickle\n",
    "import matplotlib.pyplot as plt"
   ]
  },
  {
   "cell_type": "code",
   "execution_count": null,
   "metadata": {
    "colab": {},
    "colab_type": "code",
    "id": "_SRkog90Prnf"
   },
   "outputs": [],
   "source": [
    "BATCH_SIZE = 64\n",
    "EPOCHS = 20\n",
    "LSTM_NODES =256\n",
    "NUM_SENTENCES = 20000\n",
    "MAX_SENTENCE_LENGTH = 50\n",
    "MAX_NUM_WORDS = 20000\n",
    "EMBEDDING_SIZE = 200"
   ]
  },
  {
   "cell_type": "markdown",
   "metadata": {
    "colab_type": "text",
    "id": "YlZSuKwHQdF5"
   },
   "source": [
    "# Data Preprocessing"
   ]
  },
  {
   "cell_type": "code",
   "execution_count": null,
   "metadata": {
    "colab": {
     "base_uri": "https://localhost:8080/",
     "height": 68
    },
    "colab_type": "code",
    "id": "iah7wvJKQQy5",
    "outputId": "15d10ca7-af21-48da-851a-5e654b85a96e"
   },
   "outputs": [
    {
     "name": "stdout",
     "output_type": "stream",
     "text": [
      "Number of sample input: 20000\n",
      "Number of sample output: 20000\n",
      "Number of sample output input: 20000\n"
     ]
    }
   ],
   "source": [
    "input_sentences = []\n",
    "output_sentences = []\n",
    "output_sentences_inputs = []\n",
    "\n",
    "count = 0\n",
    "for line in open('./drive/My Drive/fra.txt', encoding=\"utf-8\"):\n",
    "    count += 1\n",
    "    if count > NUM_SENTENCES:\n",
    "        break\n",
    "    if '\\t' not in line:\n",
    "        continue\n",
    "    input_sentence = line.rstrip().split('\\t')[0]\n",
    "    output = line.rstrip().split('\\t')[1]\n",
    "\n",
    "    output_sentence = output + ' <eos>'\n",
    "    output_sentence_input = '<sos> ' + output\n",
    "\n",
    "    input_sentences.append(input_sentence)\n",
    "    output_sentences.append(output_sentence)\n",
    "    output_sentences_inputs.append(output_sentence_input)\n",
    "\n",
    "print(\"Number of sample input:\", len(input_sentences))\n",
    "print(\"Number of sample output:\", len(output_sentences))\n",
    "print(\"Number of sample output input:\", len(output_sentences_inputs))"
   ]
  },
  {
   "cell_type": "code",
   "execution_count": null,
   "metadata": {
    "colab": {
     "base_uri": "https://localhost:8080/",
     "height": 51
    },
    "colab_type": "code",
    "id": "X0S4pCxTRCMr",
    "outputId": "787321ef-59a3-422b-b359-8a7337b87eaf"
   },
   "outputs": [
    {
     "name": "stdout",
     "output_type": "stream",
     "text": [
      "English sentence:  Join us.\n",
      "French translation:  Joignez-vous à nous. <eos>\n"
     ]
    }
   ],
   "source": [
    "print(\"English sentence: \",input_sentences[180])\n",
    "print(\"French translation: \",output_sentences[180])"
   ]
  },
  {
   "cell_type": "markdown",
   "metadata": {
    "colab_type": "text",
    "id": "-hGrGE_LWWzQ"
   },
   "source": [
    "# Tokenization and Padding\n"
   ]
  },
  {
   "cell_type": "code",
   "execution_count": null,
   "metadata": {
    "colab": {
     "base_uri": "https://localhost:8080/",
     "height": 281
    },
    "colab_type": "code",
    "id": "ibQSA3kaWWbn",
    "outputId": "25eebbc6-6637-44c9-f11e-5b8bd4376a35"
   },
   "outputs": [
    {
     "data": {
      "image/png": "[encoded data removed]",
      "text/plain": [
       "<Figure size 432x288 with 2 Axes>"
      ]
     },
     "metadata": {
      "needs_background": "light",
      "tags": []
     },
     "output_type": "display_data"
    }
   ],
   "source": [
    "import pandas as pd\n",
    "\n",
    "eng_len = []\n",
    "fren_len = []\n",
    "\n",
    "for i in input_sentences:\n",
    "      eng_len.append(len(i.split()))  \n",
    "\n",
    "for i in output_sentences:\n",
    "      fren_len.append(len(i.split()))\n",
    "\n",
    "length_df = pd.DataFrame({'english':eng_len, 'french':fren_len})\n",
    "\n",
    "length_df.hist(bins = 20)\n",
    "plt.show()"
   ]
  },
  {
   "cell_type": "code",
   "execution_count": null,
   "metadata": {},
   "outputs": [],
   "source": [
    "input_tokenizer = Tokenizer(num_words=MAX_NUM_WORDS)\n",
    "input_tokenizer.fit_on_texts(input_sentences)\n",
    "input_integer_seq = input_tokenizer.texts_to_sequences(input_sentences)\n",
    "print(input_integer_seq)\n",
    "\n",
    "word2idx_inputs = input_tokenizer.word_index\n",
    "print('Total unique words in the input: %s' % len(word2idx_inputs))\n",
    "\n",
    "max_input_len = max(len(sen) for sen in input_integer_seq)\n",
    "print(\"Length of longest sentence in input: %g\" % max_input_len)"
   ]
  },
  {
   "cell_type": "code",
   "execution_count": null,
   "metadata": {},
   "outputs": [],
   "source": [
    "output_tokenizer = Tokenizer(num_words=MAX_NUM_WORDS, filters='')\n",
    "output_tokenizer.fit_on_texts(output_sentences + output_sentences_inputs)\n",
    "output_integer_seq = output_tokenizer.texts_to_sequences(output_sentences)\n",
    "output_input_integer_seq = output_tokenizer.texts_to_sequences(output_sentences_inputs)\n",
    "print(output_input_integer_seq)\n",
    "\n",
    "word2idx_outputs = output_tokenizer.word_index\n",
    "print('Total unique words in the output: %s' % len(word2idx_outputs))\n",
    "\n",
    "num_words_output = len(word2idx_outputs) + 1\n",
    "max_out_len = max(len(sen) for sen in output_integer_seq)\n",
    "print(\"Length of longest sentence in the output: %g\" % max_out_len)"
   ]
  },
  {
   "cell_type": "code",
   "execution_count": null,
   "metadata": {
    "colab": {
     "base_uri": "https://localhost:8080/",
     "height": 51
    },
    "colab_type": "code",
    "id": "hj-vUQjOZx10",
    "outputId": "0eefd318-e328-461e-f1aa-ae07b23a68fc"
   },
   "outputs": [
    {
     "name": "stdout",
     "output_type": "stream",
     "text": [
      "encoder_input_sequences.shape: (20000, 6)\n",
      "encoder_input_sequences[180]: [  0   0   0   0 464  59]\n"
     ]
    }
   ],
   "source": [
    "encoder_input_sequences = pad_sequences(input_integer_seq, maxlen=max_input_len)\n",
    "print(\"encoder_input_sequences.shape:\", encoder_input_sequences.shape)\n",
    "print(\"encoder_input_sequences[180]:\", encoder_input_sequences[180])"
   ]
  },
  {
   "cell_type": "code",
   "execution_count": null,
   "metadata": {
    "colab": {
     "base_uri": "https://localhost:8080/",
     "height": 51
    },
    "colab_type": "code",
    "id": "FNTu1gbfa2jf",
    "outputId": "b98f0109-131a-4327-c326-f3ab658c292f"
   },
   "outputs": [
    {
     "name": "stdout",
     "output_type": "stream",
     "text": [
      "464\n",
      "59\n"
     ]
    }
   ],
   "source": [
    "print(word2idx_inputs[\"join\"])\n",
    "print(word2idx_inputs[\"us\"])"
   ]
  },
  {
   "cell_type": "code",
   "execution_count": null,
   "metadata": {
    "colab": {
     "base_uri": "https://localhost:8080/",
     "height": 51
    },
    "colab_type": "code",
    "id": "f8eOgYfUb0EO",
    "outputId": "8c9cd205-d1be-43c8-a5a2-6c9d9479d56c"
   },
   "outputs": [
    {
     "name": "stdout",
     "output_type": "stream",
     "text": [
      "decoder_input_sequences.shape: (20000, 12)\n",
      "decoder_input_sequences[180]: [   2 2028   20  228    0    0    0    0    0    0    0    0]\n"
     ]
    }
   ],
   "source": [
    "decoder_input_sequences = pad_sequences(output_input_integer_seq, maxlen=max_out_len, padding='post')\n",
    "print(\"decoder_input_sequences.shape:\", decoder_input_sequences.shape)\n",
    "print(\"decoder_input_sequences[180]:\", decoder_input_sequences[180])"
   ]
  },
  {
   "cell_type": "code",
   "execution_count": null,
   "metadata": {
    "colab": {
     "base_uri": "https://localhost:8080/",
     "height": 85
    },
    "colab_type": "code",
    "id": "Ra7H9gBAcaMR",
    "outputId": "36507fd7-8b1d-4c52-b774-ab042f5b784c"
   },
   "outputs": [
    {
     "name": "stdout",
     "output_type": "stream",
     "text": [
      "2\n",
      "2028\n",
      "20\n",
      "228\n"
     ]
    }
   ],
   "source": [
    "print(word2idx_outputs[\"<sos>\"])\n",
    "print(word2idx_outputs[\"joignez-vous\"])\n",
    "print(word2idx_outputs[\"à\"])\n",
    "print(word2idx_outputs[\"nous.\"])"
   ]
  },
  {
   "cell_type": "code",
   "execution_count": null,
   "metadata": {
    "colab": {
     "base_uri": "https://localhost:8080/",
     "height": 34
    },
    "colab_type": "code",
    "id": "0DRTlTzWn8OM",
    "outputId": "5429860b-c469-49de-cc54-023430450490"
   },
   "outputs": [
    {
     "name": "stdout",
     "output_type": "stream",
     "text": [
      "decoder_output_sequences.shape: (20000, 12)\n"
     ]
    }
   ],
   "source": [
    "decoder_output_sequences = pad_sequences(output_integer_seq, maxlen=max_out_len, padding='post')\n",
    "print(\"decoder_output_sequences.shape:\", decoder_output_sequences.shape)\n"
   ]
  },
  {
   "cell_type": "markdown",
   "metadata": {
    "colab_type": "text",
    "id": "B9Sh9cViduI0"
   },
   "source": [
    "# Word Embeddings\n"
   ]
  },
  {
   "cell_type": "code",
   "execution_count": null,
   "metadata": {
    "colab": {},
    "colab_type": "code",
    "id": "k-UIFAa7ddt1"
   },
   "outputs": [],
   "source": [
    "from numpy import array\n",
    "from numpy import asarray\n",
    "from numpy import zeros\n",
    "\n",
    "embeddings_dictionary = dict()\n",
    "\n",
    "glove_file = open(r'./drive/My Drive/kaggle_sarcasm/glove.twitter.27B.200d.txt', encoding=\"utf8\")\n",
    "\n",
    "for line in glove_file:\n",
    "    rec = line.split()\n",
    "    word = rec[0]\n",
    "    vector_dimensions = asarray(rec[1:], dtype='float32')\n",
    "    embeddings_dictionary[word] = vector_dimensions\n",
    "glove_file.close()"
   ]
  },
  {
   "cell_type": "code",
   "execution_count": null,
   "metadata": {
    "colab": {},
    "colab_type": "code",
    "id": "1PpnsuMpfNwZ"
   },
   "outputs": [],
   "source": [
    "num_words = min(MAX_NUM_WORDS, len(word2idx_inputs) + 1)\n",
    "embedding_matrix = zeros((num_words, EMBEDDING_SIZE))\n",
    "for word, index in word2idx_inputs.items():\n",
    "    embedding_vector = embeddings_dictionary.get(word)\n",
    "    if embedding_vector is not None:\n",
    "        embedding_matrix[index] = embedding_vector"
   ]
  },
  {
   "cell_type": "code",
   "execution_count": null,
   "metadata": {
    "colab": {
     "base_uri": "https://localhost:8080/",
     "height": 595
    },
    "colab_type": "code",
    "id": "tOuMuJekf0UE",
    "outputId": "65ea04a6-572e-4dae-8c6c-f2007b7ba306"
   },
   "outputs": [
    {
     "name": "stdout",
     "output_type": "stream",
     "text": [
      "[-3.7239e-01  4.7634e-01 -1.9666e-01 -1.1641e+00  1.2820e-02 -4.7063e-01\n",
      "  4.4522e-01  1.8911e-01  5.6740e-01 -6.1915e-02  2.7159e-01 -1.7613e-01\n",
      " -5.4897e-01 -1.6782e-01  3.0910e-01  1.0253e-01  4.3412e-01 -4.0300e-02\n",
      "  3.4782e-02  2.8017e-01  1.6735e-01 -5.3730e-02 -5.9838e-01 -6.7251e-02\n",
      " -7.0371e-01  1.0674e+00  4.1123e-01  2.6227e-01 -3.2041e-01  5.2882e-01\n",
      "  3.6446e-01  1.3661e-01 -2.2680e-01  6.6556e-01  3.4684e-01 -4.1284e-01\n",
      "  5.5050e-01  3.5691e-01  3.6985e-01 -3.1312e-01  9.2343e-02  1.7105e-01\n",
      " -1.5200e-01  6.4297e-02  2.2327e-01  2.9222e-01 -7.3356e-01 -4.6585e-02\n",
      " -2.1011e-01  1.2690e-01  3.1638e-01 -5.1846e-01  2.2601e-02 -1.6426e-01\n",
      " -8.4231e-02 -6.5978e-02 -1.4436e-01 -2.2150e-01  4.2886e-01  3.0813e-01\n",
      " -1.0191e-03  5.9619e-01  1.7514e-01  5.3788e-01 -6.3198e-01  1.5236e-01\n",
      " -1.9268e-01  5.8482e-03  6.8425e-01  5.9576e-01  4.4315e-01  3.5061e-01\n",
      "  1.8628e-01  8.6317e-01  2.1811e-01 -2.6925e-02  1.4113e-01 -6.5218e-03\n",
      " -1.8793e-01 -7.6275e-01 -1.9529e-01 -3.8076e-01  2.4531e-01 -9.6168e-02\n",
      "  9.9905e-01 -4.4919e-01  2.7007e-01 -8.1641e-02  2.0172e-01 -3.0940e-01\n",
      "  2.1268e-01 -3.3724e-01 -4.4451e-02  3.7221e-02  3.9271e-01 -4.4238e-01\n",
      " -3.6380e-02  2.6630e-01 -1.9518e-01  4.9542e-01  4.6434e-01  2.8676e-02\n",
      " -3.2328e-01 -2.2912e-01 -1.0846e-01  7.4751e-02  1.9630e-01  9.2830e-01\n",
      "  3.4753e-01 -2.2845e-01 -5.7626e-02 -1.9475e-01 -1.5422e-01  2.5627e-01\n",
      "  1.0862e+00 -2.4259e-01  2.6479e-01  2.0851e-01  5.9924e-01 -2.0119e-01\n",
      "  2.8459e-01  2.2108e-01  8.1928e-02  6.4911e-02  4.5134e-01 -9.2248e-01\n",
      " -6.3541e-01 -8.6245e-02 -5.4689e-01  2.1964e-01  3.0496e-01 -2.5695e-01\n",
      "  2.2484e-01 -3.0984e-01  1.2758e-01  1.0109e-01 -3.2874e-01  1.2935e-01\n",
      " -8.7196e-01  1.2193e-03  1.2921e-01 -1.2158e+00 -9.7884e-01  3.1955e-01\n",
      "  7.0111e-01 -4.4321e-02  1.3345e-01  4.0505e-01 -1.5676e-01 -9.4797e-02\n",
      " -4.9323e-01  4.7612e-02 -4.1518e+00 -4.0886e-01 -3.0467e-01  1.4018e-01\n",
      " -1.0525e-01 -5.1683e-01 -2.0616e-01  9.2721e-01 -7.0207e-01 -2.1796e-01\n",
      "  2.2035e-02  8.5640e-02 -2.3397e-01 -8.8407e-02  1.9469e-02  2.5186e-03\n",
      "  1.2422e-01 -1.3315e-01 -7.0345e-01 -4.5398e-01  2.0099e-01  2.6786e-01\n",
      "  2.6263e-01 -1.5726e-01  3.2610e-01 -1.0904e-01  3.9328e-01  1.2629e-01\n",
      " -3.7834e-02 -3.8130e-01 -2.3811e-02  1.1780e-01  8.3620e-02 -1.7298e-01\n",
      "  1.8870e-01 -7.4950e-02  1.2175e-02  1.7848e-01  7.5212e-02  1.6401e-01\n",
      " -3.5318e-01 -1.0642e-02 -4.9625e-01  3.8459e-02  3.9650e-01 -8.5031e-02\n",
      "  6.6139e-01  3.9729e-02]\n"
     ]
    }
   ],
   "source": [
    "print(embeddings_dictionary[\"join\"])"
   ]
  },
  {
   "cell_type": "markdown",
   "metadata": {
    "colab_type": "text",
    "id": "LgoHeGrkghcL"
   },
   "source": [
    "In the previous section, we saw that the integer representation for the word **join** is 464. Let's now check the 464th index of the word embedding matrix.\n",
    "\n"
   ]
  },
  {
   "cell_type": "code",
   "execution_count": null,
   "metadata": {
    "colab": {
     "base_uri": "https://localhost:8080/",
     "height": 867
    },
    "colab_type": "code",
    "id": "iaWaL8EegHgF",
    "outputId": "44963034-0987-4ac8-f83a-bef767306e24"
   },
   "outputs": [
    {
     "name": "stdout",
     "output_type": "stream",
     "text": [
      "[-3.72390002e-01  4.76339996e-01 -1.96659997e-01 -1.16410005e+00\n",
      "  1.28199998e-02 -4.70629990e-01  4.45219994e-01  1.89109996e-01\n",
      "  5.67399979e-01 -6.19149990e-02  2.71589994e-01 -1.76129997e-01\n",
      " -5.48969984e-01 -1.67820007e-01  3.09100002e-01  1.02530003e-01\n",
      "  4.34119999e-01 -4.03000005e-02  3.47819999e-02  2.80169994e-01\n",
      "  1.67349994e-01 -5.37299998e-02 -5.98380029e-01 -6.72509968e-02\n",
      " -7.03710020e-01  1.06739998e+00  4.11229998e-01  2.62270004e-01\n",
      " -3.20410013e-01  5.28819978e-01  3.64459991e-01  1.36610001e-01\n",
      " -2.26799995e-01  6.65560007e-01  3.46839994e-01 -4.12840009e-01\n",
      "  5.50499976e-01  3.56909990e-01  3.69850010e-01 -3.13120008e-01\n",
      "  9.23430026e-02  1.71049997e-01 -1.51999995e-01  6.42969981e-02\n",
      "  2.23269999e-01  2.92219996e-01 -7.33560026e-01 -4.65850011e-02\n",
      " -2.10109994e-01  1.26900002e-01  3.16379994e-01 -5.18459976e-01\n",
      "  2.26009991e-02 -1.64260000e-01 -8.42309967e-02 -6.59779981e-02\n",
      " -1.44360006e-01 -2.21499994e-01  4.28860009e-01  3.08129996e-01\n",
      " -1.01909996e-03  5.96189976e-01  1.75139993e-01  5.37880003e-01\n",
      " -6.31980002e-01  1.52360007e-01 -1.92680001e-01  5.84820006e-03\n",
      "  6.84249997e-01  5.95759988e-01  4.43150014e-01  3.50609988e-01\n",
      "  1.86279997e-01  8.63170028e-01  2.18109995e-01 -2.69249994e-02\n",
      "  1.41130000e-01 -6.52180007e-03 -1.87930003e-01 -7.62750030e-01\n",
      " -1.95289999e-01 -3.80760014e-01  2.45309994e-01 -9.61679965e-02\n",
      "  9.99050021e-01 -4.49189991e-01  2.70069987e-01 -8.16410035e-02\n",
      "  2.01719999e-01 -3.09399992e-01  2.12679997e-01 -3.37240010e-01\n",
      " -4.44509983e-02  3.72209996e-02  3.92710000e-01 -4.42380011e-01\n",
      " -3.63800004e-02  2.66299993e-01 -1.95179999e-01  4.95420009e-01\n",
      "  4.64340001e-01  2.86759995e-02 -3.23280007e-01 -2.29120001e-01\n",
      " -1.08460002e-01  7.47509971e-02  1.96300000e-01  9.28300023e-01\n",
      "  3.47530007e-01 -2.28450000e-01 -5.76260015e-02 -1.94749996e-01\n",
      " -1.54220000e-01  2.56269991e-01  1.08620000e+00 -2.42589995e-01\n",
      "  2.64789999e-01  2.08509997e-01  5.99240005e-01 -2.01189995e-01\n",
      "  2.84590006e-01  2.21080005e-01  8.19279999e-02  6.49110004e-02\n",
      "  4.51339990e-01 -9.22479987e-01 -6.35410011e-01 -8.62450004e-02\n",
      " -5.46890020e-01  2.19640002e-01  3.04960012e-01 -2.56949991e-01\n",
      "  2.24840000e-01 -3.09839994e-01  1.27580002e-01  1.01089999e-01\n",
      " -3.28740001e-01  1.29350007e-01 -8.71959984e-01  1.21929997e-03\n",
      "  1.29209995e-01 -1.21580005e+00 -9.78839993e-01  3.19550008e-01\n",
      "  7.01110005e-01 -4.43210006e-02  1.33450001e-01  4.05050009e-01\n",
      " -1.56760007e-01 -9.47970003e-02 -4.93229985e-01  4.76120003e-02\n",
      " -4.15180016e+00 -4.08859998e-01 -3.04670006e-01  1.40180007e-01\n",
      " -1.05250001e-01 -5.16830027e-01 -2.06159994e-01  9.27209973e-01\n",
      " -7.02069998e-01 -2.17960000e-01  2.20350008e-02  8.56399983e-02\n",
      " -2.33970001e-01 -8.84070024e-02  1.94690004e-02  2.51860009e-03\n",
      "  1.24219999e-01 -1.33149996e-01 -7.03450024e-01 -4.53979999e-01\n",
      "  2.00990006e-01  2.67859995e-01  2.62629986e-01 -1.57260001e-01\n",
      "  3.26099992e-01 -1.09040000e-01  3.93279999e-01  1.26289994e-01\n",
      " -3.78339998e-02 -3.81300002e-01 -2.38109995e-02  1.17799997e-01\n",
      "  8.36199969e-02 -1.72979996e-01  1.88700005e-01 -7.49500021e-02\n",
      "  1.21750003e-02  1.78479999e-01  7.52120018e-02  1.64010003e-01\n",
      " -3.53179991e-01 -1.06419995e-02 -4.96250004e-01  3.84589992e-02\n",
      "  3.96499991e-01 -8.50310028e-02  6.61390007e-01  3.97289991e-02]\n"
     ]
    }
   ],
   "source": [
    "print(embedding_matrix[464])"
   ]
  },
  {
   "cell_type": "code",
   "execution_count": null,
   "metadata": {
    "colab": {},
    "colab_type": "code",
    "id": "Mq9hCDQwgTtv"
   },
   "outputs": [],
   "source": [
    "embedding_layer = Embedding(num_words, EMBEDDING_SIZE, weights=[embedding_matrix], input_length=max_input_len)\n"
   ]
  },
  {
   "cell_type": "markdown",
   "metadata": {
    "colab_type": "text",
    "id": "Zjnm7SOpiZyj"
   },
   "source": [
    "# Creating the Model\n",
    "\n"
   ]
  },
  {
   "cell_type": "code",
   "execution_count": null,
   "metadata": {
    "colab": {
     "base_uri": "https://localhost:8080/",
     "height": 34
    },
    "colab_type": "code",
    "id": "kGbPaXOdjhwr",
    "outputId": "60557654-8037-4e29-8c2b-4200debf4a67"
   },
   "outputs": [
    {
     "data": {
      "text/plain": [
       "(20000, 12, 9512)"
      ]
     },
     "execution_count": 19,
     "metadata": {
      "tags": []
     },
     "output_type": "execute_result"
    }
   ],
   "source": [
    "decoder_targets_one_hot = np.zeros((\n",
    "        len(input_sentences),\n",
    "        max_out_len,\n",
    "        num_words_output\n",
    "    ),\n",
    "    dtype='float32'\n",
    ")\n",
    "decoder_targets_one_hot.shape"
   ]
  },
  {
   "cell_type": "code",
   "execution_count": null,
   "metadata": {
    "colab": {},
    "colab_type": "code",
    "id": "KTo25u64joMw"
   },
   "outputs": [],
   "source": [
    "for i, d in enumerate(decoder_output_sequences):\n",
    "    for t, word in enumerate(d):\n",
    "        decoder_targets_one_hot[i, t, word] = 1"
   ]
  },
  {
   "cell_type": "code",
   "execution_count": 87,
   "metadata": {
    "colab": {},
    "colab_type": "code",
    "id": "7lRHdbM-nCfd"
   },
   "outputs": [],
   "source": [
    "encoder_inputs = Input(shape=(max_input_len,))\n",
    "x = embedding_layer(encoder_inputs)\n",
    "encoder = LSTM(LSTM_NODES, return_state=True)\n",
    "\n",
    "encoder_outputs, h, c = encoder(x)\n",
    "encoder_states = [h, c]"
   ]
  },
  {
   "cell_type": "code",
   "execution_count": 88,
   "metadata": {
    "colab": {},
    "colab_type": "code",
    "id": "xP6ra2fWoLL3"
   },
   "outputs": [],
   "source": [
    "decoder_inputs = Input(shape=(max_out_len,))\n",
    "\n",
    "decoder_embedding = Embedding(num_words_output, LSTM_NODES)\n",
    "decoder_inputs_x = decoder_embedding(decoder_inputs)\n",
    "\n",
    "decoder_lstm = LSTM(LSTM_NODES, return_sequences=True, return_state=True)\n",
    "decoder_outputs, _, _ = decoder_lstm(decoder_inputs_x, initial_state=encoder_states)"
   ]
  },
  {
   "cell_type": "code",
   "execution_count": 89,
   "metadata": {
    "colab": {},
    "colab_type": "code",
    "id": "SxAS83WqoTM8"
   },
   "outputs": [],
   "source": [
    "decoder_dense = Dense(num_words_output, activation='softmax')\n",
    "decoder_outputs = decoder_dense(decoder_outputs)"
   ]
  },
  {
   "cell_type": "code",
   "execution_count": 90,
   "metadata": {
    "colab": {
     "base_uri": "https://localhost:8080/",
     "height": 425
    },
    "colab_type": "code",
    "id": "KvTYVm5-ombi",
    "outputId": "630265cf-4a38-41ce-f829-0007968a030d"
   },
   "outputs": [
    {
     "name": "stdout",
     "output_type": "stream",
     "text": [
      "Model: \"functional_7\"\n",
      "__________________________________________________________________________________________________\n",
      "Layer (type)                    Output Shape         Param #     Connected to                     \n",
      "==================================================================================================\n",
      "input_6 (InputLayer)            [(None, 6)]          0                                            \n",
      "__________________________________________________________________________________________________\n",
      "input_7 (InputLayer)            [(None, 12)]         0                                            \n",
      "__________________________________________________________________________________________________\n",
      "embedding (Embedding)           (None, 6, 200)       700400      input_6[0][0]                    \n",
      "__________________________________________________________________________________________________\n",
      "embedding_2 (Embedding)         (None, 12, 256)      2435072     input_7[0][0]                    \n",
      "__________________________________________________________________________________________________\n",
      "lstm_2 (LSTM)                   [(None, 256), (None, 467968      embedding[1][0]                  \n",
      "__________________________________________________________________________________________________\n",
      "lstm_3 (LSTM)                   [(None, 12, 256), (N 525312      embedding_2[0][0]                \n",
      "                                                                 lstm_2[0][1]                     \n",
      "                                                                 lstm_2[0][2]                     \n",
      "__________________________________________________________________________________________________\n",
      "dense_1 (Dense)                 (None, 12, 9512)     2444584     lstm_3[0][0]                     \n",
      "==================================================================================================\n",
      "Total params: 6,573,336\n",
      "Trainable params: 6,573,336\n",
      "Non-trainable params: 0\n",
      "__________________________________________________________________________________________________\n"
     ]
    }
   ],
   "source": [
    "#Compile\n",
    "model = Model([encoder_inputs,decoder_inputs], decoder_outputs)\n",
    "model.compile(\n",
    "    optimizer='rmsprop',\n",
    "    loss='categorical_crossentropy',\n",
    "    metrics=['accuracy']\n",
    ")\n",
    "model.summary()"
   ]
  },
  {
   "cell_type": "markdown",
   "metadata": {
    "colab_type": "text",
    "id": "VD1Se2XKoxwq"
   },
   "source": [
    "Let's plot our model to see how it looks."
   ]
  },
  {
   "cell_type": "code",
   "execution_count": null,
   "metadata": {
    "colab": {
     "base_uri": "https://localhost:8080/",
     "height": 533
    },
    "colab_type": "code",
    "id": "_v6W3oDkovGi",
    "outputId": "5d89c1a7-b2eb-4643-8d5d-1fbe11bd4488"
   },
   "outputs": [
    {
     "data": {
      "image/png": "[encoded data removed]",
      "text/plain": [
       "<IPython.core.display.Image object>"
      ]
     },
     "execution_count": 25,
     "metadata": {
      "tags": []
     },
     "output_type": "execute_result"
    }
   ],
   "source": [
    "from keras.utils import plot_model\n",
    "plot_model(model, to_file='model_plot4a.png', show_shapes=True, show_layer_names=True)"
   ]
  },
  {
   "cell_type": "code",
   "execution_count": null,
   "metadata": {
    "colab": {},
    "colab_type": "code",
    "id": "vZzdglYorCE9"
   },
   "outputs": [],
   "source": [
    "from keras.callbacks import EarlyStopping\n",
    "es = EarlyStopping(monitor='val_loss', mode='min', verbose=1)"
   ]
  },
  {
   "cell_type": "code",
   "execution_count": null,
   "metadata": {
    "colab": {
     "base_uri": "https://localhost:8080/",
     "height": 360
    },
    "colab_type": "code",
    "id": "a8U38-qbo3P9",
    "outputId": "c3ad54ca-4c3a-48a6-b85c-865d1955e927"
   },
   "outputs": [
    {
     "name": "stdout",
     "output_type": "stream",
     "text": [
      "Epoch 1/20\n",
      "282/282 [==============================] - 19s 67ms/step - loss: 2.1474 - accuracy: 0.7019 - val_loss: 2.1597 - val_accuracy: 0.6942\n",
      "Epoch 2/20\n",
      "282/282 [==============================] - 18s 65ms/step - loss: 1.5282 - accuracy: 0.7733 - val_loss: 1.9416 - val_accuracy: 0.7264\n",
      "Epoch 3/20\n",
      "282/282 [==============================] - 18s 64ms/step - loss: 1.3091 - accuracy: 0.8045 - val_loss: 1.7569 - val_accuracy: 0.7488\n",
      "Epoch 4/20\n",
      "282/282 [==============================] - 18s 64ms/step - loss: 1.1767 - accuracy: 0.8205 - val_loss: 1.6797 - val_accuracy: 0.7580\n",
      "Epoch 5/20\n",
      "282/282 [==============================] - 18s 64ms/step - loss: 1.0790 - accuracy: 0.8317 - val_loss: 1.6264 - val_accuracy: 0.7616\n",
      "Epoch 6/20\n",
      "282/282 [==============================] - 18s 64ms/step - loss: 0.9990 - accuracy: 0.8418 - val_loss: 1.5946 - val_accuracy: 0.7695\n",
      "Epoch 7/20\n",
      "282/282 [==============================] - 18s 65ms/step - loss: 0.9342 - accuracy: 0.8504 - val_loss: 1.5834 - val_accuracy: 0.7692\n",
      "Epoch 8/20\n",
      "282/282 [==============================] - 18s 65ms/step - loss: 0.8795 - accuracy: 0.8586 - val_loss: 1.5615 - val_accuracy: 0.7731\n",
      "Epoch 9/20\n",
      "282/282 [==============================] - 18s 65ms/step - loss: 0.8348 - accuracy: 0.8665 - val_loss: 1.5742 - val_accuracy: 0.7729\n",
      "Epoch 00009: early stopping\n"
     ]
    }
   ],
   "source": [
    "history = model.fit([encoder_input_sequences, decoder_input_sequences], decoder_targets_one_hot,\n",
    "    batch_size=BATCH_SIZE,\n",
    "    epochs=20,\n",
    "    callbacks=[es],\n",
    "    validation_split=0.1,\n",
    ")\n"
   ]
  },
  {
   "cell_type": "code",
   "execution_count": null,
   "metadata": {
    "colab": {},
    "colab_type": "code",
    "id": "Qx1MYN2nxzEd"
   },
   "outputs": [],
   "source": [
    "model.save('seq2seq_eng-fra.h5')"
   ]
  },
  {
   "cell_type": "code",
   "execution_count": null,
   "metadata": {
    "colab": {
     "base_uri": "https://localhost:8080/",
     "height": 295
    },
    "colab_type": "code",
    "id": "4VJuggcCqthT",
    "outputId": "ae847efe-6103-46d4-d1b2-7127ff5b6cfe"
   },
   "outputs": [
    {
     "data": {
      "image/png": "[encoded data removed]",
      "text/plain": [
       "<Figure size 432x288 with 1 Axes>"
      ]
     },
     "metadata": {
      "needs_background": "light",
      "tags": []
     },
     "output_type": "display_data"
    }
   ],
   "source": [
    "import matplotlib.pyplot as plt\n",
    "%matplotlib inline\n",
    "plt.title('Model Loss')\n",
    "plt.plot(history.history['loss'])\n",
    "plt.plot(history.history['val_loss'])\n",
    "plt.ylabel('loss')\n",
    "plt.xlabel('epoch')\n",
    "plt.legend(['train', 'test'], loc='upper left')\n",
    "plt.show()"
   ]
  },
  {
   "cell_type": "code",
   "execution_count": null,
   "metadata": {
    "colab": {
     "base_uri": "https://localhost:8080/",
     "height": 295
    },
    "colab_type": "code",
    "id": "vLkAJ63xxD5q",
    "outputId": "516a1322-8ef7-4b26-d910-7c7ac9cf45a0"
   },
   "outputs": [
    {
     "data": {
      "image/png": "[encoded data removed]",
      "text/plain": [
       "<Figure size 432x288 with 1 Axes>"
      ]
     },
     "metadata": {
      "needs_background": "light",
      "tags": []
     },
     "output_type": "display_data"
    }
   ],
   "source": [
    " plt.title('Model Loss')\n",
    "plt.plot(history.history['loss'])\n",
    "plt.plot(history.history['val_loss'])\n",
    "plt.ylabel('loss')\n",
    "plt.xlabel('epoch')\n",
    "plt.legend(['train', 'test'], loc='upper left')\n",
    "plt.show()"
   ]
  },
  {
   "cell_type": "code",
   "execution_count": null,
   "metadata": {
    "colab": {},
    "colab_type": "code",
    "id": "xOMYDe0JyitN"
   },
   "outputs": [],
   "source": [
    "encoder_model = Model(encoder_inputs, encoder_states)\n",
    "model.compile(optimizer='rmsprop', loss='categorical_crossentropy')\n",
    "model.load_weights('seq2seq_eng-fra.h5')"
   ]
  },
  {
   "cell_type": "code",
   "execution_count": null,
   "metadata": {
    "colab": {},
    "colab_type": "code",
    "id": "kIFayPLDwfTl"
   },
   "outputs": [],
   "source": [
    "decoder_state_input_h = Input(shape=(LSTM_NODES,))\n",
    "decoder_state_input_c = Input(shape=(LSTM_NODES,))\n",
    "decoder_states_inputs = [decoder_state_input_h, decoder_state_input_c]\n",
    "\n",
    "decoder_inputs_single = Input(shape=(1,))\n",
    "decoder_inputs_single_x = decoder_embedding(decoder_inputs_single)"
   ]
  },
  {
   "cell_type": "code",
   "execution_count": null,
   "metadata": {
    "colab": {},
    "colab_type": "code",
    "id": "MgCeNWUOwpjW"
   },
   "outputs": [],
   "source": [
    "decoder_outputs, h, c = decoder_lstm(decoder_inputs_single_x, initial_state=decoder_states_inputs)\n"
   ]
  },
  {
   "cell_type": "code",
   "execution_count": null,
   "metadata": {
    "colab": {},
    "colab_type": "code",
    "id": "3_5YdURtwqMf"
   },
   "outputs": [],
   "source": [
    "decoder_states = [h, c]\n",
    "decoder_outputs = decoder_dense(decoder_outputs)"
   ]
  },
  {
   "cell_type": "code",
   "execution_count": null,
   "metadata": {
    "colab": {},
    "colab_type": "code",
    "id": "-ZhPgdzkwxNL"
   },
   "outputs": [],
   "source": [
    "decoder_model = Model(\n",
    "    [decoder_inputs_single] + decoder_states_inputs,\n",
    "    [decoder_outputs] + decoder_states\n",
    ")"
   ]
  },
  {
   "cell_type": "code",
   "execution_count": null,
   "metadata": {
    "colab": {},
    "colab_type": "code",
    "id": "sKUBy8F-wxwM"
   },
   "outputs": [],
   "source": [
    "from keras.utils import plot_model\n",
    "plot_model(decoder_model, to_file='model_plot_dec.png', show_shapes=True, show_layer_names=True)"
   ]
  },
  {
   "cell_type": "markdown",
   "metadata": {
    "colab_type": "text",
    "id": "yLK0AsmV9Isl"
   },
   "source": [
    "# Making Predictions\n"
   ]
  },
  {
   "cell_type": "markdown",
   "metadata": {
    "colab_type": "text",
    "id": "WjdGe0_DAfj-"
   },
   "source": [
    "we want our output to be a sequence of words in the French language. To do so, we need to convert the integers back to words. We will create new dictionaries for both inputs and outputs where the keys will be the integers and the corresponding values will be the words."
   ]
  },
  {
   "cell_type": "code",
   "execution_count": null,
   "metadata": {
    "colab": {},
    "colab_type": "code",
    "id": "1jBqwVmqw0N9"
   },
   "outputs": [],
   "source": [
    "idx2word_input = {v:k for k, v in word2idx_inputs.items()}\n",
    "idx2word_target = {v:k for k, v in word2idx_outputs.items()}"
   ]
  },
  {
   "cell_type": "markdown",
   "metadata": {
    "colab_type": "text",
    "id": "dn3v4cS_AjqZ"
   },
   "source": [
    "The method will accept an input-padded sequence English sentence (in the integer form) and will return the translated French sentence. "
   ]
  },
  {
   "cell_type": "code",
   "execution_count": null,
   "metadata": {
    "colab": {},
    "colab_type": "code",
    "id": "o9Wp-kQKw3Pg"
   },
   "outputs": [],
   "source": [
    "def translate_sentence(input_seq):\n",
    "    states_value = encoder_model.predict(input_seq)\n",
    "    target_seq = np.zeros((1, 1))\n",
    "    target_seq[0, 0] = word2idx_outputs['<sos>']\n",
    "    eos = word2idx_outputs['<eos>']\n",
    "    output_sentence = []\n",
    "\n",
    "    for _ in range(max_out_len):\n",
    "        output_tokens, h, c = decoder_model.predict([target_seq] + states_value)\n",
    "        idx = np.argmax(output_tokens[0, 0, :])\n",
    "\n",
    "        if eos == idx:\n",
    "            break\n",
    "\n",
    "        word = ''\n",
    "\n",
    "        if idx > 0:\n",
    "            word = idx2word_target[idx]\n",
    "            output_sentence.append(word)\n",
    "\n",
    "        target_seq[0, 0] = idx\n",
    "        states_value = [h, c]\n",
    "\n",
    "    return ' '.join(output_sentence)"
   ]
  },
  {
   "cell_type": "code",
   "execution_count": null,
   "metadata": {
    "colab": {
     "base_uri": "https://localhost:8080/",
     "height": 68
    },
    "colab_type": "code",
    "id": "5gIbCMeVxcn5",
    "outputId": "a88345a4-490d-45c4-a9fc-5b86b694367b"
   },
   "outputs": [
    {
     "name": "stdout",
     "output_type": "stream",
     "text": [
      "Input Language :  I was sent home.\n",
      "Actual translation :  J'ai été renvoyé à la maison. <eos>\n",
      "French translation :  j'ai été chez maison.\n"
     ]
    }
   ],
   "source": [
    "i = np.random.choice(len(input_sentences))\n",
    "input_seq = encoder_input_sequences[i:i+1]\n",
    "translation = translate_sentence(input_seq)\n",
    "print('Input Language : ', input_sentences[i])\n",
    "print('Actual translation : ', output_sentences[i])\n",
    "print('French translation : ', translation)"
   ]
  },
  {
   "cell_type": "code",
   "execution_count": null,
   "metadata": {
    "colab": {},
    "colab_type": "code",
    "id": "2YntiiVPGmqe"
   },
   "outputs": [],
   "source": []
  }
 ],
 "metadata": {
  "accelerator": "GPU",
  "colab": {
   "collapsed_sections": [],
   "name": "NMT_advance_fra-eng.ipynb",
   "provenance": [],
   "toc_visible": true
  },
  "kernelspec": {
   "display_name": "Python 3 (ipykernel)",
   "language": "python",
   "name": "python3"
  },
  "language_info": {
   "codemirror_mode": {
    "name": "ipython",
    "version": 3
   },
   "file_extension": ".py",
   "mimetype": "text/x-python",
   "name": "python",
   "nbconvert_exporter": "python",
   "pygments_lexer": "ipython3",
   "version": "3.10.2"
  }
 },
 "nbformat": 4,
 "nbformat_minor": 1
}
