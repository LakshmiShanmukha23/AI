{
 "cells": [
  {
   "cell_type": "code",
   "execution_count": 1,
   "id": "af1daf7a",
   "metadata": {},
   "outputs": [],
   "source": [
    "import numpy as np"
   ]
  },
  {
   "cell_type": "code",
   "execution_count": 2,
   "id": "8224d4d9",
   "metadata": {},
   "outputs": [],
   "source": [
    "import keras"
   ]
  },
  {
   "cell_type": "code",
   "execution_count": 3,
   "id": "7d62ffb3",
   "metadata": {},
   "outputs": [],
   "source": [
    "import tensorflow as tf"
   ]
  },
  {
   "cell_type": "code",
   "execution_count": 4,
   "id": "b86d7154",
   "metadata": {},
   "outputs": [],
   "source": [
    "from tensorflow.keras import Model"
   ]
  },
  {
   "cell_type": "code",
   "execution_count": 5,
   "id": "9ada1d97",
   "metadata": {},
   "outputs": [],
   "source": [
    "from tensorflow.keras.layers import Input,Embedding,Dense,Dropout,LayerNormalization"
   ]
  },
  {
   "cell_type": "code",
   "execution_count": 248,
   "id": "709b2c8a",
   "metadata": {},
   "outputs": [],
   "source": [
    "class LayerNormalization1(tf.keras.layers.Layer):\n",
    "    def __init__(self, parameter_shape, eps=1e-5):\n",
    "        super(LayerNormalization1, self).__init__()\n",
    "        self.parameter_shape = parameter_shape\n",
    "        self.eps = eps\n",
    "        self.gamma = tf.Variable(tf.ones(parameter_shape), trainable=True)\n",
    "        self.beta = tf.Variable(tf.zeros(parameter_shape), trainable=True)\n",
    "        \n",
    "    def call(self, inputs):\n",
    "        mean = tf.reduce_mean(inputs, axis=-1, keepdims=True)\n",
    "        var = tf.reduce_mean(tf.square(inputs - mean), axis=-1, keepdims=True)\n",
    "        std = tf.sqrt(var + self.eps)\n",
    "        y = (inputs - mean) / std\n",
    "        out = self.gamma * y + self.beta\n",
    "        return out"
   ]
  },
  {
   "cell_type": "code",
   "execution_count": 350,
   "id": "703f57bd",
   "metadata": {},
   "outputs": [],
   "source": [
    "def scaled_dot_product(q,k,v,mask=None):\n",
    "    scale=q.shape[-1]\n",
    "    k=tf.transpose(k,perm=(0,1,3,2))\n",
    "    scaled=tf.matmul(q,k)/np.sqrt(scale)\n",
    "    if mask is not None:\n",
    "        scaled+=mask\n",
    "    attention_wts=tf.nn.softmax(scaled,axis=-1)\n",
    "    values=tf.matmul(scaled,v)\n",
    "    return values,attention_wts"
   ]
  },
  {
   "cell_type": "code",
   "execution_count": 351,
   "id": "bac9d8c2",
   "metadata": {},
   "outputs": [],
   "source": [
    "class MultiHead_Attention(tf.keras.layers.Layer):\n",
    "    def __init__(self,no_of_heads,d_model):\n",
    "        super(MultiHead_Attention,self).__init__()\n",
    "        self.n_heads=no_of_heads\n",
    "        self.head_dims=d_model//no_of_heads\n",
    "        self.qkv=Dense(3*d_model)\n",
    "        self.dense=Dense(d_model)\n",
    "        \n",
    "    def call(self,inputs,mask=None):\n",
    "        batch_size,max_inp_len,d_model=inputs.shape\n",
    "        qkv=self.qkv(inputs)\n",
    "        desired_shape = (batch_size, max_inp_len, self.n_heads, 3 * self.head_dims)\n",
    "        qkv=tf.reshape(qkv,desired_shape)\n",
    "        qkv=tf.transpose(qkv,perm=(0,2,1,3))\n",
    "        q,k,v=tf.split(qkv,num_or_size_splits=3,axis=3)\n",
    "        v,attention_wts=scaled_dot_product(q,k,v)\n",
    "        v=tf.reshape(v,(batch_size,max_inp_len,self.n_heads*self.head_dims))\n",
    "        output=self.dense(v)\n",
    "        return output"
   ]
  },
  {
   "cell_type": "code",
   "execution_count": 352,
   "id": "44204fdc",
   "metadata": {},
   "outputs": [],
   "source": [
    "class FeedForward(tf.keras.layers.Layer):\n",
    "    def __init__(self,d_model,ffc,dropout):\n",
    "        super(FeedForward,self).__init__()\n",
    "        self.dense1=Dense(ffc,activation=\"relu\")\n",
    "        self.dense2=Dense(d_model)\n",
    "        self.dropout=Dropout(rate=dropout)\n",
    "        \n",
    "    def call(self,inputs,training=False):\n",
    "        if training==True:\n",
    "            print(\"Feed_forward:\",True)\n",
    "        x=self.dense1(inputs)\n",
    "        x=self.dropout(x,training=training)\n",
    "        x=self.dense2(x)\n",
    "        return x"
   ]
  },
  {
   "cell_type": "code",
   "execution_count": 353,
   "id": "7cde5662",
   "metadata": {},
   "outputs": [],
   "source": [
    "class LayerNormalization(tf.keras.layers.Layer):\n",
    "    def __init__(self, parameter_shape, eps=1e-5):\n",
    "        super(LayerNormalization, self).__init__()\n",
    "        self.parameter_shape = parameter_shape\n",
    "        self.eps = eps\n",
    "        self.gamma = self.add_weight(\"gamma\", shape=parameter_shape, initializer=\"ones\", trainable=True)\n",
    "        self.beta = self.add_weight(\"beta\", shape=parameter_shape, initializer=\"zeros\", trainable=True)\n",
    "        \n",
    "    def call(self, inputs):\n",
    "        mean = tf.reduce_mean(inputs, axis=-1, keepdims=True)\n",
    "        var = tf.reduce_mean(tf.square(inputs - mean), axis=-1, keepdims=True)\n",
    "        std = tf.sqrt(var + self.eps)\n",
    "        y = (inputs - mean) / std\n",
    "        out = self.gamma * y + self.beta\n",
    "        return out\n"
   ]
  },
  {
   "cell_type": "code",
   "execution_count": 354,
   "id": "be458629",
   "metadata": {},
   "outputs": [],
   "source": [
    "class Encoder_Layer(tf.keras.layers.Layer):\n",
    "    def __init__(self,num_of_heads,d_model,dff,dropout):\n",
    "        super(Encoder_Layer,self).__init__()\n",
    "        self.mha=MultiHead_Attention(num_of_heads,d_model)\n",
    "        self.dropout1=Dropout(rate=dropout)\n",
    "        self.ln1=LayerNormalization(d_model)\n",
    "        self.ff=FeedForward(d_model,dff,dropout)\n",
    "        self.dropout2=Dropout(rate=dropout)\n",
    "        self.ln2=LayerNormalization(d_model)\n",
    "        \n",
    "    def call(self,inputs,mask,training=False):\n",
    "        if training==True:\n",
    "            print(\"Encoder_Layer:\",True)\n",
    "        mha_output=self.mha(inputs,mask)\n",
    "        output_dropout1=self.dropout1(mha_output,training=training)\n",
    "        ln1_output=self.ln1(output_dropout1+inputs)\n",
    "        \n",
    "        ffn_output=self.ff(ln1_output,training)\n",
    "        ffn_output_dropout=self.dropout2(ffn_output,training=training)\n",
    "        ln2_output=self.ln2(ffn_output_dropout+ln1_output)\n",
    "        return ln2_output"
   ]
  },
  {
   "cell_type": "code",
   "execution_count": 355,
   "id": "65479941",
   "metadata": {},
   "outputs": [],
   "source": [
    "class Encoder(tf.keras.layers.Layer):\n",
    "    def __init__(self,num_of_heads,d_model,dff,dropout,num_layers):\n",
    "        super(Encoder,self).__init__()\n",
    "        self.encoder_layer=[Encoder_Layer(n,d_model,ffc,dropout) for _ in range(num_layers)]\n",
    "        \n",
    "    def call(self,inputs,mask=False,training=False):\n",
    "        if training==True:\n",
    "            print(\"Encoder:\",True)\n",
    "        x=inputs\n",
    "        for layer in self.encoder_layer:\n",
    "            x=layer(x,mask,training)\n",
    "        return x"
   ]
  },
  {
   "cell_type": "code",
   "execution_count": 356,
   "id": "b6503f1c",
   "metadata": {},
   "outputs": [],
   "source": [
    "class Decoder(tf.keras.layers.Layer):\n",
    "    def __init__(self,n_layers,d_model,dropout,no_heads,dff):\n",
    "        super(Decoder,self).__init__()\n",
    "        self.decoder_layers=[Decoder_Layer(d_model,dropout,no_heads,dff) for _ in range(n_layers)]\n",
    "        \n",
    "    def call(self,x,y,look_ahead_mask=None,padding_mask=None,training=False):\n",
    "        if training==True:\n",
    "            print(\"Decoder:\",True)\n",
    "        for layer in self.decoder_layers:\n",
    "            y=layer(x,y,look_ahead_mask,padding_mask,training)\n",
    "        return y         "
   ]
  },
  {
   "cell_type": "code",
   "execution_count": 357,
   "id": "3dfe30d5",
   "metadata": {},
   "outputs": [],
   "source": [
    "class Decoder_Layer(tf.keras.layers.Layer):\n",
    "    def __init__(self,d_model,dropout,no_heads,dff):\n",
    "        super(Decoder_Layer,self).__init__()\n",
    "        self.mha=MaskedMultiHead_Attention(no_heads,d_model)\n",
    "        self.dropout1=Dropout(rate=dropout)\n",
    "        self.norm1=LayerNormalization(d_model)\n",
    "        \n",
    "        self.mhca=MultiHeadCross_Attention(no_heads,d_model)\n",
    "        self.dropout2=Dropout(rate=dropout)\n",
    "        self.norm2=LayerNormalization(d_model)\n",
    "        \n",
    "        self.ff=FeedForward(d_model,dff,dropout)\n",
    "        self.dropout3=Dropout(rate=dropout)\n",
    "        self.norm3=LayerNormalization(d_model)\n",
    "        \n",
    "    def call(self,x,y,look_ahead_mask,padding_mask,training=False):\n",
    "        if training==True:\n",
    "            print(\"Decoder_Layer:\",True)\n",
    "        mha_output=self.mha(y,mask=look_ahead_mask)\n",
    "        mha_output_dropout=self.dropout1(mha_output,training=training)\n",
    "        norm1_output=self.norm1(mha_output_dropout+y)\n",
    "        \n",
    "        cmha_output=self.mhca(x,norm1_output,mask=padding_mask)\n",
    "        cmha_output_dropout=self.dropout2(cmha_output,training=training)\n",
    "        norm2_output=self.norm2(cmha_output_dropout+norm1_output)\n",
    "        \n",
    "        ff_output=self.ff(norm2_output,training)\n",
    "        ff_output_dropout=self.dropout3(ff_output,training=training)\n",
    "        norm3_output=self.norm3(ff_output_dropout+norm2_output)\n",
    "        return norm3_output"
   ]
  },
  {
   "cell_type": "code",
   "execution_count": 358,
   "id": "4d23e73d",
   "metadata": {},
   "outputs": [],
   "source": [
    "class MaskedMultiHead_Attention(tf.keras.layers.Layer):\n",
    "    def __init__(self,no_of_heads,d_model):\n",
    "        super(MaskedMultiHead_Attention,self).__init__()\n",
    "        self.n_heads=no_of_heads\n",
    "        self.head_dims=d_model//no_of_heads\n",
    "        self.qkv=Dense(3*d_model)\n",
    "        self.dense=Dense(d_model)\n",
    "        \n",
    "    def call(self,inputs,mask=None):\n",
    "        batch_size,max_inp_len,d_model=inputs.shape\n",
    "        qkv=self.qkv(inputs)\n",
    "        desired_shape = (batch_size, max_inp_len, self.n_heads, 3 * self.head_dims)\n",
    "        qkv=tf.reshape(qkv,desired_shape)\n",
    "        qkv=tf.transpose(qkv,perm=(0,2,1,3))\n",
    "        q,k,v=tf.split(qkv,num_or_size_splits=3,axis=3)\n",
    "        v,attention_wts=scaled_dot_product(q,k,v,mask)\n",
    "        v=tf.reshape(v,(batch_size,max_inp_len,self.n_heads*self.head_dims))\n",
    "        output=self.dense(v)\n",
    "        return output"
   ]
  },
  {
   "cell_type": "code",
   "execution_count": 359,
   "id": "1c7167e1",
   "metadata": {},
   "outputs": [],
   "source": [
    "class MultiHeadCross_Attention(tf.keras.layers.Layer):\n",
    "    def __init__(self,no_of_heads,d_model):\n",
    "        super(MultiHeadCross_Attention,self).__init__()\n",
    "        self.n_heads=no_of_heads\n",
    "        self.head_dims=d_model//no_of_heads\n",
    "        self.kv=Dense(2*d_model)\n",
    "        self.q=Dense(d_model)\n",
    "        self.dense=Dense(d_model)\n",
    "        \n",
    "    def call(self,x,y,mask=None):\n",
    "        batch_size,max_inp_len,d_model=x.shape\n",
    "        batch_size,max_tar_len,d_model=y.shape\n",
    "        kv=self.kv(x)\n",
    "        q=self.q(y)\n",
    "        kv=tf.reshape(kv,(batch_size, max_inp_len, self.n_heads, 2 * self.head_dims))\n",
    "        q=tf.reshape(q,(batch_size, max_tar_len, self.n_heads, self.head_dims))\n",
    "        kv=tf.transpose(kv,perm=(0,2,1,3))\n",
    "        q=tf.transpose(q,perm=(0,2,1,3))\n",
    "        k,v=tf.split(kv,num_or_size_splits=2,axis=3)\n",
    "        v,attention_wts=scaled_dot_product(q,k,v,mask)\n",
    "        v=tf.reshape(v,(batch_size,max_tar_len,d_model))\n",
    "        output=self.dense(v)\n",
    "        return output"
   ]
  },
  {
   "cell_type": "code",
   "execution_count": 406,
   "id": "7b5330f8",
   "metadata": {},
   "outputs": [],
   "source": [
    "class Transformer(tf.keras.Model):\n",
    "    def __init__(self,n_layers,dropout,dff,n_heads,d_model):\n",
    "        super(Transformer,self).__init__()\n",
    "        self.encoder=Encoder(n_heads,d_model,dff,dropout,n_layers)\n",
    "        self.decoder=Decoder(n_layers,d_model,dropout,n_heads,dff)\n",
    "        \n",
    "    def create_padding_mask(self,seq):\n",
    "        seq = tf.cast(tf.math.equal(seq, 0), tf.float32)\n",
    "        return seq[:,tf.newaxis,tf.newaxis,:]\n",
    "    \n",
    "    def create_look_ahead_mask(self,size):\n",
    "        mask = 1 - tf.linalg.band_part(tf.ones((size, size)), -1, 0)\n",
    "        return mask\n",
    "    \n",
    "    def create_masks(inputs, target):\n",
    "        enc_padding_mask = create_padding_mask(inputs)\n",
    "        dec_padding_mask = create_padding_mask(target)\n",
    "        look_ahead_mask = create_look_ahead_mask(tf.shape(target)[1])\n",
    "        dec_target_padding_mask = create_padding_mask(target)\n",
    "\n",
    "        combined_mask = tf.maximum(dec_target_padding_mask, look_ahead_mask)\n",
    "\n",
    "        return enc_padding_mask, combined_mask, dec_padding_mask\n",
    "    \n",
    "    def call(self,inputs,training=False):\n",
    "        x,y=inputs\n",
    "        enc_padding_mask,look_ahead_mask,dec_padding_mask=create_masks(x,y)\n",
    "        \n",
    "        encoder_op=self.encoder(x,mask=enc_padding_mask,training=training)\n",
    "        decoder_op=self.decoder(encoder_op,y,look_ahead_mask=dec_in_lookahead_mask,\n",
    "                            padding_mask=dec_in_padding_mask,training=training)\n",
    "        return decoder_op"
   ]
  },
  {
   "cell_type": "code",
   "execution_count": 407,
   "id": "1a8fca78",
   "metadata": {},
   "outputs": [],
   "source": [
    "transformer=Transformer(6,0.1,2048,8,512)"
   ]
  },
  {
   "cell_type": "code",
   "execution_count": 408,
   "id": "3d23a694",
   "metadata": {},
   "outputs": [],
   "source": [
    "x=np.random.random((100,57,512))\n",
    "y=np.random.random((100,60,512))"
   ]
  },
  {
   "cell_type": "code",
   "execution_count": null,
   "id": "5e677862",
   "metadata": {},
   "outputs": [],
   "source": [
    "output.shape"
   ]
  },
  {
   "cell_type": "code",
   "execution_count": null,
   "id": "5f19986e",
   "metadata": {},
   "outputs": [],
   "source": [
    "transformer.summary()"
   ]
  },
  {
   "cell_type": "code",
   "execution_count": 236,
   "id": "d12b78ad",
   "metadata": {},
   "outputs": [],
   "source": [
    "import tensorflow as tf\n",
    "from tensorflow import convert_to_tensor, string\n",
    "from tensorflow.keras.layers import TextVectorization, Embedding, Layer\n",
    "from tensorflow.data import Dataset\n",
    "import numpy as np\n",
    "import matplotlib.pyplot as plt"
   ]
  },
  {
   "cell_type": "code",
   "execution_count": 245,
   "id": "c5b82296",
   "metadata": {},
   "outputs": [],
   "source": [
    "technical_phrase = \"to understand machine learning algorithms you need\" +\\\n",
    "                   \" to understand concepts such as gradient of a function \"+\\\n",
    "                   \"Hessians of a matrix and optimization etc\"\n",
    "wise_phrase = \"patrick henry said give me liberty or give me death \"+\\\n",
    "              \"when he addressed the second virginia convention in march\"\n",
    "\n",
    "total_vocabulary = 200\n",
    "sequence_length = 20\n",
    "final_output_len = 50\n",
    "phrase_vectorization_layer = TextVectorization(\n",
    "                  output_sequence_length=sequence_length,\n",
    "                  max_tokens=total_vocabulary)\n",
    "# Learn the dictionary\n",
    "phrase_vectorization_layer.adapt([technical_phrase, wise_phrase])\n",
    "# Convert all sentences to tensors\n",
    "phrase_tensors = convert_to_tensor([technical_phrase, wise_phrase], \n",
    "                                   dtype=tf.string)\n",
    "# Use the word tensors to get vectorized phrases\n",
    "vectorized_phrases = phrase_vectorization_layer(phrase_tensors)\n"
   ]
  },
  {
   "cell_type": "code",
   "execution_count": 246,
   "id": "22518220",
   "metadata": {},
   "outputs": [
    {
     "data": {
      "text/plain": [
       "<tf.Tensor: shape=(2, 20), dtype=int64, numpy=\n",
       "array([[ 3,  2, 20, 22, 35,  8, 17,  3,  2, 32, 11, 33, 27,  4,  7, 28,\n",
       "        25,  4,  7, 18],\n",
       "       [14, 26, 13,  6,  5, 21, 15,  6,  5, 30,  9, 24, 12, 10, 31, 23,\n",
       "        19,  0,  0,  0]], dtype=int64)>"
      ]
     },
     "execution_count": 246,
     "metadata": {},
     "output_type": "execute_result"
    }
   ],
   "source": [
    "vectorized_phrases "
   ]
  },
  {
   "cell_type": "code",
   "execution_count": 238,
   "id": "eecdb88c",
   "metadata": {},
   "outputs": [],
   "source": [
    "class PositionEmbeddingLayer(tf.keras.layers.Layer):\n",
    "    def __init__(self, sequence_length, vocab_size, output_dim):\n",
    "        super(PositionEmbeddingLayer, self).__init__()\n",
    "        self.word_embedding_layer = Embedding(\n",
    "            input_dim=vocab_size, output_dim=output_dim\n",
    "        )\n",
    "        self.position_embedding_layer = Embedding(\n",
    "            input_dim=sequence_length, output_dim=output_dim\n",
    "        )\n",
    " \n",
    "    def call(self, inputs):        \n",
    "        position_indices = tf.range(tf.shape(inputs)[-1])\n",
    "        embedded_words = self.word_embedding_layer(inputs)\n",
    "        embedded_indices = self.position_embedding_layer(position_indices)\n",
    "        return embedded_words + embedded_indices"
   ]
  },
  {
   "cell_type": "code",
   "execution_count": 239,
   "id": "6776ae2d",
   "metadata": {},
   "outputs": [],
   "source": [
    "class PositionEmbeddingFixedWeights(tf.keras.layers.Layer):\n",
    "    def __init__(self, sequence_length, vocab_size, output_dim):\n",
    "        super(PositionEmbeddingFixedWeights, self).__init__()\n",
    "        word_embedding_matrix = self.get_position_encoding(vocab_size, output_dim)   \n",
    "        position_embedding_matrix = self.get_position_encoding(sequence_length, output_dim)                                          \n",
    "        self.word_embedding_layer = Embedding(\n",
    "            input_dim=vocab_size, output_dim=output_dim,\n",
    "            weights=[word_embedding_matrix],\n",
    "            trainable=False\n",
    "        )\n",
    "        self.position_embedding_layer = Embedding(\n",
    "            input_dim=sequence_length, output_dim=output_dim,\n",
    "            weights=[position_embedding_matrix],\n",
    "            trainable=False\n",
    "        )\n",
    "             \n",
    "    def get_position_encoding(self, seq_len, d, n=10000):\n",
    "        P = np.zeros((seq_len, d))\n",
    "        for k in range(seq_len):\n",
    "            for i in np.arange(int(d/2)):\n",
    "                denominator = np.power(n, 2*i/d)\n",
    "                P[k, 2*i] = np.sin(k/denominator)\n",
    "                P[k, 2*i+1] = np.cos(k/denominator)\n",
    "        return P\n",
    " \n",
    " \n",
    "    def call(self, inputs):        \n",
    "        position_indices = tf.range(tf.shape(inputs)[-1])\n",
    "        embedded_words = self.word_embedding_layer(inputs)\n",
    "        embedded_indices = self.position_embedding_layer(position_indices)\n",
    "        return embedded_words + embedded_indices"
   ]
  },
  {
   "cell_type": "code",
   "execution_count": 240,
   "id": "94eb9b54",
   "metadata": {},
   "outputs": [],
   "source": [
    "random_weights_embedding_layer = PositionEmbeddingLayer(sequence_length, \n",
    "                                                        total_vocabulary,\n",
    "                                                        final_output_len)\n",
    "fixed_weights_embedding_layer = PositionEmbeddingFixedWeights(sequence_length, \n",
    "                                                        total_vocabulary,\n",
    "                                                        final_output_len)\n",
    "random_embedding = random_weights_embedding_layer(vectorized_phrases)\n",
    "fixed_embedding = fixed_weights_embedding_layer(vectorized_phrases)"
   ]
  },
  {
   "cell_type": "code",
   "execution_count": 241,
   "id": "a73d50f0",
   "metadata": {},
   "outputs": [
    {
     "data": {
      "image/png": "[encoded data removed]",
      "text/plain": [
       "<Figure size 1080x360 with 4 Axes>"
      ]
     },
     "metadata": {
      "needs_background": "light"
     },
     "output_type": "display_data"
    }
   ],
   "source": [
    "fig = plt.figure(figsize=(15, 5))    \n",
    "title = [\"Tech Phrase\", \"Wise Phrase\"]\n",
    "for i in range(2):\n",
    "    ax = plt.subplot(1, 2, 1+i)\n",
    "    matrix = tf.reshape(random_embedding[i, :, :], (sequence_length, final_output_len))\n",
    "    cax = ax.matshow(matrix)\n",
    "    plt.gcf().colorbar(cax)   \n",
    "    plt.title(title[i], y=1.2)\n",
    "fig.suptitle(\"Random Embedding\")\n",
    "plt.show()"
   ]
  },
  {
   "cell_type": "code",
   "execution_count": 242,
   "id": "666c045b",
   "metadata": {},
   "outputs": [
    {
     "data": {
      "image/png": "[encoded data removed]",
      "text/plain": [
       "<Figure size 1080x360 with 4 Axes>"
      ]
     },
     "metadata": {
      "needs_background": "light"
     },
     "output_type": "display_data"
    }
   ],
   "source": [
    "fig = plt.figure(figsize=(15, 5))    \n",
    "title = [\"Tech Phrase\", \"Wise Phrase\"]\n",
    "for i in range(2):\n",
    "    ax = plt.subplot(1, 2, 1+i)\n",
    "    matrix = tf.reshape(fixed_embedding[i, :, :], (sequence_length, final_output_len))\n",
    "    cax = ax.matshow(matrix)\n",
    "    plt.gcf().colorbar(cax)   \n",
    "    plt.title(title[i], y=1.2)\n",
    "fig.suptitle(\"Fixed Weight Embedding from Attention is All You Need\")\n",
    "plt.show()"
   ]
  },
  {
   "cell_type": "code",
   "execution_count": null,
   "id": "02dac950",
   "metadata": {},
   "outputs": [],
   "source": []
  },
  {
   "cell_type": "code",
   "execution_count": 416,
   "id": "a875f163",
   "metadata": {},
   "outputs": [],
   "source": [
    "def create_padding_mask(seq):\n",
    "        seq = tf.cast(tf.math.equal(seq, 0), tf.float32)\n",
    "        return seq[:,tf.newaxis,tf.newaxis,:]\n",
    "    \n",
    "def create_look_ahead_mask(size):\n",
    "    mask = 1 - tf.linalg.band_part(tf.ones((size, size)), -1, 0)\n",
    "    return mask\n",
    "\n",
    "def create_masks(inputs,target):\n",
    "    enc_padding_mask = create_padding_mask(inputs)\n",
    "    dec_padding_mask = create_padding_mask(target)\n",
    "    look_ahead_mask = create_look_ahead_mask(tf.shape(target)[1])\n",
    "    dec_target_padding_mask = create_padding_mask(target)\n",
    "\n",
    "    combined_mask = tf.maximum(dec_target_padding_mask, look_ahead_mask)\n",
    "\n",
    "    return enc_padding_mask, combined_mask, dec_padding_mask"
   ]
  },
  {
   "cell_type": "code",
   "execution_count": 417,
   "id": "577faa1a",
   "metadata": {},
   "outputs": [],
   "source": [
    "x=np.random.random((30,10))\n",
    "y=np.random.random((30,20))"
   ]
  },
  {
   "cell_type": "code",
   "execution_count": 418,
   "id": "5166307f",
   "metadata": {},
   "outputs": [],
   "source": [
    "p,q,r=create_masks(x,y)"
   ]
  },
  {
   "cell_type": "code",
   "execution_count": null,
   "id": "9b9ef7fe",
   "metadata": {},
   "outputs": [],
   "source": []
  }
 ],
 "metadata": {
  "kernelspec": {
   "display_name": "Python 3 (ipykernel)",
   "language": "python",
   "name": "python3"
  },
  "language_info": {
   "codemirror_mode": {
    "name": "ipython",
    "version": 3
   },
   "file_extension": ".py",
   "mimetype": "text/x-python",
   "name": "python",
   "nbconvert_exporter": "python",
   "pygments_lexer": "ipython3",
   "version": "3.10.2"
  }
 },
 "nbformat": 4,
 "nbformat_minor": 5
}
